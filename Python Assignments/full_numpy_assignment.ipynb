{
  "cells": [
    {
      "cell_type": "markdown",
      "metadata": {
        "id": "Y4wuS60lJSVQ"
      },
      "source": [
        "## Numpy assignment"
      ]
    },
    {
      "cell_type": "markdown",
      "metadata": {
        "id": "cYy8-Wq3JSVR"
      },
      "source": [
        "## 1 Preliminaries"
      ]
    },
    {
      "cell_type": "code",
      "execution_count": 52,
      "metadata": {
        "id": "5Z5-LLD_JSVS"
      },
      "outputs": [],
      "source": [
        "# The usual preamble\n",
        "import numpy as np"
      ]
    },
    {
      "cell_type": "markdown",
      "metadata": {
        "id": "MN3eCTN8JSVV"
      },
      "source": [
        "## Numpy"
      ]
    },
    {
      "cell_type": "code",
      "execution_count": 53,
      "metadata": {
        "id": "TCHqsJXxJSVW"
      },
      "outputs": [],
      "source": [
        "import numpy as np\n",
        "x = np.array([2,3,1,0])\n",
        "y =np.arange(10)\n",
        "z = 2 + x"
      ]
    },
    {
      "cell_type": "markdown",
      "metadata": {
        "id": "n1xzCtm3JSVY"
      },
      "source": [
        "Write expressions in the next cell to retrieve 1 from `x`, 3 from `y`, and 3 from `z`."
      ]
    },
    {
      "cell_type": "code",
      "execution_count": 54,
      "metadata": {
        "id": "96FDYv0oJSVZ",
        "outputId": "a1e62116-10a8-4bcd-d795-34b5b964cdf6",
        "colab": {
          "base_uri": "https://localhost:8080/"
        }
      },
      "outputs": [
        {
          "output_type": "stream",
          "name": "stdout",
          "text": [
            "1\n",
            "3\n",
            "3\n"
          ]
        }
      ],
      "source": [
        "print(x[2]) #prints the 3rd element of 1D array x\n",
        "print(y[3]) #prints the 4th element of 1D array y\n",
        "print(z[2]) #prints the 3rd element of 1D array z"
      ]
    },
    {
      "cell_type": "markdown",
      "metadata": {
        "id": "t17iimSbJSVb"
      },
      "source": [
        "In the next cell, write an expression that generates a 5 by 5 array filled with zeros, and another  that generates a 1 by 1 array with a 1 in it."
      ]
    },
    {
      "cell_type": "code",
      "execution_count": 55,
      "metadata": {
        "id": "s8k51GlRJSVb",
        "outputId": "93d54054-3bcf-4930-e0cd-059cc5b1f6ee",
        "colab": {
          "base_uri": "https://localhost:8080/"
        }
      },
      "outputs": [
        {
          "output_type": "execute_result",
          "data": {
            "text/plain": [
              "array([[0., 0., 0., 0., 0.],\n",
              "       [0., 0., 0., 0., 0.],\n",
              "       [0., 0., 0., 0., 0.],\n",
              "       [0., 0., 0., 0., 0.],\n",
              "       [0., 0., 0., 0., 0.]])"
            ]
          },
          "metadata": {},
          "execution_count": 55
        }
      ],
      "source": [
        "X = np.zeros( (5,5) ) # np.zeros generates 2D array of 5x5 filled with zero\n",
        "X"
      ]
    },
    {
      "cell_type": "code",
      "execution_count": 56,
      "metadata": {
        "id": "TmHT44ZcfE4E",
        "outputId": "d44dbc41-a7d3-4f85-f05b-e8f722f2adc1",
        "colab": {
          "base_uri": "https://localhost:8080/"
        }
      },
      "outputs": [
        {
          "output_type": "execute_result",
          "data": {
            "text/plain": [
              "array([[1.]])"
            ]
          },
          "metadata": {},
          "execution_count": 56
        }
      ],
      "source": [
        "Y = np.ones( (1,1) ) # np.zeros generates 2D array of 1x1 filled with ones\n",
        "Y "
      ]
    },
    {
      "cell_type": "markdown",
      "metadata": {
        "id": "wSbS2Fo5JSVe"
      },
      "source": [
        "<style>\n",
        "    @font-face {\n",
        "        font-family: \"Computer Modern\";\n",
        "        src: url('http://mirrors.ctan.org/fonts/cm-unicode/fonts/otf/cmunss.otf');\n",
        "    }\n",
        "    div.cell{\n",
        "        width:800px;\n",
        "        margin-left:16% !important;\n",
        "        margin-right:auto;\n",
        "    }\n",
        "    h1 {\n",
        "        font-family: Helvetica, serif;\n",
        "    }\n",
        "    h4{\n",
        "        margin-top:12px;\n",
        "        margin-bottom: 3px;\n",
        "       }\n",
        "    div.text_cell_render{\n",
        "        font-family: Computer Modern, \"Helvetica Neue\", Arial, Helvetica, Geneva, sans-serif;\n",
        "        line-height: 145%;\n",
        "        font-size: 130%;\n",
        "        width:800px;\n",
        "        margin-left:auto;\n",
        "        margin-right:auto;\n",
        "    }\n",
        "    .CodeMirror{\n",
        "            font-family: \"Source Code Pro\", source-code-pro,Consolas, monospace;\n",
        "    }\n",
        "    .text_cell_render h5 {\n",
        "        font-weight: 300;\n",
        "        font-size: 22pt;\n",
        "        color: #4057A1;\n",
        "        font-style: italic;\n",
        "        margin-bottom: .5em;\n",
        "        margin-top: 0.5em;\n",
        "        display: block;\n",
        "    }\n",
        "    \n",
        "    .warning{\n",
        "        color: rgb( 240, 20, 20 )\n",
        "        }  "
      ]
    },
    {
      "cell_type": "markdown",
      "metadata": {
        "id": "7BvfGKHjJSVe"
      },
      "source": [
        "In the next cell, write an expression that uses an assignment to a splice to make all the negative values in `a` be 0. "
      ]
    },
    {
      "cell_type": "code",
      "execution_count": 57,
      "metadata": {
        "id": "wvKZPhcAJSVe",
        "outputId": "bb81d0b4-e19e-4dbd-f74f-f34e0aa8e077",
        "colab": {
          "base_uri": "https://localhost:8080/"
        }
      },
      "outputs": [
        {
          "output_type": "stream",
          "name": "stdout",
          "text": [
            "[ 7  6  5  4  3  2  1  0 -1 -2 -3]\n",
            "[7 6 5 4 3 2 1 0 0 0 0]\n"
          ]
        }
      ],
      "source": [
        "a = np.arange(10,-1,-1) - 3\n",
        "print(a)\n",
        "a[8:] = 0 # It will make all the elements zero for which value is negative\n",
        "print(a)"
      ]
    },
    {
      "cell_type": "markdown",
      "metadata": {
        "id": "JwHo7yxqfE4G"
      },
      "source": [
        "One way to do this is:"
      ]
    },
    {
      "cell_type": "code",
      "execution_count": 58,
      "metadata": {
        "id": "SAw8c4lxfE4G",
        "outputId": "644e03ff-57e5-4164-a13d-88b84b32f96a",
        "colab": {
          "base_uri": "https://localhost:8080/"
        }
      },
      "outputs": [
        {
          "output_type": "execute_result",
          "data": {
            "text/plain": [
              "array([7, 6, 5, 4, 3, 2, 1, 0, 0, 0, 0])"
            ]
          },
          "metadata": {},
          "execution_count": 58
        }
      ],
      "source": [
        "a[-3:] = 0\n",
        "a"
      ]
    },
    {
      "cell_type": "markdown",
      "metadata": {
        "id": "PZLjWH6zfE4H"
      },
      "source": [
        "But see if you can do it by writing an expression that make all negative values in `a`\n",
        "be 0 no matter where they occur in `a`.  Hint: Use a Boolean conditipn"
      ]
    },
    {
      "cell_type": "code",
      "execution_count": 59,
      "metadata": {
        "id": "nfhpWLgmfE4H",
        "outputId": "8527c30c-d848-47d8-db7e-1dd6a9898f7f",
        "colab": {
          "base_uri": "https://localhost:8080/"
        }
      },
      "outputs": [
        {
          "output_type": "stream",
          "name": "stdout",
          "text": [
            "[ 7  6  5  4  3  2  1  0 -1 -2 -3]\n",
            "[7 6 5 4 3 2 1 0 0 0 0]\n"
          ]
        }
      ],
      "source": [
        "a = np.arange(10,-1,-1) - 3\n",
        "print(a)\n",
        "a = np.where(a < 0, 0, a)\n",
        "print(a)"
      ]
    },
    {
      "cell_type": "markdown",
      "metadata": {
        "id": "FZiEuSrZfE4H"
      },
      "source": [
        "Another option is to use `numpy` `where`, combined with an assignment.\n",
        "The form is\n",
        "\n",
        "```\n",
        ">>> np.where(condition, x, y)\n",
        "```\n",
        "\n",
        "where `condition`, `x` and `y` are all arrays of the same size (or are broadcastable to the same size).\n",
        "Return an array containing the members of `x` for which `condition` is `True`; otherwise return the corresponding member  of `y`.  It can be read \"`x` where `condition`, else\n",
        "`y`\".\n",
        "\n",
        "```\n",
        ">>> a = np.array([1, 4.1, 9, 16])\n",
        ">>> b = np.array([1,2,3,4])\n",
        ">>> np.where((np.sqrt(a) - b) == 0,np.sqrt(a),b)\n",
        "array([1., 2., 3., 4.])\n",
        "```"
      ]
    },
    {
      "cell_type": "code",
      "execution_count": 60,
      "metadata": {
        "id": "LjnOCk-OfE4H"
      },
      "outputs": [],
      "source": [
        "a = np.arange(10,-1,-1) - 3\n",
        " # it uses the where clause to replace negative elements with 0 in an array\n",
        "a = np.where(a < 0, 0, a)"
      ]
    },
    {
      "cell_type": "code",
      "execution_count": 61,
      "metadata": {
        "id": "4ZSV2c-cfE4H",
        "outputId": "d8e77294-dc4d-47a7-f703-cb2788b3d871",
        "colab": {
          "base_uri": "https://localhost:8080/"
        }
      },
      "outputs": [
        {
          "output_type": "execute_result",
          "data": {
            "text/plain": [
              "array([7, 6, 5, 4, 3, 2, 1, 0, 0, 0, 0])"
            ]
          },
          "metadata": {},
          "execution_count": 61
        }
      ],
      "source": [
        "a"
      ]
    },
    {
      "cell_type": "markdown",
      "metadata": {
        "id": "m7NpYSRgJSVg"
      },
      "source": [
        "In the next cell write an expression that produces an array containing result of multiplying 7 by each of the first 12 integers (1 - 12). There's a hard way to do this and an easy way.  The easy way uses elementwise operations."
      ]
    },
    {
      "cell_type": "code",
      "execution_count": 62,
      "metadata": {
        "id": "7yiKGc0HJSVh",
        "outputId": "453f8384-688f-435d-a570-2c6680185155",
        "colab": {
          "base_uri": "https://localhost:8080/"
        }
      },
      "outputs": [
        {
          "output_type": "execute_result",
          "data": {
            "text/plain": [
              "array([ 7, 14, 21, 28, 35, 42, 49, 56, 63, 70, 77, 84])"
            ]
          },
          "metadata": {},
          "execution_count": 62
        }
      ],
      "source": [
        "7 * np.arange(1,13)"
      ]
    },
    {
      "cell_type": "code",
      "source": [
        "b = np.arange(1,40,2)\n",
        "print(b) # Created an array of of 20 elements\n",
        "\n",
        "# First 12 elements of b are multiplied by 7 with elementwise operation.\n",
        "b[:12] * 7 "
      ],
      "metadata": {
        "id": "CLTZMBV8hwny",
        "outputId": "635824ac-ad2d-4320-84b7-00f92cd5bcf6",
        "colab": {
          "base_uri": "https://localhost:8080/"
        }
      },
      "execution_count": 63,
      "outputs": [
        {
          "output_type": "stream",
          "name": "stdout",
          "text": [
            "[ 1  3  5  7  9 11 13 15 17 19 21 23 25 27 29 31 33 35 37 39]\n"
          ]
        },
        {
          "output_type": "execute_result",
          "data": {
            "text/plain": [
              "array([  7,  21,  35,  49,  63,  77,  91, 105, 119, 133, 147, 161])"
            ]
          },
          "metadata": {},
          "execution_count": 63
        }
      ]
    },
    {
      "cell_type": "markdown",
      "metadata": {
        "id": "o2TyTiOGJSVj"
      },
      "source": [
        "## 2D arrays"
      ]
    },
    {
      "cell_type": "code",
      "execution_count": 64,
      "metadata": {
        "id": "FzCLv6SiJSVj"
      },
      "outputs": [],
      "source": [
        "import numpy as np\n",
        "room_matrix = \\\n",
        "np.array(\n",
        "[[6,  3, 4, 1],\n",
        "[5,  2, 3, 2],\n",
        "[8,  3, 6, 2],\n",
        "[5,  1, 3, 1],\n",
        "[10, 4, 7, 2]])\n",
        "\n",
        "cost_vector = np.array([40, 175, 90, 450])"
      ]
    },
    {
      "cell_type": "markdown",
      "metadata": {
        "id": "XjUwZF0uJSVl"
      },
      "source": [
        "In the next cell write an express that retrieves the last column of `room_matrix`."
      ]
    },
    {
      "cell_type": "code",
      "execution_count": 65,
      "metadata": {
        "id": "QLIMA6dDJSVm",
        "outputId": "2b31477f-22cb-448c-ccc4-a2ac2481534a",
        "colab": {
          "base_uri": "https://localhost:8080/"
        }
      },
      "outputs": [
        {
          "output_type": "execute_result",
          "data": {
            "text/plain": [
              "array([1, 2, 2, 1, 2])"
            ]
          },
          "metadata": {},
          "execution_count": 65
        }
      ],
      "source": [
        "# prints the values of last colomn of room_matrix array\n",
        "room_matrix[:,3] "
      ]
    },
    {
      "cell_type": "markdown",
      "metadata": {
        "id": "oTcVUAwZJSVo"
      },
      "source": [
        "In the next cell, write an expression that retrieves the third row of `room_matrix`."
      ]
    },
    {
      "cell_type": "code",
      "execution_count": 66,
      "metadata": {
        "id": "NPYhI-MNJSVo",
        "outputId": "624e999e-63f3-4240-9754-6178841f9e0f",
        "colab": {
          "base_uri": "https://localhost:8080/"
        }
      },
      "outputs": [
        {
          "output_type": "execute_result",
          "data": {
            "text/plain": [
              "array([8, 3, 6, 2])"
            ]
          },
          "metadata": {},
          "execution_count": 66
        }
      ],
      "source": [
        "# This will return 3rd row (with index 2) of room_matrix array\n",
        "room_matrix[2,:] "
      ]
    },
    {
      "cell_type": "markdown",
      "metadata": {
        "id": "g7ukLsINJSVq"
      },
      "source": [
        "In the next cell write an expression that retrieves the first two elements of the second column of `room_matrix`"
      ]
    },
    {
      "cell_type": "code",
      "execution_count": 67,
      "metadata": {
        "id": "kBlJwiNHJSVq",
        "outputId": "907ea173-fba7-4eac-d0c9-acbde02c6393",
        "colab": {
          "base_uri": "https://localhost:8080/"
        }
      },
      "outputs": [
        {
          "output_type": "execute_result",
          "data": {
            "text/plain": [
              "array([3, 2])"
            ]
          },
          "metadata": {},
          "execution_count": 67
        }
      ],
      "source": [
        "# This will return 1st two elements of 3rd row (with index 2) of room_matrix array\n",
        "room_matrix[:2,1] "
      ]
    },
    {
      "cell_type": "markdown",
      "metadata": {
        "id": "PFL_HNz8JSVs"
      },
      "source": [
        "In the next cell write an expression that retrieves the following submatrix from `room_matrix`:\n",
        "\n",
        "```\n",
        "array([[2,3],\n",
        "       [3,6]])\n",
        "```"
      ]
    },
    {
      "cell_type": "code",
      "execution_count": 68,
      "metadata": {
        "id": "4pJVgJJAJSVt",
        "outputId": "7b911093-14a6-4e2e-a69f-4c004dbec430",
        "colab": {
          "base_uri": "https://localhost:8080/"
        }
      },
      "outputs": [
        {
          "output_type": "execute_result",
          "data": {
            "text/plain": [
              "array([[2, 3],\n",
              "       [3, 6]])"
            ]
          },
          "metadata": {},
          "execution_count": 68
        }
      ],
      "source": [
        "# This will return 2nd and 3rd row elements of 2nd and 3rd colomns\n",
        "room_matrix[1:3,1:3]"
      ]
    },
    {
      "cell_type": "markdown",
      "metadata": {
        "id": "5Rn-NzcTJSVv"
      },
      "source": [
        "In the next cell, write an expression that returns a Boolean array that identifies the members of `room_matrix` which are greater than or equal to 7."
      ]
    },
    {
      "cell_type": "code",
      "execution_count": 69,
      "metadata": {
        "id": "qOJ3bDQzJSVv",
        "outputId": "a458bec7-75df-420a-f8ae-b9295b9a212f",
        "colab": {
          "base_uri": "https://localhost:8080/"
        }
      },
      "outputs": [
        {
          "output_type": "stream",
          "name": "stdout",
          "text": [
            "[[False False False False]\n",
            " [False False False False]\n",
            " [ True False False False]\n",
            " [False False False False]\n",
            " [ True False  True False]]\n"
          ]
        }
      ],
      "source": [
        "# This returns a boolean array of room_matrix which identifies the elements greater than or equal to 7\n",
        "print(room_matrix >= 7) "
      ]
    },
    {
      "cell_type": "markdown",
      "metadata": {
        "id": "C2DSqCenJp_s"
      },
      "source": [
        "In the next cell, write an expression that produces an array containing the items in `room_matrix` which are greater than or equal to 7.  Note:  This question and the previous question do not have the same answer."
      ]
    },
    {
      "cell_type": "code",
      "execution_count": 70,
      "metadata": {
        "id": "t16Mz9oCfE4J",
        "outputId": "a968e7aa-1efe-47d2-cb75-0ca0a9e7ddc5",
        "colab": {
          "base_uri": "https://localhost:8080/"
        }
      },
      "outputs": [
        {
          "output_type": "stream",
          "name": "stdout",
          "text": [
            "[ 8 10  7]\n"
          ]
        }
      ],
      "source": [
        "# This returns an array of elements of room_matrix for which the value greater than or equal to 7\n",
        "print(room_matrix[room_matrix >= 7])"
      ]
    },
    {
      "cell_type": "markdown",
      "metadata": {
        "id": "wwR0EsO5JSVx"
      },
      "source": [
        "## Iris data exercise"
      ]
    },
    {
      "cell_type": "markdown",
      "metadata": {
        "id": "-sAlD8q_JSVx"
      },
      "source": [
        "In the next cell, use a Boolean mask to return all the rows of the iris data set whose column 3 value is greater than 1.8 (I mean the column whose **index** is 3, the last column).\n",
        "The cell is not empty because you have been provided with the code which loads the data.\n",
        "So you should keep that code and **add to it**."
      ]
    },
    {
      "cell_type": "code",
      "execution_count": 71,
      "metadata": {
        "id": "RWsm4jcbJSVy"
      },
      "outputs": [],
      "source": [
        "from sklearn.datasets import load_iris\n",
        "data = load_iris()\n",
        "features = data['data']\n",
        "target = data['target']"
      ]
    },
    {
      "cell_type": "code",
      "source": [
        "# Returns all the rows of iris data whose last column value is greater than 1.8. It uses the boolean mask.\n",
        "print((features[features[:,3] > 1.8]).shape)\n",
        "features[features[:,3] > 1.8]"
      ],
      "metadata": {
        "id": "68bKsDgZlfBg",
        "outputId": "512020fe-0df9-40be-b776-f1b44d2086b5",
        "colab": {
          "base_uri": "https://localhost:8080/"
        }
      },
      "execution_count": 72,
      "outputs": [
        {
          "output_type": "stream",
          "name": "stdout",
          "text": [
            "(34, 4)\n"
          ]
        },
        {
          "output_type": "execute_result",
          "data": {
            "text/plain": [
              "array([[6.3, 3.3, 6. , 2.5],\n",
              "       [5.8, 2.7, 5.1, 1.9],\n",
              "       [7.1, 3. , 5.9, 2.1],\n",
              "       [6.5, 3. , 5.8, 2.2],\n",
              "       [7.6, 3. , 6.6, 2.1],\n",
              "       [7.2, 3.6, 6.1, 2.5],\n",
              "       [6.5, 3.2, 5.1, 2. ],\n",
              "       [6.4, 2.7, 5.3, 1.9],\n",
              "       [6.8, 3. , 5.5, 2.1],\n",
              "       [5.7, 2.5, 5. , 2. ],\n",
              "       [5.8, 2.8, 5.1, 2.4],\n",
              "       [6.4, 3.2, 5.3, 2.3],\n",
              "       [7.7, 3.8, 6.7, 2.2],\n",
              "       [7.7, 2.6, 6.9, 2.3],\n",
              "       [6.9, 3.2, 5.7, 2.3],\n",
              "       [5.6, 2.8, 4.9, 2. ],\n",
              "       [7.7, 2.8, 6.7, 2. ],\n",
              "       [6.7, 3.3, 5.7, 2.1],\n",
              "       [6.4, 2.8, 5.6, 2.1],\n",
              "       [7.4, 2.8, 6.1, 1.9],\n",
              "       [7.9, 3.8, 6.4, 2. ],\n",
              "       [6.4, 2.8, 5.6, 2.2],\n",
              "       [7.7, 3. , 6.1, 2.3],\n",
              "       [6.3, 3.4, 5.6, 2.4],\n",
              "       [6.9, 3.1, 5.4, 2.1],\n",
              "       [6.7, 3.1, 5.6, 2.4],\n",
              "       [6.9, 3.1, 5.1, 2.3],\n",
              "       [5.8, 2.7, 5.1, 1.9],\n",
              "       [6.8, 3.2, 5.9, 2.3],\n",
              "       [6.7, 3.3, 5.7, 2.5],\n",
              "       [6.7, 3. , 5.2, 2.3],\n",
              "       [6.3, 2.5, 5. , 1.9],\n",
              "       [6.5, 3. , 5.2, 2. ],\n",
              "       [6.2, 3.4, 5.4, 2.3]])"
            ]
          },
          "metadata": {},
          "execution_count": 72
        }
      ]
    },
    {
      "cell_type": "markdown",
      "metadata": {
        "id": "30mkWyeOJSV0"
      },
      "source": [
        "In the next cell, use a Boolean array to return all the rows representing members of class 2 in the iris data set (the Boolean array is not the answer; it is used in retrieving the answer)."
      ]
    },
    {
      "cell_type": "code",
      "execution_count": 73,
      "metadata": {
        "id": "b9epMASDJSV0",
        "outputId": "5a461044-346a-4979-a2d8-ae8302d5c5cc",
        "colab": {
          "base_uri": "https://localhost:8080/"
        }
      },
      "outputs": [
        {
          "output_type": "stream",
          "name": "stdout",
          "text": [
            "(50, 4)\n"
          ]
        },
        {
          "output_type": "execute_result",
          "data": {
            "text/plain": [
              "array([[6.3, 3.3, 6. , 2.5],\n",
              "       [5.8, 2.7, 5.1, 1.9],\n",
              "       [7.1, 3. , 5.9, 2.1],\n",
              "       [6.3, 2.9, 5.6, 1.8],\n",
              "       [6.5, 3. , 5.8, 2.2],\n",
              "       [7.6, 3. , 6.6, 2.1],\n",
              "       [4.9, 2.5, 4.5, 1.7],\n",
              "       [7.3, 2.9, 6.3, 1.8],\n",
              "       [6.7, 2.5, 5.8, 1.8],\n",
              "       [7.2, 3.6, 6.1, 2.5],\n",
              "       [6.5, 3.2, 5.1, 2. ],\n",
              "       [6.4, 2.7, 5.3, 1.9],\n",
              "       [6.8, 3. , 5.5, 2.1],\n",
              "       [5.7, 2.5, 5. , 2. ],\n",
              "       [5.8, 2.8, 5.1, 2.4],\n",
              "       [6.4, 3.2, 5.3, 2.3],\n",
              "       [6.5, 3. , 5.5, 1.8],\n",
              "       [7.7, 3.8, 6.7, 2.2],\n",
              "       [7.7, 2.6, 6.9, 2.3],\n",
              "       [6. , 2.2, 5. , 1.5],\n",
              "       [6.9, 3.2, 5.7, 2.3],\n",
              "       [5.6, 2.8, 4.9, 2. ],\n",
              "       [7.7, 2.8, 6.7, 2. ],\n",
              "       [6.3, 2.7, 4.9, 1.8],\n",
              "       [6.7, 3.3, 5.7, 2.1],\n",
              "       [7.2, 3.2, 6. , 1.8],\n",
              "       [6.2, 2.8, 4.8, 1.8],\n",
              "       [6.1, 3. , 4.9, 1.8],\n",
              "       [6.4, 2.8, 5.6, 2.1],\n",
              "       [7.2, 3. , 5.8, 1.6],\n",
              "       [7.4, 2.8, 6.1, 1.9],\n",
              "       [7.9, 3.8, 6.4, 2. ],\n",
              "       [6.4, 2.8, 5.6, 2.2],\n",
              "       [6.3, 2.8, 5.1, 1.5],\n",
              "       [6.1, 2.6, 5.6, 1.4],\n",
              "       [7.7, 3. , 6.1, 2.3],\n",
              "       [6.3, 3.4, 5.6, 2.4],\n",
              "       [6.4, 3.1, 5.5, 1.8],\n",
              "       [6. , 3. , 4.8, 1.8],\n",
              "       [6.9, 3.1, 5.4, 2.1],\n",
              "       [6.7, 3.1, 5.6, 2.4],\n",
              "       [6.9, 3.1, 5.1, 2.3],\n",
              "       [5.8, 2.7, 5.1, 1.9],\n",
              "       [6.8, 3.2, 5.9, 2.3],\n",
              "       [6.7, 3.3, 5.7, 2.5],\n",
              "       [6.7, 3. , 5.2, 2.3],\n",
              "       [6.3, 2.5, 5. , 1.9],\n",
              "       [6.5, 3. , 5.2, 2. ],\n",
              "       [6.2, 3.4, 5.4, 2.3],\n",
              "       [5.9, 3. , 5.1, 1.8]])"
            ]
          },
          "metadata": {},
          "execution_count": 73
        }
      ],
      "source": [
        "# Returns all the rows of iris data whose for which the class is 2.\n",
        "print((features[target == 2]).shape) # prints the shape of array\n",
        "features[target == 2]"
      ]
    },
    {
      "cell_type": "markdown",
      "metadata": {
        "id": "LD7NX3Y2JSV2"
      },
      "source": [
        "Extra credit:  In the next cell write an expression -- or expressions -- which returns\n",
        "all the members of class 2 in the data whose column 3 value is greater than 1.8.\n",
        "\n",
        "Hint: Set a variable to the result of one of your answers to the last two questions.\n",
        "That result is an array, and you can do more indexing on it."
      ]
    },
    {
      "cell_type": "markdown",
      "metadata": {
        "id": "eXodKxLXfE4K"
      },
      "source": [
        "Two Solutions.  The one not hinted at uses Boolean array conjunction."
      ]
    },
    {
      "cell_type": "markdown",
      "metadata": {
        "id": "3mUrKYR0fE4K"
      },
      "source": [
        "Solution 2.  This one uses `&`.  Say you have X an array of numbers and you want a Boolean array\n",
        "that tells you exactly which numbers are even (`X%2 == 0`) and greater than 4 (`X > 4`).  You can\n",
        "combine these two conditions using `7`:"
      ]
    },
    {
      "cell_type": "code",
      "execution_count": 74,
      "metadata": {
        "id": "Hake5bryJSV2",
        "outputId": "47efd77f-cb2b-40ba-d568-ba8ca65cec60",
        "colab": {
          "base_uri": "https://localhost:8080/"
        }
      },
      "outputs": [
        {
          "output_type": "stream",
          "name": "stdout",
          "text": [
            "[[ 0  1  2  3  4]\n",
            " [ 5  6  7  8  9]\n",
            " [10 11 12 13 14]]\n"
          ]
        },
        {
          "output_type": "execute_result",
          "data": {
            "text/plain": [
              "array([[False, False, False, False, False],\n",
              "       [False,  True, False,  True, False],\n",
              "       [ True, False,  True, False,  True]])"
            ]
          },
          "metadata": {},
          "execution_count": 74
        }
      ],
      "source": [
        "X = np.arange(15).reshape((3,5))\n",
        "print(X)\n",
        "(X%2 == 0) & (X > 4)"
      ]
    },
    {
      "cell_type": "markdown",
      "metadata": {
        "id": "_lGVT6hcfE4K"
      },
      "source": [
        "To find solution 2, write a single expression that uses `&` which returns\n",
        "all the rows of the Iris data class 2 in the data whose column 3 value is greater than 1.8.\n",
        "\n",
        "This should produce a 2D array with 4 columns and 34 rows."
      ]
    },
    {
      "cell_type": "code",
      "execution_count": 75,
      "metadata": {
        "id": "FH_6P9bCfE4K",
        "outputId": "cf35b4bf-0016-4a3a-bc0a-1753ed4abe19",
        "colab": {
          "base_uri": "https://localhost:8080/"
        }
      },
      "outputs": [
        {
          "output_type": "stream",
          "name": "stdout",
          "text": [
            "(34, 4)\n",
            "[[6.3 3.3 6.  2.5]\n",
            " [5.8 2.7 5.1 1.9]\n",
            " [7.1 3.  5.9 2.1]\n",
            " [6.5 3.  5.8 2.2]\n",
            " [7.6 3.  6.6 2.1]\n",
            " [7.2 3.6 6.1 2.5]\n",
            " [6.5 3.2 5.1 2. ]\n",
            " [6.4 2.7 5.3 1.9]\n",
            " [6.8 3.  5.5 2.1]\n",
            " [5.7 2.5 5.  2. ]\n",
            " [5.8 2.8 5.1 2.4]\n",
            " [6.4 3.2 5.3 2.3]\n",
            " [7.7 3.8 6.7 2.2]\n",
            " [7.7 2.6 6.9 2.3]\n",
            " [6.9 3.2 5.7 2.3]\n",
            " [5.6 2.8 4.9 2. ]\n",
            " [7.7 2.8 6.7 2. ]\n",
            " [6.7 3.3 5.7 2.1]\n",
            " [6.4 2.8 5.6 2.1]\n",
            " [7.4 2.8 6.1 1.9]\n",
            " [7.9 3.8 6.4 2. ]\n",
            " [6.4 2.8 5.6 2.2]\n",
            " [7.7 3.  6.1 2.3]\n",
            " [6.3 3.4 5.6 2.4]\n",
            " [6.9 3.1 5.4 2.1]\n",
            " [6.7 3.1 5.6 2.4]\n",
            " [6.9 3.1 5.1 2.3]\n",
            " [5.8 2.7 5.1 1.9]\n",
            " [6.8 3.2 5.9 2.3]\n",
            " [6.7 3.3 5.7 2.5]\n",
            " [6.7 3.  5.2 2.3]\n",
            " [6.3 2.5 5.  1.9]\n",
            " [6.5 3.  5.2 2. ]\n",
            " [6.2 3.4 5.4 2.3]]\n"
          ]
        }
      ],
      "source": [
        "# Returns all the rows of iris data whose for which belongs to class is 2 and 3rd column value is greater than 1.8.\n",
        "iris_col_3_class_2 = features[(features[:,3] > 1.8) & (target == 2)]\n",
        "print(iris_col_3_class_2.shape)\n",
        "print(iris_col_3_class_2)"
      ]
    },
    {
      "cell_type": "markdown",
      "metadata": {
        "id": "yX3ltxTdJSV4"
      },
      "source": [
        "## Boston Housing data exercise (UCI ML housing dataset)"
      ]
    },
    {
      "cell_type": "code",
      "execution_count": 76,
      "metadata": {
        "colab": {
          "base_uri": "https://localhost:8080/"
        },
        "id": "gsSH2VhnJSV5",
        "outputId": "7a526e90-c93f-4296-e892-1f73b91c211c"
      },
      "outputs": [
        {
          "output_type": "stream",
          "name": "stdout",
          "text": [
            "(506, 13) (506,)\n"
          ]
        },
        {
          "output_type": "stream",
          "name": "stderr",
          "text": [
            "/usr/local/lib/python3.7/dist-packages/sklearn/utils/deprecation.py:87: FutureWarning: Function load_boston is deprecated; `load_boston` is deprecated in 1.0 and will be removed in 1.2.\n",
            "\n",
            "    The Boston housing prices dataset has an ethical problem. You can refer to\n",
            "    the documentation of this function for further details.\n",
            "\n",
            "    The scikit-learn maintainers therefore strongly discourage the use of this\n",
            "    dataset unless the purpose of the code is to study and educate about\n",
            "    ethical issues in data science and machine learning.\n",
            "\n",
            "    In this special case, you can fetch the dataset from the original\n",
            "    source::\n",
            "\n",
            "        import pandas as pd\n",
            "        import numpy as np\n",
            "\n",
            "\n",
            "        data_url = \"http://lib.stat.cmu.edu/datasets/boston\"\n",
            "        raw_df = pd.read_csv(data_url, sep=\"\\s+\", skiprows=22, header=None)\n",
            "        data = np.hstack([raw_df.values[::2, :], raw_df.values[1::2, :2]])\n",
            "        target = raw_df.values[1::2, 2]\n",
            "\n",
            "    Alternative datasets include the California housing dataset (i.e.\n",
            "    :func:`~sklearn.datasets.fetch_california_housing`) and the Ames housing\n",
            "    dataset. You can load the datasets as follows::\n",
            "\n",
            "        from sklearn.datasets import fetch_california_housing\n",
            "        housing = fetch_california_housing()\n",
            "\n",
            "    for the California housing dataset and::\n",
            "\n",
            "        from sklearn.datasets import fetch_openml\n",
            "        housing = fetch_openml(name=\"house_prices\", as_frame=True)\n",
            "\n",
            "    for the Ames housing dataset.\n",
            "    \n",
            "  warnings.warn(msg, category=FutureWarning)\n"
          ]
        }
      ],
      "source": [
        "from sklearn import datasets\n",
        "boston = datasets.load_boston()\n",
        "X,Y = boston.data,boston.target\n",
        "print(X.shape, Y.shape)"
      ]
    },
    {
      "cell_type": "markdown",
      "metadata": {
        "id": "CEJyjWa0JSV7"
      },
      "source": [
        "The cell above loads the `sklearn` Boston housing data, which contains information about housing prices\n",
        "for 501 houses sold in Boston, and the values of various attributes which have been found to be useful\n",
        "in predicting home prices:\n",
        "\n",
        "```\n",
        "Index\n",
        "0         - CRIM     per capita crime rate by town\n",
        "1         - ZN       proportion of residential land zoned for lots over 25,000 sq.ft.\n",
        "2         - INDUS    proportion of non-retail business acres per town\n",
        "3         - CHAS     Charles River dummy variable (= 1 if tract bounds river; 0 otherwise)\n",
        "4         - NOX      nitric oxides concentration (parts per 10 million)\n",
        "5         - RM       average number of rooms per dwelling\n",
        "6         - AGE      proportion of owner-occupied units built prior to 1940\n",
        "7         - DIS      weighted distances to five Boston employment centres\n",
        "8         - RAD      index of accessibility to radial highways\n",
        "9         - TAX      full-value property-tax rate per $10,000\n",
        "10        - PTRATIO  pupil-teacher ratio by town\n",
        "11        - B        1000(Bk - 0.63)^2 where Bk is the proportion of blacks by town\n",
        "12        - LSTAT    % lower status of the population\n",
        "```\n",
        "\n",
        "The array `X`, defined in the cell above, is a 501x13 array containing the values of all\n",
        "these variables for 501 Boston houses.  \n",
        "\n",
        "The information stored in Y, the value to be predicted is\n",
        "\n",
        "```\n",
        "       - MEDV     Median value of owner-occupied homes in $1000's\n",
        " \n",
        "```\n",
        "\n",
        "1.  Construct an expression or expressions that creates a new table that omits all houses whose tracts\n",
        "    bound the Charles River.\n",
        "2.  Construct an expression or expressions that creates a new table containing only the CRIM column and\n",
        "    the ZN column.  This is  our new X.  Also create a new Y containing the pupil-teach ratio.\n",
        "    This is to help someone research how to predict poor education conditions.  The shape of the new X should\n",
        "    (506,2) and the shape of the new Y should be (506,).  Show that you checked this in your answer."
      ]
    },
    {
      "cell_type": "code",
      "execution_count": 77,
      "metadata": {
        "id": "L4kaM8xuJSV8",
        "outputId": "2298363d-93c8-4ef4-d74d-2e4dc9d34de3",
        "colab": {
          "base_uri": "https://localhost:8080/"
        }
      },
      "outputs": [
        {
          "output_type": "stream",
          "name": "stdout",
          "text": [
            "(471, 13)\n",
            "[[6.3200e-03 1.8000e+01 2.3100e+00 ... 1.5300e+01 3.9690e+02 4.9800e+00]\n",
            " [2.7310e-02 0.0000e+00 7.0700e+00 ... 1.7800e+01 3.9690e+02 9.1400e+00]\n",
            " [2.7290e-02 0.0000e+00 7.0700e+00 ... 1.7800e+01 3.9283e+02 4.0300e+00]\n",
            " ...\n",
            " [6.0760e-02 0.0000e+00 1.1930e+01 ... 2.1000e+01 3.9690e+02 5.6400e+00]\n",
            " [1.0959e-01 0.0000e+00 1.1930e+01 ... 2.1000e+01 3.9345e+02 6.4800e+00]\n",
            " [4.7410e-02 0.0000e+00 1.1930e+01 ... 2.1000e+01 3.9690e+02 7.8800e+00]]\n"
          ]
        }
      ],
      "source": [
        "# The new table returns all the rows of Boston housing data whose tracts do not bound the Charles River.\n",
        "new_table = X[X[:,3] == 0]\n",
        "print(new_table.shape)\n",
        "print(new_table)"
      ]
    },
    {
      "cell_type": "code",
      "execution_count": 78,
      "metadata": {
        "id": "kjdjcVnIfE4L",
        "outputId": "58dd401a-642b-4ba8-c76a-94c601ed2428",
        "colab": {
          "base_uri": "https://localhost:8080/"
        }
      },
      "outputs": [
        {
          "output_type": "stream",
          "name": "stdout",
          "text": [
            "[[6.3200e-03 1.8000e+01]\n",
            " [2.7310e-02 0.0000e+00]\n",
            " [2.7290e-02 0.0000e+00]\n",
            " ...\n",
            " [6.0760e-02 0.0000e+00]\n",
            " [1.0959e-01 0.0000e+00]\n",
            " [4.7410e-02 0.0000e+00]]\n",
            "\n",
            "(506, 2)\n",
            "\n",
            "[24.  21.6 34.7 33.4 36.2 28.7 22.9 27.1 16.5 18.9 15.  18.9 21.7 20.4\n",
            " 18.2 19.9 23.1 17.5 20.2 18.2 13.6 19.6 15.2 14.5 15.6 13.9 16.6 14.8\n",
            " 18.4 21.  12.7 14.5 13.2 13.1 13.5 18.9 20.  21.  24.7 30.8 34.9 26.6\n",
            " 25.3 24.7 21.2 19.3 20.  16.6 14.4 19.4 19.7 20.5 25.  23.4 18.9 35.4\n",
            " 24.7 31.6 23.3 19.6 18.7 16.  22.2 25.  33.  23.5 19.4 22.  17.4 20.9\n",
            " 24.2 21.7 22.8 23.4 24.1 21.4 20.  20.8 21.2 20.3 28.  23.9 24.8 22.9\n",
            " 23.9 26.6 22.5 22.2 23.6 28.7 22.6 22.  22.9 25.  20.6 28.4 21.4 38.7\n",
            " 43.8 33.2 27.5 26.5 18.6 19.3 20.1 19.5 19.5 20.4 19.8 19.4 21.7 22.8\n",
            " 18.8 18.7 18.5 18.3 21.2 19.2 20.4 19.3 22.  20.3 20.5 17.3 18.8 21.4\n",
            " 15.7 16.2 18.  14.3 19.2 19.6 23.  18.4 15.6 18.1 17.4 17.1 13.3 17.8\n",
            " 14.  14.4 13.4 15.6 11.8 13.8 15.6 14.6 17.8 15.4 21.5 19.6 15.3 19.4\n",
            " 17.  15.6 13.1 41.3 24.3 23.3 27.  50.  50.  50.  22.7 25.  50.  23.8\n",
            " 23.8 22.3 17.4 19.1 23.1 23.6 22.6 29.4 23.2 24.6 29.9 37.2 39.8 36.2\n",
            " 37.9 32.5 26.4 29.6 50.  32.  29.8 34.9 37.  30.5 36.4 31.1 29.1 50.\n",
            " 33.3 30.3 34.6 34.9 32.9 24.1 42.3 48.5 50.  22.6 24.4 22.5 24.4 20.\n",
            " 21.7 19.3 22.4 28.1 23.7 25.  23.3 28.7 21.5 23.  26.7 21.7 27.5 30.1\n",
            " 44.8 50.  37.6 31.6 46.7 31.5 24.3 31.7 41.7 48.3 29.  24.  25.1 31.5\n",
            " 23.7 23.3 22.  20.1 22.2 23.7 17.6 18.5 24.3 20.5 24.5 26.2 24.4 24.8\n",
            " 29.6 42.8 21.9 20.9 44.  50.  36.  30.1 33.8 43.1 48.8 31.  36.5 22.8\n",
            " 30.7 50.  43.5 20.7 21.1 25.2 24.4 35.2 32.4 32.  33.2 33.1 29.1 35.1\n",
            " 45.4 35.4 46.  50.  32.2 22.  20.1 23.2 22.3 24.8 28.5 37.3 27.9 23.9\n",
            " 21.7 28.6 27.1 20.3 22.5 29.  24.8 22.  26.4 33.1 36.1 28.4 33.4 28.2\n",
            " 22.8 20.3 16.1 22.1 19.4 21.6 23.8 16.2 17.8 19.8 23.1 21.  23.8 23.1\n",
            " 20.4 18.5 25.  24.6 23.  22.2 19.3 22.6 19.8 17.1 19.4 22.2 20.7 21.1\n",
            " 19.5 18.5 20.6 19.  18.7 32.7 16.5 23.9 31.2 17.5 17.2 23.1 24.5 26.6\n",
            " 22.9 24.1 18.6 30.1 18.2 20.6 17.8 21.7 22.7 22.6 25.  19.9 20.8 16.8\n",
            " 21.9 27.5 21.9 23.1 50.  50.  50.  50.  50.  13.8 13.8 15.  13.9 13.3\n",
            " 13.1 10.2 10.4 10.9 11.3 12.3  8.8  7.2 10.5  7.4 10.2 11.5 15.1 23.2\n",
            "  9.7 13.8 12.7 13.1 12.5  8.5  5.   6.3  5.6  7.2 12.1  8.3  8.5  5.\n",
            " 11.9 27.9 17.2 27.5 15.  17.2 17.9 16.3  7.   7.2  7.5 10.4  8.8  8.4\n",
            " 16.7 14.2 20.8 13.4 11.7  8.3 10.2 10.9 11.   9.5 14.5 14.1 16.1 14.3\n",
            " 11.7 13.4  9.6  8.7  8.4 12.8 10.5 17.1 18.4 15.4 10.8 11.8 14.9 12.6\n",
            " 14.1 13.  13.4 15.2 16.1 17.8 14.9 14.1 12.7 13.5 14.9 20.  16.4 17.7\n",
            " 19.5 20.2 21.4 19.9 19.  19.1 19.1 20.1 19.9 19.6 23.2 29.8 13.8 13.3\n",
            " 16.7 12.  14.6 21.4 23.  23.7 25.  21.8 20.6 21.2 19.1 20.6 15.2  7.\n",
            "  8.1 13.6 20.1 21.8 24.5 23.1 19.7 18.3 21.2 17.5 16.8 22.4 20.6 23.9\n",
            " 22.  11.9]\n",
            "\n",
            "(506,)\n"
          ]
        }
      ],
      "source": [
        "# The X_new table returns all the rows of Boston housing data for only CRIM column and the ZN column.\n",
        "X_new = X[:,0:2]\n",
        "print(X_new)\n",
        "print()\n",
        "print(X_new.shape)\n",
        "print()\n",
        "# The Y_new table returns all the rows of Boston target housing data which contains pupil-teach ratio\n",
        "Y_new = Y[X[:,10] != 0]\n",
        "print(Y_new)\n",
        "print()\n",
        "print(Y_new.shape)"
      ]
    },
    {
      "cell_type": "markdown",
      "metadata": {
        "id": "L9X9fo2rfE4L"
      },
      "source": [
        "Write an exporession that computes how many housing tracts in the data set bound\n",
        "the Charles River."
      ]
    },
    {
      "cell_type": "code",
      "execution_count": 79,
      "metadata": {
        "id": "FTuPqFD7fE4L",
        "outputId": "4ac160d6-8ea9-4ee2-a7fc-e54489b6133e",
        "colab": {
          "base_uri": "https://localhost:8080/"
        }
      },
      "outputs": [
        {
          "output_type": "stream",
          "name": "stdout",
          "text": [
            "Number of housing tracts bound the Charles River:  35\n"
          ]
        }
      ],
      "source": [
        "# This returns number of housing tracts bound the Charles River.\n",
        "X_Char_River = X[X[:,3] != 0]\n",
        "print(\"Number of housing tracts bound the Charles River: \", len(X_Char_River))"
      ]
    },
    {
      "cell_type": "markdown",
      "metadata": {
        "id": "s70dchaofE4L"
      },
      "source": [
        "Checks!"
      ]
    },
    {
      "cell_type": "markdown",
      "metadata": {
        "id": "dBAVWYM3fE4L"
      },
      "source": [
        "## Part two"
      ]
    },
    {
      "cell_type": "code",
      "execution_count": null,
      "metadata": {
        "id": "iwc2mFHzfE4L"
      },
      "outputs": [],
      "source": [
        ""
      ]
    },
    {
      "cell_type": "markdown",
      "metadata": {
        "id": "6jZpLS0zfE4L"
      },
      "source": [
        "The answers for the following section are available on the inclass Boolean exercies solution notebook."
      ]
    },
    {
      "cell_type": "markdown",
      "metadata": {
        "id": "F2-lS9n39ZOY"
      },
      "source": [
        "# Boolean combinations\n",
        "\n",
        "In this section we load forest covertype data.  This is a multi class dataset that has data for 7 different forest covertypes (stored in the `target` attribute).  There are 581,012 forest plots with 54 attributes each (stored ina 581012x54 array) The first ten attributes are numerical, the last 44 are Boolean (true/false) attributes. Each of the Boolean attributes represents a qualitative soil type attribute which is either present or absent.  We will refer to all the attributes by their column index.  Thus the first attribute is attribute 0 and the last (a Boolean attribute) is attribute 53."
      ]
    },
    {
      "cell_type": "code",
      "execution_count": 80,
      "metadata": {
        "id": "t0a3FWEa49nE",
        "outputId": "3cb22f5f-49d2-4604-8ca6-cb35d4a163fe",
        "colab": {
          "base_uri": "https://localhost:8080/"
        }
      },
      "outputs": [
        {
          "output_type": "stream",
          "name": "stdout",
          "text": [
            "(581012, 54)\n",
            "(581012,)\n"
          ]
        }
      ],
      "source": [
        "#from sklearn.datasets import load_wine\n",
        "#wdata = load_wine()\n",
        "from sklearn.datasets import fetch_covtype\n",
        "data = fetch_covtype()\n",
        "print(data.data.shape)  # data.data is the 581012 x 54 array\n",
        "print(data.target.shape)     # data.target contains the class for each instance"
      ]
    },
    {
      "cell_type": "markdown",
      "metadata": {
        "id": "4dXqawn7fE4L"
      },
      "source": [
        "Th first 26 columns of the plot index 50_210:"
      ]
    },
    {
      "cell_type": "code",
      "execution_count": 81,
      "metadata": {
        "id": "IviqvtlPfE4L",
        "outputId": "cb8d25ae-ff0f-458b-ec95-f4c3dc3c8ddf",
        "colab": {
          "base_uri": "https://localhost:8080/"
        }
      },
      "outputs": [
        {
          "output_type": "execute_result",
          "data": {
            "text/plain": [
              "array([2.988e+03, 2.250e+02, 2.000e+00, 5.520e+02, 9.200e+01, 5.492e+03,\n",
              "       2.160e+02, 2.410e+02, 1.620e+02, 4.290e+03, 1.000e+00, 0.000e+00,\n",
              "       0.000e+00, 0.000e+00, 0.000e+00, 0.000e+00, 0.000e+00, 0.000e+00,\n",
              "       0.000e+00, 0.000e+00, 0.000e+00, 0.000e+00, 0.000e+00, 0.000e+00,\n",
              "       0.000e+00, 0.000e+00])"
            ]
          },
          "metadata": {},
          "execution_count": 81
        }
      ],
      "source": [
        "data.data[50_210,:26]"
      ]
    },
    {
      "cell_type": "markdown",
      "metadata": {
        "id": "NuH8NhbUfE4M"
      },
      "source": [
        "The last 28 column of the plot index 50_210:"
      ]
    },
    {
      "cell_type": "code",
      "execution_count": 82,
      "metadata": {
        "id": "NfRllCTYfE4M",
        "outputId": "70c58f35-e83a-4f7a-ab5b-bd80ed169249",
        "colab": {
          "base_uri": "https://localhost:8080/"
        }
      },
      "outputs": [
        {
          "output_type": "execute_result",
          "data": {
            "text/plain": [
              "array([0., 0., 0., 0., 0., 0., 0., 0., 0., 0., 0., 0., 0., 0., 0., 0., 1.,\n",
              "       0., 0., 0., 0., 0., 0., 0., 0., 0., 0., 0.])"
            ]
          },
          "metadata": {},
          "execution_count": 82
        }
      ],
      "source": [
        "data.data[50_210,26:]"
      ]
    },
    {
      "cell_type": "markdown",
      "metadata": {
        "id": "nlOSWhkBMKAK"
      },
      "source": [
        "[The Boolean arrays and masks notebook](https://github.com/gawron/python-for-social-science/blob/master/numpy/02_06_Boolean_Arrays_and_Masks.ipynb) discusses combining Boolean arrays with Boolean operators `&` (conceptually 'and') and `|` (conceptually 'or').   We can add to that `~` (conceptually 'not') to complete the list.  Look at the examples there.\n",
        "\n",
        " \n",
        "The `sklearn` description of the covertype dataset is printed in the cell below. For a fuller understanding of the attributes in the dataset you might want to look at [the original UCI data set description.](https://archive.ics.uci.edu/ml/datasets/Covertype)"
      ]
    },
    {
      "cell_type": "markdown",
      "metadata": {
        "id": "xsiGTwKXfE4M"
      },
      "source": [
        "Forest covertypes\n",
        "---------------------\n",
        "\n",
        "The samples in this dataset correspond to 30×30m patches of forest in the US,\n",
        "collected for the task of predicting each patch's cover type,\n",
        "i.e. the dominant species of tree.\n",
        "There are seven covertypes, making this a multiclass classification problem.\n",
        "Each sample has 54 features, described on the\n",
        "[dataset's homepage](https://archive.ics.uci.edu/ml/datasets/Covertype>).\n",
        "Some of the features are boolean indicators\n",
        "while others are discrete or continuous measurements.\n",
        "\n",
        "**Data Set Characteristics:**\n",
        "\n",
        "    =================   ============\n",
        "    Classes                        7\n",
        "    Samples total             581012\n",
        "    Dimensionality                54\n",
        "    Features                     int\n",
        "    =================   ============\n",
        "\n",
        "The function `sklearn.datasets.fetch_covtype` will load the covertype dataset;\n",
        "it returns a dictionary-like object\n",
        "with the feature matrix in the ``data`` member\n",
        "and the target values in ``target``.\n",
        "The dataset will be downloaded from the web if necessary."
      ]
    },
    {
      "cell_type": "markdown",
      "metadata": {
        "id": "bXZsBxT6Br8C"
      },
      "source": [
        "`data.data` attribute is a `numpy` array containing the array.  As an example to help with this problem.  To compute an an array containing just the rows in which attribute 0 is greater than 50 you do. "
      ]
    },
    {
      "cell_type": "code",
      "execution_count": 83,
      "metadata": {
        "colab": {
          "base_uri": "https://localhost:8080/"
        },
        "id": "dVZgDsBLLtxN",
        "outputId": "1a63e454-d765-4619-8b18-1b0033d7a055"
      },
      "outputs": [
        {
          "output_type": "stream",
          "name": "stdout",
          "text": [
            "(581012, 54)\n"
          ]
        }
      ],
      "source": [
        "WW = data.data > 50\n",
        "print(WW.shape)"
      ]
    },
    {
      "cell_type": "markdown",
      "metadata": {
        "id": "xgTX9Qm1A-va"
      },
      "source": [
        "The covertypes (or dominant tree) for each forest plot are in `data.target`, which is often the attribute used to store the classes in an `sklearn` clasification dataset.  There is data for 581,012 plots\n",
        "so this is a 1D array of length 581,012.  \n",
        "\n",
        "There are 7 distinct fiorest tyoes that a plot can have."
      ]
    },
    {
      "cell_type": "code",
      "execution_count": 84,
      "metadata": {
        "colab": {
          "base_uri": "https://localhost:8080/"
        },
        "id": "uVjutdGL7KPL",
        "outputId": "a4797743-54cf-4fc4-ac7c-98d7013b89aa"
      },
      "outputs": [
        {
          "output_type": "stream",
          "name": "stdout",
          "text": [
            "581012\n",
            "{1, 2, 3, 4, 5, 6, 7}\n"
          ]
        }
      ],
      "source": [
        "print(len(data.target))\n",
        "print(set(data.target))"
      ]
    },
    {
      "cell_type": "markdown",
      "metadata": {
        "id": "RoTYDDv4fE4M"
      },
      "source": [
        "### The problem"
      ]
    },
    {
      "cell_type": "markdown",
      "metadata": {
        "id": "L-fcMVr_Ls7q"
      },
      "source": [
        "1. Write an expression that retrieves all rows that a value greater than 300 in the column indexed 1 (second column) and a value equal to 1 for the column indexed 12. \n",
        "\n",
        "2. Write an expression that retrieves the rows from either class 3 or class 5  that have a value greater than 300 in the column indexed 1 (second column) and a value equal to 1 for the column indexed 12. \n",
        "\n",
        "3. Write an expression that counts the rows from either class 3 or class 5  that have a value greater than 300 in the column indexed 1 (second column) and a value equal to 1 for the column indexed 12. "
      ]
    },
    {
      "cell_type": "code",
      "execution_count": 85,
      "metadata": {
        "id": "T0edJp3SfE4M",
        "outputId": "674445ee-0a2b-4509-f0c4-cb8c1a56a38e",
        "colab": {
          "base_uri": "https://localhost:8080/"
        }
      },
      "outputs": [
        {
          "output_type": "stream",
          "name": "stdout",
          "text": [
            "(45076, 54)\n"
          ]
        },
        {
          "output_type": "execute_result",
          "data": {
            "text/plain": [
              "array([[2780.,  346.,   13., ...,    0.,    0.,    0.],\n",
              "       [2725.,  353.,   19., ...,    0.,    0.,    0.],\n",
              "       [2747.,  329.,   19., ...,    0.,    0.,    0.],\n",
              "       ...,\n",
              "       [2619.,  336.,   13., ...,    0.,    0.,    0.],\n",
              "       [2630.,  317.,   12., ...,    0.,    0.,    0.],\n",
              "       [2633.,  309.,    9., ...,    0.,    0.,    0.]])"
            ]
          },
          "metadata": {},
          "execution_count": 85
        }
      ],
      "source": [
        "# This returns all rows that a value greater than 300 in the column indexed 1 (second column) \n",
        "# and a value equal to 1 for the column indexed 12.\n",
        "# It uses the boolean test \n",
        "problem_1 = data.data[(data.data[:,1] > 300) & (data.data[:,12] == 1)]\n",
        "print(problem_1.shape)\n",
        "problem_1"
      ]
    },
    {
      "cell_type": "code",
      "source": [
        "# This returns all rows from either class 3 or class 5 that have a value greater than 300 in the column indexed 1 \n",
        "# and a value equal to 1 for the column indexed 12.\n",
        "# It uses the boolea test\n",
        "problem_2 = data.data[((data.target == 3) | (data.target == 5)) & ((data.data[:,1] > 300) & (data.data[:,12] == 1))]\n",
        "problem_2"
      ],
      "metadata": {
        "id": "z2N3e5IFgQAQ",
        "outputId": "c0b26070-03d3-45bb-86ca-fe8cc855466d",
        "colab": {
          "base_uri": "https://localhost:8080/"
        }
      },
      "execution_count": 86,
      "outputs": [
        {
          "output_type": "execute_result",
          "data": {
            "text/plain": [
              "array([[2556.,  334.,   21., ...,    0.,    0.,    0.],\n",
              "       [2566.,  326.,   11., ...,    0.,    0.,    0.],\n",
              "       [2577.,  323.,   10., ...,    0.,    0.,    0.],\n",
              "       ...,\n",
              "       [2614.,  333.,    6., ...,    0.,    0.,    0.],\n",
              "       [2621.,  359.,   10., ...,    0.,    0.,    0.],\n",
              "       [2626.,  328.,   11., ...,    0.,    0.,    0.]])"
            ]
          },
          "metadata": {},
          "execution_count": 86
        }
      ]
    },
    {
      "cell_type": "code",
      "source": [
        "# Counts the rows for probem 2\n",
        "problem_3 = data.data[((data.target == 3) | (data.target == 5)) & ((data.data[:,1] > 300) & (data.data[:,12] == 1))]\n",
        "print(\"Count: \", len(problem_3))\n",
        "print(problem_3.shape)"
      ],
      "metadata": {
        "id": "3Q3jqWC2gPoj",
        "outputId": "84e510a5-002c-49c4-bfeb-da5d586ffe6c",
        "colab": {
          "base_uri": "https://localhost:8080/"
        }
      },
      "execution_count": 87,
      "outputs": [
        {
          "output_type": "stream",
          "name": "stdout",
          "text": [
            "Count:  1261\n",
            "(1261, 54)\n"
          ]
        }
      ]
    },
    {
      "cell_type": "markdown",
      "metadata": {
        "id": "MdNH13MJ1wu_"
      },
      "source": [
        ""
      ]
    }
  ],
  "metadata": {
    "colab": {
      "name": "full_numpy_assignment.ipynb",
      "provenance": []
    },
    "kernelspec": {
      "display_name": "Python 3",
      "language": "python",
      "name": "python3"
    },
    "language_info": {
      "codemirror_mode": {
        "name": "ipython",
        "version": 3
      },
      "file_extension": ".py",
      "mimetype": "text/x-python",
      "name": "python",
      "nbconvert_exporter": "python",
      "pygments_lexer": "ipython3",
      "version": "3.7.6"
    },
    "name": "_merged",
    "toc": {
      "base_numbering": 1,
      "nav_menu": {},
      "number_sections": true,
      "sideBar": true,
      "skip_h1_title": false,
      "title_cell": "Table of Contents",
      "title_sidebar": "Contents",
      "toc_cell": false,
      "toc_position": {},
      "toc_section_display": true,
      "toc_window_display": false
    }
  },
  "nbformat": 4,
  "nbformat_minor": 0
}