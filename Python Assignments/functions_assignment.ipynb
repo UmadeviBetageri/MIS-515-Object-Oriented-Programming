{
  "cells": [
    {
      "cell_type": "markdown",
      "metadata": {
        "id": "yTd0aAQVg9cW"
      },
      "source": [
        "# Functions, types, loops assignment"
      ]
    },
    {
      "cell_type": "markdown",
      "metadata": {
        "id": "ltyfCbSKg9cZ"
      },
      "source": [
        "## Exercise 1"
      ]
    },
    {
      "cell_type": "markdown",
      "metadata": {
        "id": "IhtokE6sg9cZ"
      },
      "source": [
        "Add a line of code that will generate the give output::\n",
        " \n",
        "     In [ ]: a_list = [2,7,8, 19]\n",
        "             YOUR CODE HERE\n",
        "     Out [ ]: 2\n",
        "     \n",
        "NOTE: The idea of this kind of exercise is to write a line of code\n",
        "that will produce the given output, 2 in this case.  Your\n",
        "answer goes in the next cell, which is a code cell.  It should this be an\n",
        "expression that operates on `a_list`.  A simple correct answer is:\n",
        "\n",
        "     In [ ]: a_list = [2,7,8, 19]\n",
        "             a_list[0]\n",
        "     Out [ ]: 2\n",
        "     \n",
        "Don't forget to evaluate the cell after you've written in your answer to generate Python's output and check your answer!\n"
      ]
    },
    {
      "cell_type": "code",
      "execution_count": 63,
      "metadata": {
        "id": "LGkCT1Rsg9ca",
        "outputId": "e8f26845-b81d-45f8-cb1c-c70e01640348",
        "colab": {
          "base_uri": "https://localhost:8080/"
        }
      },
      "outputs": [
        {
          "output_type": "execute_result",
          "data": {
            "text/plain": [
              "2"
            ]
          },
          "metadata": {},
          "execution_count": 63
        }
      ],
      "source": [
        "a_list = [2,7,8, 19]\n",
        "a_list[0]"
      ]
    },
    {
      "cell_type": "markdown",
      "metadata": {
        "id": "fM09rhhfg9cb"
      },
      "source": [
        "## Exercise 2"
      ]
    },
    {
      "cell_type": "markdown",
      "metadata": {
        "id": "ongLTlbUg9cc"
      },
      "source": [
        "  Write a line of code that produces the given output.  Use a splice with a \"steps\" component.\n",
        "   \n",
        "    In [ ]: X = 'abcdefghij'\n",
        "             YOUR CODE HERE\n",
        "    Out [ ]: 'acegi'"
      ]
    },
    {
      "cell_type": "code",
      "execution_count": 64,
      "metadata": {
        "id": "1ffy_fAXg9cc",
        "outputId": "55d811da-4ac7-4036-8203-a66976873347",
        "colab": {
          "base_uri": "https://localhost:8080/",
          "height": 35
        }
      },
      "outputs": [
        {
          "output_type": "execute_result",
          "data": {
            "application/vnd.google.colaboratory.intrinsic+json": {
              "type": "string"
            },
            "text/plain": [
              "'acegi'"
            ]
          },
          "metadata": {},
          "execution_count": 64
        }
      ],
      "source": [
        "X  = 'abcdefghij'\n",
        "X[::2] "
      ]
    },
    {
      "cell_type": "markdown",
      "metadata": {
        "id": "DrD8ahHog9cd"
      },
      "source": [
        "## Exercise 3"
      ]
    },
    {
      "cell_type": "markdown",
      "metadata": {
        "id": "AizVN3w_g9ce"
      },
      "source": [
        " Write a line of code that produces the given output: \n",
        "   \n",
        "     In [ ]: S, T = set('abc'), set('cde')\n",
        "           YOUR CODE HERE\n",
        "     Out [ ]: {'c'}\n",
        "\n",
        "Hint.  Each Python type has its own methods.  For instance, strings have a `.title()` method that capitalizes them.  For this problem use a method that is particular to **sets** on the two sets `S` and `T`.  Look\n",
        "at [Van DerPlas's Whirlwind Tour, Ch. 6](https://colab.research.google.com/github/jakevdp/WhirlwindTourOfPython/blob/6f1daf714fe52a8dde6a288674ba46a7feed8816/06-Built-in-Data-Structures.ipynb) for a nice discussion of set methods."
      ]
    },
    {
      "cell_type": "code",
      "execution_count": 65,
      "metadata": {
        "id": "aazoYvAtg9ce",
        "outputId": "a4bfe785-0d85-49f7-d8fb-86c1b2b5b025",
        "colab": {
          "base_uri": "https://localhost:8080/"
        }
      },
      "outputs": [
        {
          "output_type": "execute_result",
          "data": {
            "text/plain": [
              "{'c'}"
            ]
          },
          "metadata": {},
          "execution_count": 65
        }
      ],
      "source": [
        "S, T = set('abc'), set('cde')\n",
        "S & T # Intersection "
      ]
    },
    {
      "cell_type": "markdown",
      "metadata": {
        "id": "ZuJq0Dmkg9cf"
      },
      "source": [
        "## Exercise 4"
      ]
    },
    {
      "cell_type": "markdown",
      "metadata": {
        "id": "yx-3HDVvg9cf"
      },
      "source": [
        " Write a line of code that produces the given output: \n",
        "   \n",
        "     In [ ]: a_list = [2,7,8, 19]\n",
        "           YOUR CODE HERE\n",
        "     Out [ ]: [22,27,28,39]\n",
        "    \n",
        "Hint: Try a list comprehension. Look at [Whirlwind Tour](https://colab.research.google.com/github/jakevdp/WhirlwindTourOfPython/blob/6f1daf714fe52a8dde6a288674ba46a7feed8816/11-List-Comprehensions.ipynb) for a quick review of list comprehensions."
      ]
    },
    {
      "cell_type": "code",
      "execution_count": 66,
      "metadata": {
        "id": "vzL76osmg9cf",
        "outputId": "b1d0702d-d950-45b4-d2cd-b731d21d95db",
        "colab": {
          "base_uri": "https://localhost:8080/"
        }
      },
      "outputs": [
        {
          "output_type": "execute_result",
          "data": {
            "text/plain": [
              "[22, 27, 28, 39]"
            ]
          },
          "metadata": {},
          "execution_count": 66
        }
      ],
      "source": [
        "a_list = [2,7,8, 19]\n",
        "[a+20 for a in a_list] # added 20 to all elements a_list"
      ]
    },
    {
      "cell_type": "markdown",
      "metadata": {
        "id": "EnO6BgyOg9cf"
      },
      "source": [
        "## Exercise 5"
      ]
    },
    {
      "cell_type": "markdown",
      "metadata": {
        "id": "bmKYmbt_g9cg"
      },
      "source": [
        "Write a line of code that produces the given output.\n",
        "\n",
        "Hint Remember that list comprehensions can also be used as filters. Look at [Whirlwind Tour](https://colab.research.google.com/github/jakevdp/WhirlwindTourOfPython/blob/6f1daf714fe52a8dde6a288674ba46a7feed8816/11-List-Comprehensions.ipynb) for a quick review of list comprehensions.\n",
        "\n",
        "```\n",
        "In [ ]: a_list = [2,7,8, 19]\n",
        "In [ ]: # Your code           \n",
        "Out [ ]: [22,27]\n",
        " ```"
      ]
    },
    {
      "cell_type": "code",
      "execution_count": 67,
      "metadata": {
        "id": "IO1ojdwig9cg",
        "outputId": "0f4ce6de-9ddf-463c-d98f-3e89b35f4d7a",
        "colab": {
          "base_uri": "https://localhost:8080/"
        }
      },
      "outputs": [
        {
          "output_type": "execute_result",
          "data": {
            "text/plain": [
              "[22, 27]"
            ]
          },
          "metadata": {},
          "execution_count": 67
        }
      ],
      "source": [
        "a_list = [2,7,8, 19]\n",
        "[a+20 for a in a_list[0:2]] # added 20 to first two elements of a_list"
      ]
    },
    {
      "cell_type": "code",
      "execution_count": null,
      "metadata": {
        "id": "ysucMTcAg9cg"
      },
      "outputs": [],
      "source": [
        "# YOUR CODE GOES UNDER HERE"
      ]
    },
    {
      "cell_type": "markdown",
      "metadata": {
        "id": "mY9N8VkQg9cg"
      },
      "source": [
        "## Exercise 6"
      ]
    },
    {
      "cell_type": "markdown",
      "metadata": {
        "id": "ewZBJqwDg9ch"
      },
      "source": [
        "Write a function that finds all the consonants in a string.  As a help, the list of vowels is given below.  The beginning\n",
        "of the function definition has been given with a `pass` as the body.  \n",
        "\n",
        "It should work as in the following examples.\n",
        "\n",
        "```\n",
        ">>> find_consonants('baker')\n",
        "'bkr'\n",
        ">>> find_consonants('abracadabra')\n",
        "'brcdbr'\n",
        ">>> find_consonants('mississippi is the place for me')\n",
        "'mssssppsthplcfrm'\n",
        "```\n",
        "\n",
        "As the argument of the function, use the name that has been supplied.\n",
        "Replace the `pass` with the correct definition of the function.\n",
        "\n",
        "For those interested in more of a challenge, you may add 'sometimes y' to the list of vowels. The letter `'y'` is a vowel in \"Mary\" and \"Plymouth\" and \"play\", but not in \"youth\"."
      ]
    },
    {
      "cell_type": "code",
      "execution_count": 68,
      "metadata": {
        "id": "8A2vciqfg9ch",
        "outputId": "960fe898-e762-4415-de11-2641c24d278c",
        "colab": {
          "base_uri": "https://localhost:8080/",
          "height": 35
        }
      },
      "outputs": [
        {
          "output_type": "execute_result",
          "data": {
            "application/vnd.google.colaboratory.intrinsic+json": {
              "type": "string"
            },
            "text/plain": [
              "'bkr'"
            ]
          },
          "metadata": {},
          "execution_count": 68
        }
      ],
      "source": [
        "vowels = 'aeiou ' #added a space in vowels\n",
        "def find_consonants(word):\n",
        "    # first converted the word to list, then removed vowels and space and converted back to string with join function. \n",
        "    result = ''.join([a for a in word if a not in vowels]) \n",
        "    return result\n",
        "    \n",
        "find_consonants('baker')  "
      ]
    },
    {
      "cell_type": "code",
      "source": [
        "find_consonants('abracadabra')"
      ],
      "metadata": {
        "id": "2ZZ3BbHwAHAI",
        "outputId": "856c983b-7043-4d9f-cf09-ed718e305469",
        "colab": {
          "base_uri": "https://localhost:8080/",
          "height": 35
        }
      },
      "execution_count": 69,
      "outputs": [
        {
          "output_type": "execute_result",
          "data": {
            "application/vnd.google.colaboratory.intrinsic+json": {
              "type": "string"
            },
            "text/plain": [
              "'brcdbr'"
            ]
          },
          "metadata": {},
          "execution_count": 69
        }
      ]
    },
    {
      "cell_type": "code",
      "source": [
        "find_consonants('mississippi is the place for me')"
      ],
      "metadata": {
        "id": "ka7M4sXmAGjP",
        "outputId": "504b12a5-c6b5-4c3b-d4fd-9977860f954b",
        "colab": {
          "base_uri": "https://localhost:8080/",
          "height": 35
        }
      },
      "execution_count": 70,
      "outputs": [
        {
          "output_type": "execute_result",
          "data": {
            "application/vnd.google.colaboratory.intrinsic+json": {
              "type": "string"
            },
            "text/plain": [
              "'mssssppsthplcfrm'"
            ]
          },
          "metadata": {},
          "execution_count": 70
        }
      ]
    },
    {
      "cell_type": "markdown",
      "metadata": {
        "id": "YNLJ2Qjig9ch"
      },
      "source": [
        "## Exercise 7"
      ]
    },
    {
      "cell_type": "markdown",
      "metadata": {
        "id": "N1g1OOn-g9ch"
      },
      "source": [
        " Write a line of code that operates on `XX` and produces the given output: \n",
        "   \n",
        "     In [ ]: XX = 'bad good sad happy'\n",
        "           YOUR CODE HERE\n",
        "     Out [ ]: [True, False, True, False]\n",
        "  \n",
        " Hint:  Try a list comprehension that collects\n",
        "  a list of the results of a Boolean test.  But remember that the elements of a string\n",
        "  are characters.  You can turn `XX` into a list of length 4 with a simple operation \n",
        "  discussed in the python_types_nb.\n"
      ]
    },
    {
      "cell_type": "code",
      "execution_count": 71,
      "metadata": {
        "id": "Hxa54dKGg9ch",
        "outputId": "4a64029f-fc8f-42b5-b6f6-73bb8cc98c6f",
        "colab": {
          "base_uri": "https://localhost:8080/"
        }
      },
      "outputs": [
        {
          "output_type": "execute_result",
          "data": {
            "text/plain": [
              "[True, False, True, False]"
            ]
          },
          "metadata": {},
          "execution_count": 71
        }
      ],
      "source": [
        "XX = 'bad good sad happy' \n",
        "[len(nm) == 3 for nm in XX.split()] #converted XX to list with split()"
      ]
    },
    {
      "cell_type": "markdown",
      "metadata": {
        "id": "Y6TgN-ZIg9ch"
      },
      "source": [
        "## Exercise 8"
      ]
    },
    {
      "cell_type": "markdown",
      "metadata": {
        "id": "6tNlAeBZg9ci"
      },
      "source": [
        "You're having a big party.\n",
        "\n",
        "The guests will be boys and girls.   The lists are defined for you in the next cell.\n",
        "There should be 24 pairings since the pairing ('Huey', 'Susan') should count\n",
        "as the same dance partnership as ('Susan','Huey'). \n",
        "\n",
        "You want to make sure there are enough dance partners and that they are all compatible.  Write a single list comprehension that will compute every possible pairing of a boy with a girl.  \n",
        "\n",
        "Hint:\n",
        "The list built by the list comprehension will be a list of tuples of length 2."
      ]
    },
    {
      "cell_type": "code",
      "execution_count": 72,
      "metadata": {
        "id": "4P4qzpP5g9ci",
        "outputId": "ff560289-510e-405e-e309-4a34f487d4b7",
        "colab": {
          "base_uri": "https://localhost:8080/"
        }
      },
      "outputs": [
        {
          "output_type": "stream",
          "name": "stdout",
          "text": [
            "Total pairs: 24\n"
          ]
        },
        {
          "output_type": "execute_result",
          "data": {
            "text/plain": [
              "[('Huey', 'Susan'),\n",
              " ('Huey', 'Paula'),\n",
              " ('Huey', 'Barbara'),\n",
              " ('Huey', 'Felicia'),\n",
              " ('Fred', 'Susan'),\n",
              " ('Fred', 'Paula'),\n",
              " ('Fred', 'Barbara'),\n",
              " ('Fred', 'Felicia'),\n",
              " ('Jason', 'Susan'),\n",
              " ('Jason', 'Paula'),\n",
              " ('Jason', 'Barbara'),\n",
              " ('Jason', 'Felicia'),\n",
              " ('Ed', 'Susan'),\n",
              " ('Ed', 'Paula'),\n",
              " ('Ed', 'Barbara'),\n",
              " ('Ed', 'Felicia'),\n",
              " ('Albert', 'Susan'),\n",
              " ('Albert', 'Paula'),\n",
              " ('Albert', 'Barbara'),\n",
              " ('Albert', 'Felicia'),\n",
              " ('Louie', 'Susan'),\n",
              " ('Louie', 'Paula'),\n",
              " ('Louie', 'Barbara'),\n",
              " ('Louie', 'Felicia')]"
            ]
          },
          "metadata": {},
          "execution_count": 72
        }
      ],
      "source": [
        "boys = 'Huey Fred Jason Ed Albert Louie'.split()\n",
        "girls = 'Susan Paula Barbara Felicia'.split()\n",
        "couples = [(b,g) for b in boys for g in girls] #couples is list contains tuples of all posible pairs\n",
        "print(\"Total pairs:\", len(couples))# printiing total number of pairs\n",
        "couples"
      ]
    },
    {
      "cell_type": "markdown",
      "metadata": {
        "id": "-qpsOlb5g9ci"
      },
      "source": [
        "## Exercise 9"
      ]
    },
    {
      "cell_type": "markdown",
      "metadata": {
        "id": "HFdH13Ckg9ci"
      },
      "source": [
        "You suddenly remember that boys don't always dance with girls and girls don't always dance with boys.\n",
        "And there are people who are neither who are also guests at the party.  You compile a list of neithers.  \n",
        "\n",
        "Using the `boys` and `girls` lists from the last problem and the `neither` list below,\n",
        "write another list comprehension that finds **all** the possible dance partners, that is\n",
        "every pair of guests at the party, regardless of whether they are boys or girls or neither.\n",
        "But remember: people can't dance with themselves (at least not for the dances that will\n",
        "played at this party).\n",
        "\n",
        "If your final list has 169 members, people are dancing with themselves.\n",
        "\n",
        "If your final list has 156 members, it's because you have both ('Huey', 'Fred') and ('Fred', 'Huey') as possible dance partners. This is a bug.  They are just one happy couple.\n",
        "One way to fix this is do a set comprehension but then the final set you collect can't\n",
        "just be a set of two-member tuples or you'll have 156 of them.\n",
        "\n",
        "Another way to fix this is with `enumerate` as shown in the function-nb notebook.\n",
        "\n",
        "The correct answer has 76 dance couples."
      ]
    },
    {
      "cell_type": "code",
      "execution_count": 73,
      "metadata": {
        "id": "5Qe16KAJg9ci",
        "outputId": "9eae13db-d95a-4377-ed28-55ee2a98e3dc",
        "colab": {
          "base_uri": "https://localhost:8080/"
        }
      },
      "outputs": [
        {
          "output_type": "stream",
          "name": "stdout",
          "text": [
            "Total pairs: 78\n"
          ]
        },
        {
          "output_type": "execute_result",
          "data": {
            "text/plain": [
              "[('Huey', 'Fred'),\n",
              " ('Huey', 'Jason'),\n",
              " ('Huey', 'Ed'),\n",
              " ('Huey', 'Albert'),\n",
              " ('Huey', 'Louie'),\n",
              " ('Huey', 'Susan'),\n",
              " ('Huey', 'Paula'),\n",
              " ('Huey', 'Barbara'),\n",
              " ('Huey', 'Felicia'),\n",
              " ('Huey', 'Lee'),\n",
              " ('Huey', 'Sam'),\n",
              " ('Huey', 'Kim'),\n",
              " ('Fred', 'Jason'),\n",
              " ('Fred', 'Ed'),\n",
              " ('Fred', 'Albert'),\n",
              " ('Fred', 'Louie'),\n",
              " ('Fred', 'Susan'),\n",
              " ('Fred', 'Paula'),\n",
              " ('Fred', 'Barbara'),\n",
              " ('Fred', 'Felicia'),\n",
              " ('Fred', 'Lee'),\n",
              " ('Fred', 'Sam'),\n",
              " ('Fred', 'Kim'),\n",
              " ('Jason', 'Ed'),\n",
              " ('Jason', 'Albert'),\n",
              " ('Jason', 'Louie'),\n",
              " ('Jason', 'Susan'),\n",
              " ('Jason', 'Paula'),\n",
              " ('Jason', 'Barbara'),\n",
              " ('Jason', 'Felicia'),\n",
              " ('Jason', 'Lee'),\n",
              " ('Jason', 'Sam'),\n",
              " ('Jason', 'Kim'),\n",
              " ('Ed', 'Albert'),\n",
              " ('Ed', 'Louie'),\n",
              " ('Ed', 'Susan'),\n",
              " ('Ed', 'Paula'),\n",
              " ('Ed', 'Barbara'),\n",
              " ('Ed', 'Felicia'),\n",
              " ('Ed', 'Lee'),\n",
              " ('Ed', 'Sam'),\n",
              " ('Ed', 'Kim'),\n",
              " ('Albert', 'Louie'),\n",
              " ('Albert', 'Susan'),\n",
              " ('Albert', 'Paula'),\n",
              " ('Albert', 'Barbara'),\n",
              " ('Albert', 'Felicia'),\n",
              " ('Albert', 'Lee'),\n",
              " ('Albert', 'Sam'),\n",
              " ('Albert', 'Kim'),\n",
              " ('Louie', 'Susan'),\n",
              " ('Louie', 'Paula'),\n",
              " ('Louie', 'Barbara'),\n",
              " ('Louie', 'Felicia'),\n",
              " ('Louie', 'Lee'),\n",
              " ('Louie', 'Sam'),\n",
              " ('Louie', 'Kim'),\n",
              " ('Susan', 'Paula'),\n",
              " ('Susan', 'Barbara'),\n",
              " ('Susan', 'Felicia'),\n",
              " ('Susan', 'Lee'),\n",
              " ('Susan', 'Sam'),\n",
              " ('Susan', 'Kim'),\n",
              " ('Paula', 'Barbara'),\n",
              " ('Paula', 'Felicia'),\n",
              " ('Paula', 'Lee'),\n",
              " ('Paula', 'Sam'),\n",
              " ('Paula', 'Kim'),\n",
              " ('Barbara', 'Felicia'),\n",
              " ('Barbara', 'Lee'),\n",
              " ('Barbara', 'Sam'),\n",
              " ('Barbara', 'Kim'),\n",
              " ('Felicia', 'Lee'),\n",
              " ('Felicia', 'Sam'),\n",
              " ('Felicia', 'Kim'),\n",
              " ('Lee', 'Sam'),\n",
              " ('Lee', 'Kim'),\n",
              " ('Sam', 'Kim')]"
            ]
          },
          "metadata": {},
          "execution_count": 73
        }
      ],
      "source": [
        "neither = 'Lee Sam Kim'.split()\n",
        "total = boys+girls+neither\n",
        "result = [(a,b) for (i,a) in enumerate(total) for b in total[i+1:]]# list of possible pairs excluding same names and repeates names.\n",
        "print(\"Total pairs:\", len(result)) # printiing total number of pairs\n",
        "result #output"
      ]
    },
    {
      "cell_type": "markdown",
      "metadata": {
        "id": "qtsR9s2og9ci"
      },
      "source": [
        "There is another simpler way to solve the problem we just solved, which is not quite as\n",
        "useful as a programming exercise.\n",
        "\n",
        "It will be helpful to review our discussion of Counters in the book draft section on dictionaries.\n",
        "It will also be helpful to read the [Python docs](http://docs.python.org/2/library/collections.html)  to find a convenient method that finds the element in a counter with the highest count."
      ]
    },
    {
      "cell_type": "markdown",
      "metadata": {
        "id": "z9ICGf18g9ci"
      },
      "source": [
        "## Exercise 9"
      ]
    },
    {
      "cell_type": "markdown",
      "metadata": {
        "id": "ezOzGSv0g9ci"
      },
      "source": [
        "Write a **function** `remainder_one` that takes two arguments `dividend` and `divisor`; `remainder_one`  returns `True` when the result of dividing the `dividend` by  the `divisor` has a remainder of 1, and `False` when the remainder is some other integer;`remainder_one`  should return nothing (`None`) when either argument is a non-integer.  It's okay to raise an Exception for non numbers.  The `divisor` argument should be optional and should have a default value of `3`.\n",
        "\n",
        "Here is how it should  work:\n",
        "\n",
        "```\n",
        ">>> print(remainder_one(14,3))\n",
        "False\n",
        ">>> print(remainder_one(14))\n",
        "False\n",
        ">>> print(remainder_one(16))\n",
        "True\n",
        ">>> print(remainder_one(16.0))\n",
        "True\n",
        ">>> print(remainder_one(16,2))\n",
        "False\n",
        ">>> print(remainder_one(16.1))\n",
        "None\n",
        "```\n",
        "\n",
        "How will you test if something is an integer?  Usually this test\n",
        "would work:\n",
        "\n",
        "```\n",
        ">>> isinstance(16, int)\n",
        "True\n",
        "```\n",
        "\n",
        "but it won't work here because as the examples above show, we want 16.0\n",
        "to count as an integer and it doesn't per this test:\n",
        "\n",
        "```\n",
        ">>> isinstance(16.0, int)\n",
        "False\n",
        "```\n",
        "\n",
        "Try the following idea.  If the remainder is 0 when divided by 1,\n",
        "it's an integer.\n",
        "\n",
        "Your function body can be written in 2 lines of code.  Don't worry greatly\n",
        "if it is longer than that."
      ]
    },
    {
      "cell_type": "code",
      "execution_count": 74,
      "metadata": {
        "id": "3PiMbAMRg9cj",
        "outputId": "674375b9-54ac-45f3-950c-5942748ac1b3",
        "colab": {
          "base_uri": "https://localhost:8080/"
        }
      },
      "outputs": [
        {
          "output_type": "stream",
          "name": "stdout",
          "text": [
            "False\n",
            "False\n",
            "True\n",
            "True\n",
            "False\n",
            "None\n"
          ]
        }
      ],
      "source": [
        "def remainder_one (dividend, divisor=3):\n",
        "    if dividend % 1 == 0: # checks if the dividend is integer, if not returns none\n",
        "        return dividend % divisor == 1 #Checks if the reminder is 1 and returns the results\n",
        "        \n",
        "print(remainder_one(14,3))\n",
        "print(remainder_one(14))\n",
        "print(remainder_one(16))\n",
        "print(remainder_one(16.0))\n",
        "print(remainder_one(16,2))\n",
        "print(remainder_one(16.1))"
      ]
    },
    {
      "cell_type": "markdown",
      "metadata": {
        "id": "5p3vT_kAg9cj"
      },
      "source": [
        "## Exercise 10"
      ]
    },
    {
      "cell_type": "markdown",
      "metadata": {
        "id": "Lk5GucHsg9cj"
      },
      "source": [
        "Write a function that converts temperatures (as\n",
        "numbers) from Fahrenheit to Celsius scale. The temperature should be\n",
        "optional and its default value should be 32.  Here are some examples showing\n",
        "how you **call** the `fahrenheit-to_celsius` function and what it returns:\n",
        "\n",
        "```\n",
        "    In [ ]:  fahrenheit_to_celsius(212)\n",
        "    Out [ ]: 100\n",
        "    In [ ]: fahrenheit_to_celsius(-40)\n",
        "    Out [ ]: -40.0\n",
        "    In [ ]:  fahrenheit_to_celsius(32)\n",
        "    Out [ ]: 0\n",
        "    In [ ]:  fahrenheit_to_celsius()\n",
        "    Out [ ]: 0    \n",
        "```\n",
        "\n",
        "Please include a cell printing out your validation tests to show you have checked your work (which of course you **always** do).   \n",
        "To create new cells to demonstrate all the examples, you hold down the `[Control]` key while pressing `M` and then typing `b` (for \"below\").\n"
      ]
    },
    {
      "cell_type": "code",
      "source": [
        "def fahrenheit_to_celsius(f=32): \n",
        "    celsius= (f-32)*(5/9) #conversion of fahrenheit to celsius\n",
        "    return celsius\n",
        "\n",
        "fahrenheit_to_celsius(212)"
      ],
      "metadata": {
        "id": "b6fP4LDn9f-t",
        "outputId": "23d05d9d-a671-49bf-80e2-5ef1984a6546",
        "colab": {
          "base_uri": "https://localhost:8080/"
        }
      },
      "execution_count": 76,
      "outputs": [
        {
          "output_type": "execute_result",
          "data": {
            "text/plain": [
              "100.0"
            ]
          },
          "metadata": {},
          "execution_count": 76
        }
      ]
    },
    {
      "cell_type": "code",
      "source": [
        "fahrenheit_to_celsius(-40)"
      ],
      "metadata": {
        "id": "2EQtTTMx6W9e",
        "outputId": "70721d11-c464-417d-d07c-803e6da6d9c3",
        "colab": {
          "base_uri": "https://localhost:8080/"
        }
      },
      "execution_count": 77,
      "outputs": [
        {
          "output_type": "execute_result",
          "data": {
            "text/plain": [
              "-40.0"
            ]
          },
          "metadata": {},
          "execution_count": 77
        }
      ]
    },
    {
      "cell_type": "code",
      "source": [
        "fahrenheit_to_celsius(32)"
      ],
      "metadata": {
        "id": "oI8bCQDa6gLD",
        "outputId": "cc761cf9-13cb-493a-8272-7ba8404c39b3",
        "colab": {
          "base_uri": "https://localhost:8080/"
        }
      },
      "execution_count": 78,
      "outputs": [
        {
          "output_type": "execute_result",
          "data": {
            "text/plain": [
              "0.0"
            ]
          },
          "metadata": {},
          "execution_count": 78
        }
      ]
    },
    {
      "cell_type": "code",
      "source": [
        "fahrenheit_to_celsius()"
      ],
      "metadata": {
        "id": "bKpnZEGI6kM3",
        "outputId": "666ffecf-c6e3-448f-d62f-c5f232e3fd81",
        "colab": {
          "base_uri": "https://localhost:8080/"
        }
      },
      "execution_count": 79,
      "outputs": [
        {
          "output_type": "execute_result",
          "data": {
            "text/plain": [
              "0.0"
            ]
          },
          "metadata": {},
          "execution_count": 79
        }
      ]
    },
    {
      "cell_type": "markdown",
      "metadata": {
        "id": "mRkfHgzNg9cj"
      },
      "source": [
        "## Exercise 11"
      ]
    },
    {
      "cell_type": "markdown",
      "metadata": {
        "id": "5uTDgI55g9cj"
      },
      "source": [
        "Write a function that can compute the difference between two temperatures.  Assume the\n",
        "input temperatures are Fahrenheit and the output temperatures are Celsius. You should take the differences in Celsus, as shown in the examples below.   Your\n",
        "definition should **call** the `fahrenheit_to_celsius`  function you defined in the previous problem, so **don't** just copy and paste the code from there.  Assume the first argument is obligatory and then the second argument is optional.  When the second argument is omitted, just return the result of converting the first argument to Celsius.\n",
        "Show that you have checked your work, using all of the following examples.\n",
        "\n",
        "Here is how the function should work:\n",
        "\n",
        "```\n",
        "    In [ ]:  fahrenheit_to_celsius_diff(212,32)\n",
        "    Out [ ]: 100\n",
        "    In [ ]: fahrenheit_to_celsius_diff(-40, 212)\n",
        "    Out [ ]: -140.0\n",
        "    In [ ]:  fahrenheit_to_celsius_diff(212)\n",
        "    Out [ ]: 100\n",
        "    In [ ]:  fahrenheit_to_celsius_diff(212, 0)\n",
        "    Out [ ]: 117.78\n",
        "\n",
        "```\n"
      ]
    },
    {
      "cell_type": "code",
      "execution_count": 80,
      "metadata": {
        "scrolled": true,
        "id": "KezHxEd9g9cj",
        "outputId": "33d0c0b7-33d8-409f-8d30-92ad20ad20e8",
        "colab": {
          "base_uri": "https://localhost:8080/"
        }
      },
      "outputs": [
        {
          "output_type": "execute_result",
          "data": {
            "text/plain": [
              "100.0"
            ]
          },
          "metadata": {},
          "execution_count": 80
        }
      ],
      "source": [
        "def fahrenheit_to_celsius_diff(f1, f2=32):\n",
        "    temp_1 = fahrenheit_to_celsius(f1) # calls fahrenheit_to_celsius() function\n",
        "    temp_2 = fahrenheit_to_celsius(f2)\n",
        "    \n",
        "    temp_diff = temp_1 - temp_2 # computes difference between f1 and f2 and returns the result.\n",
        "    return round(temp_diff, 2)\n",
        "\n",
        "fahrenheit_to_celsius_diff(212,32)"
      ]
    },
    {
      "cell_type": "code",
      "source": [
        "fahrenheit_to_celsius_diff(-40, 212)"
      ],
      "metadata": {
        "id": "SguUtN6B_Ome",
        "outputId": "68ce9bd5-4512-47c4-f65e-84745925faf2",
        "colab": {
          "base_uri": "https://localhost:8080/"
        }
      },
      "execution_count": 81,
      "outputs": [
        {
          "output_type": "execute_result",
          "data": {
            "text/plain": [
              "-140.0"
            ]
          },
          "metadata": {},
          "execution_count": 81
        }
      ]
    },
    {
      "cell_type": "code",
      "source": [
        "fahrenheit_to_celsius_diff(212)"
      ],
      "metadata": {
        "id": "FbQMGTIt_PgS",
        "outputId": "cf4a13b0-66e7-44d3-c152-baef06ba5c4c",
        "colab": {
          "base_uri": "https://localhost:8080/"
        }
      },
      "execution_count": 82,
      "outputs": [
        {
          "output_type": "execute_result",
          "data": {
            "text/plain": [
              "100.0"
            ]
          },
          "metadata": {},
          "execution_count": 82
        }
      ]
    },
    {
      "cell_type": "code",
      "source": [
        "fahrenheit_to_celsius_diff(212, 0)"
      ],
      "metadata": {
        "id": "zI9-qKss_Qza",
        "outputId": "3510090f-69ab-48a0-ab84-98202b40d5e0",
        "colab": {
          "base_uri": "https://localhost:8080/"
        }
      },
      "execution_count": 83,
      "outputs": [
        {
          "output_type": "execute_result",
          "data": {
            "text/plain": [
              "117.78"
            ]
          },
          "metadata": {},
          "execution_count": 83
        }
      ]
    },
    {
      "cell_type": "markdown",
      "metadata": {
        "id": "C3d82pBJg9cj"
      },
      "source": [
        "## Sudoku:  More list comprehension"
      ]
    },
    {
      "cell_type": "markdown",
      "metadata": {
        "id": "8-9cDi73g9ck"
      },
      "source": [
        "This is the dreaded blank page problem I promised you at the beginning of the course.\n",
        "\n",
        "You are essentially being asked to write a non-trivial function from scratch.  The functions notebook tried to give you some hints, so try to read that material before doing this.  Here we present the helper code and the problem."
      ]
    },
    {
      "cell_type": "markdown",
      "metadata": {
        "id": "TO_SdEf4g9ck"
      },
      "source": [
        "For this exercise, execute the code below; we will use it, but only briefly discuss how it works. "
      ]
    },
    {
      "cell_type": "markdown",
      "metadata": {
        "id": "EHfK43xVg9ck"
      },
      "source": [
        "The code below is a simplified subset of the code defined in the functions_nb.  This version is slightly simpler than the code there and understanding this part of the code will help you complete this exercise.  You should make sure you understand how it works."
      ]
    },
    {
      "cell_type": "code",
      "execution_count": 84,
      "metadata": {
        "id": "QlYx1_74g9ck"
      },
      "outputs": [],
      "source": [
        "def cross(A, B):\n",
        "    \"\"\"\n",
        "    Cross product of elements in sequence A and elements in sequence B. \n",
        "    When a and b are strings, we just concatenate them.\n",
        "    \"\"\"\n",
        "    return [a+b for a in A for b in B]\n",
        "\n",
        "\n",
        "digits   = '123456789'\n",
        "rows     = 'ABCDEFGHI'\n",
        "cols     = digits\n",
        "squares  = cross(rows, cols)\n",
        "unitlist = ([cross(rows, c) for c in cols] +\n",
        "            [cross(r, cols) for r in rows] +\n",
        "            [cross(rs, cs) for rs in ('ABC','DEF','GHI') for cs in ('123','456','789')])\n",
        "\n",
        "# Assign to each square s A set of sets of squares\n",
        "units = dict((s, [u for u in unitlist if s in u])\n",
        "             for s in squares)\n",
        "## Assign to each square s a set of squares, namely those that cant have the same value as s.\n",
        "peers = dict((s, set(sum(units[s],[]))-set([s]))\n",
        "             for s in squares)\n",
        "\n",
        "\n",
        "def grid_values(grid):\n",
        "    \"Convert grid into a dict of {square: char} with '0' or '.' for empties.\"\n",
        "    chars = [c for c in grid if c in digits or c in '0.']\n",
        "    assert len(chars) == 81\n",
        "    return dict(list(zip(squares, chars)))\n",
        "\n",
        "digits   = '123456789'\n",
        "rows     = 'ABCDEFGHI'\n",
        "cols     = digits\n",
        "squares  = cross(rows, cols)\n",
        "unitlist = ([cross(rows, c) for c in cols] +\n",
        "            [cross(r, cols) for r in rows] +\n",
        "            [cross(rs, cs) for rs in ('ABC','DEF','GHI') for cs in ('123','456','789')])\n",
        "\n",
        "# Assign to each square s A set of sets of squares\n",
        "units = dict((s, [u for u in unitlist if s in u])\n",
        "             for s in squares)\n",
        "## Assign to each square s a set of squares, namely those that cant have the same value as s.\n",
        "peers = dict((s, set(sum(units[s],[]))-set([s]))\n",
        "             for s in squares)\n",
        "\n",
        "##############################################################################################\n",
        "#  S o m e    D a t a    t o    P r a c t i c e     O n\n",
        "##############################################################################################\n",
        "grid1  = '003020600900305001001806400008102900700000008006708200002609500800203009005010300'\n",
        "grid1_soln = '483921657967345821251876493548132976729564138136798245372689514814253769695417382'\n",
        "grid2  = '003020600900305001001806400008102900700000008006708200002689500800203009005010300'\n",
        "# Some illegal grids (they break the rules of Sudoku)\n",
        "grid3  = '003020600900305001001806400008102900700000008006708200002609500800203089005010300'\n",
        "grid4  = '003020609900305001001806400008102900700000008006708200002609500800203009005010300'\n",
        "grid5  = '003020600900305061001806400008102900700000008006708200002609500800203009005010300'"
      ]
    },
    {
      "cell_type": "markdown",
      "metadata": {
        "id": "U9qpJQLcg9ck"
      },
      "source": [
        "Your assignment is to write a function that will print out `Invalid` if the grid that is\n",
        "passed in as an argument is illegal and will print out `Valid` if the grid is legal.  It should work as follows:\n",
        "\n",
        "```\n",
        "test(grid_values(grid1))\n",
        "test(grid_values(grid2))\n",
        "test(grid_values(grid3))\n",
        "test(grid_values(grid4))\n",
        "test(grid_values(grid5))\n",
        "```\n",
        "\n",
        "When you finish your code and execute the lines above, the following should print out:\n",
        "\n",
        "```\n",
        "   Valid!\n",
        "   Valid!\n",
        "   Invalid!\n",
        "   Invalid!\n",
        "   Invalid!\n",
        "```"
      ]
    },
    {
      "cell_type": "markdown",
      "metadata": {
        "id": "ixsUb7Xmg9ck"
      },
      "source": [
        "Here some examples and the expected answers for testing your code.  The expected\n",
        "output is shown below the cell.\n",
        "\n",
        "You miught want to test in the cell below that so as not to lose track of what the original  expected output is."
      ]
    },
    {
      "cell_type": "code",
      "execution_count": 48,
      "metadata": {
        "id": "h6Fg9x_xg9ck",
        "outputId": "0ea2d80d-9469-4ec5-b111-9a31f8d40170",
        "colab": {
          "base_uri": "https://localhost:8080/",
          "height": 236
        }
      },
      "outputs": [
        {
          "output_type": "error",
          "ename": "NameError",
          "evalue": "ignored",
          "traceback": [
            "\u001b[0;31m---------------------------------------------------------------------------\u001b[0m",
            "\u001b[0;31mNameError\u001b[0m                                 Traceback (most recent call last)",
            "\u001b[0;32m<ipython-input-48-8586691c598a>\u001b[0m in \u001b[0;36m<module>\u001b[0;34m()\u001b[0m\n\u001b[1;32m      5\u001b[0m \u001b[0mpdict4\u001b[0m \u001b[0;34m=\u001b[0m \u001b[0mgrid_values\u001b[0m\u001b[0;34m(\u001b[0m\u001b[0mgrid4\u001b[0m\u001b[0;34m)\u001b[0m  \u001b[0;31m# Invalid\u001b[0m\u001b[0;34m\u001b[0m\u001b[0;34m\u001b[0m\u001b[0m\n\u001b[1;32m      6\u001b[0m \u001b[0mpdict5\u001b[0m \u001b[0;34m=\u001b[0m \u001b[0mgrid_values\u001b[0m\u001b[0;34m(\u001b[0m\u001b[0mgrid5\u001b[0m\u001b[0;34m)\u001b[0m  \u001b[0;31m# Invalid\u001b[0m\u001b[0;34m\u001b[0m\u001b[0;34m\u001b[0m\u001b[0m\n\u001b[0;32m----> 7\u001b[0;31m \u001b[0mtest\u001b[0m\u001b[0;34m(\u001b[0m\u001b[0mpdict1\u001b[0m\u001b[0;34m)\u001b[0m\u001b[0;34m\u001b[0m\u001b[0;34m\u001b[0m\u001b[0m\n\u001b[0m\u001b[1;32m      8\u001b[0m \u001b[0mtest\u001b[0m\u001b[0;34m(\u001b[0m\u001b[0mpdict2\u001b[0m\u001b[0;34m)\u001b[0m\u001b[0;34m\u001b[0m\u001b[0;34m\u001b[0m\u001b[0m\n\u001b[1;32m      9\u001b[0m \u001b[0mtest\u001b[0m\u001b[0;34m(\u001b[0m\u001b[0mpdict3\u001b[0m\u001b[0;34m)\u001b[0m\u001b[0;34m\u001b[0m\u001b[0;34m\u001b[0m\u001b[0m\n",
            "\u001b[0;31mNameError\u001b[0m: name 'test' is not defined"
          ]
        }
      ],
      "source": [
        "\n",
        "pdict1 = grid_values(grid1)  # Valid\n",
        "pdict2 = grid_values(grid2)  # Valid\n",
        "pdict3 = grid_values(grid3)  # Invalid\n",
        "pdict4 = grid_values(grid4)  # Invalid\n",
        "pdict5 = grid_values(grid5)  # Invalid\n",
        "test(pdict1)\n",
        "test(pdict2)\n",
        "test(pdict3)\n",
        "test(pdict4)\n",
        "test(pdict5)"
      ]
    },
    {
      "cell_type": "code",
      "execution_count": null,
      "metadata": {
        "id": "9F1j-2w5g9ck"
      },
      "outputs": [],
      "source": [
        "pdict1 = grid_values(grid1)  # Valid\n",
        "pdict2 = grid_values(grid2)  # Valid\n",
        "pdict3 = grid_values(grid3)  # Invalid\n",
        "pdict4 = grid_values(grid4)  # Invalid\n",
        "pdict5 = grid_values(grid5)  # Invalid\n",
        "test(pdict1)\n",
        "test(pdict2)\n",
        "test(pdict3)\n",
        "test(pdict4)\n",
        "test(pdict5)"
      ]
    }
  ],
  "metadata": {
    "kernelspec": {
      "display_name": "Python 3",
      "language": "python",
      "name": "python3"
    },
    "language_info": {
      "codemirror_mode": {
        "name": "ipython",
        "version": 3
      },
      "file_extension": ".py",
      "mimetype": "text/x-python",
      "name": "python",
      "nbconvert_exporter": "python",
      "pygments_lexer": "ipython3",
      "version": "3.7.6"
    },
    "toc": {
      "base_numbering": 1,
      "nav_menu": {
        "height": "310px",
        "width": "252px"
      },
      "number_sections": true,
      "sideBar": true,
      "skip_h1_title": false,
      "title_cell": "Table of Contents",
      "title_sidebar": "Contents",
      "toc_cell": false,
      "toc_position": {},
      "toc_section_display": "block",
      "toc_window_display": false
    },
    "colab": {
      "name": "functions_assignment.ipynb",
      "provenance": []
    }
  },
  "nbformat": 4,
  "nbformat_minor": 0
}