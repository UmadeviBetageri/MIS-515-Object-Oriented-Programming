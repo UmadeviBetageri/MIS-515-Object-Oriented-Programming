{
  "nbformat": 4,
  "nbformat_minor": 0,
  "metadata": {
    "kernelspec": {
      "display_name": "Python 3",
      "language": "python",
      "name": "python3"
    },
    "language_info": {
      "codemirror_mode": {
        "name": "ipython",
        "version": 3
      },
      "file_extension": ".py",
      "mimetype": "text/x-python",
      "name": "python",
      "nbconvert_exporter": "python",
      "pygments_lexer": "ipython3",
      "version": "3.7.6"
    },
    "toc": {
      "base_numbering": 1,
      "nav_menu": {
        "height": "67px",
        "width": "252px"
      },
      "number_sections": true,
      "sideBar": true,
      "skip_h1_title": false,
      "title_cell": "Table of Contents",
      "title_sidebar": "Contents",
      "toc_cell": false,
      "toc_position": {},
      "toc_section_display": "block",
      "toc_window_display": false
    },
    "colab": {
      "name": "Umadevi_python_types_assignment_2022.ipynb",
      "provenance": []
    }
  },
  "cells": [
    {
      "cell_type": "markdown",
      "metadata": {
        "id": "ZIBX7u_RW74U"
      },
      "source": [
        "# Python Types Assignment 2020"
      ]
    },
    {
      "cell_type": "markdown",
      "metadata": {
        "id": "nIt_8QZrW74V"
      },
      "source": [
        "Name/RedID:"
      ]
    },
    {
      "cell_type": "markdown",
      "metadata": {
        "id": "_3Sm1M10W74W"
      },
      "source": [
        "## Part One"
      ]
    },
    {
      "cell_type": "markdown",
      "metadata": {
        "id": "kWYWYfMiW74W"
      },
      "source": [
        "For the problems in Part One, assume all the definitions in the next cell, and check your answers by evaluating the next cell and verifying that your answers give the required results."
      ]
    },
    {
      "cell_type": "code",
      "metadata": {
        "id": "19mvC4k2W74X"
      },
      "source": [
        "friends_network = {'susan': {'alex': 8, 'louis': 5, 'plato': 1, 'giuseppe':3},\n",
        "                   'alex': {'louis': 5, 'susan': 3, 'giuseppe':3},\n",
        "                   'louis': {'alex': 4, 'plato': 4, },\n",
        "                   'plato': { 'louis': 8,  'giuseppe':2, 'susan': 2},\n",
        "                   'giuseppe' : {}\n",
        "                  }\n",
        "language_decade_pairs = [ ('50s', 'fortran'), ('60s', 'pascal'), ('70s', 'C'),  ('80s', 'C++'),\n",
        "                          ('90s', 'java'), ('00s', 'perl'), ('10s', 'python')]\n",
        "dominant_computer_languages = dict(language_decade_pairs)\n",
        "awards = ('grammy', 'emmy', 'pulitzer','hugo','baseball_mvp','edgar', 'nobel_prize','oscar')\n",
        "secret_word = \"White House\"\n",
        "personnel_files = [{'name':'Fred Flinstone',\n",
        "                     'spouse': 'Wilma',\n",
        "                      'town of residence': 'Bedrock'},\n",
        "                    {'name':'Barney Rubble',\n",
        "                     'spouse': 'Betty',\n",
        "                      'town of residence': 'Bedrock'},\n",
        "                  ]"
      ],
      "execution_count": 5,
      "outputs": []
    },
    {
      "cell_type": "markdown",
      "metadata": {
        "id": "ipI_NV8pW74b"
      },
      "source": [
        "In the problems below,  when you are asked to write an expression that \"accesses\". a particular name, that means your answer should **use** that name.  For if asked:\n",
        "\n",
        "\n",
        "   Write an expression that accesses `awards` and return the value `'baseball_mvp'`.\n",
        "\n",
        "\n",
        "You might answer:\n",
        "\n",
        "```\n",
        "awards[4]\n",
        "```\n",
        "\n",
        "because that is an expression that uses the name `awards` and returns the value\n",
        "`\"baseball_mvp\"`, as illustrated in the next cell."
      ]
    },
    {
      "cell_type": "code",
      "metadata": {
        "id": "PLZS5ol9W74c",
        "colab": {
          "base_uri": "https://localhost:8080/",
          "height": 35
        },
        "outputId": "3a000bea-f1bb-41fb-f2da-4de6a58fda27"
      },
      "source": [
        "awards[4]"
      ],
      "execution_count": 6,
      "outputs": [
        {
          "output_type": "execute_result",
          "data": {
            "application/vnd.google.colaboratory.intrinsic+json": {
              "type": "string"
            },
            "text/plain": [
              "'baseball_mvp'"
            ]
          },
          "metadata": {},
          "execution_count": 6
        }
      ]
    },
    {
      "cell_type": "markdown",
      "metadata": {
        "id": "-SdNV4DNW74i"
      },
      "source": [
        "In the next cell, write expression that accesses `awards` and returns the value `\"pulitzer\"`."
      ]
    },
    {
      "cell_type": "code",
      "metadata": {
        "id": "Ic5AnNKuW74j",
        "colab": {
          "base_uri": "https://localhost:8080/",
          "height": 35
        },
        "outputId": "83ce3454-feda-49cb-84da-003a4bf4da56"
      },
      "source": [
        "awards[2]"
      ],
      "execution_count": 8,
      "outputs": [
        {
          "output_type": "execute_result",
          "data": {
            "application/vnd.google.colaboratory.intrinsic+json": {
              "type": "string"
            },
            "text/plain": [
              "'pulitzer'"
            ]
          },
          "metadata": {},
          "execution_count": 8
        }
      ]
    },
    {
      "cell_type": "markdown",
      "metadata": {
        "id": "nrb4FrpQW74m"
      },
      "source": [
        "This expression returns \"pulitzer\" "
      ]
    },
    {
      "cell_type": "markdown",
      "metadata": {
        "id": "gyonsXZjW74m"
      },
      "source": [
        "In the next cell, write an expression that accesses `secret_words` and returns the value `\"H\"\n",
        "`."
      ]
    },
    {
      "cell_type": "code",
      "metadata": {
        "id": "dLKwzgMKW74n",
        "colab": {
          "base_uri": "https://localhost:8080/",
          "height": 35
        },
        "outputId": "64521e21-8afb-4111-9cdb-b0bb97b4ca65"
      },
      "source": [
        "secret_word[6]"
      ],
      "execution_count": 22,
      "outputs": [
        {
          "output_type": "execute_result",
          "data": {
            "application/vnd.google.colaboratory.intrinsic+json": {
              "type": "string"
            },
            "text/plain": [
              "'H'"
            ]
          },
          "metadata": {},
          "execution_count": 22
        }
      ]
    },
    {
      "cell_type": "markdown",
      "metadata": {
        "id": "SqgeJc1jW74p"
      },
      "source": [
        "secret_words is string and 'H' is a value with index 6 "
      ]
    },
    {
      "cell_type": "markdown",
      "metadata": {
        "id": "IFmMMNrVW74q"
      },
      "source": [
        "In the next cell, write an expression that accesses `awards` and produces an `IndexError`.  Try to make the index you use to access `awards` as small as possible."
      ]
    },
    {
      "cell_type": "code",
      "metadata": {
        "scrolled": true,
        "id": "DC5oXusOW74r",
        "colab": {
          "base_uri": "https://localhost:8080/",
          "height": 166
        },
        "outputId": "208b7c5d-605c-43d7-849c-72164743498a"
      },
      "source": [
        "awards[8]"
      ],
      "execution_count": 21,
      "outputs": [
        {
          "output_type": "error",
          "ename": "IndexError",
          "evalue": "ignored",
          "traceback": [
            "\u001b[0;31m---------------------------------------------------------------------------\u001b[0m",
            "\u001b[0;31mIndexError\u001b[0m                                Traceback (most recent call last)",
            "\u001b[0;32m<ipython-input-21-aecc122cbf70>\u001b[0m in \u001b[0;36m<module>\u001b[0;34m()\u001b[0m\n\u001b[0;32m----> 1\u001b[0;31m \u001b[0mawards\u001b[0m\u001b[0;34m[\u001b[0m\u001b[0;36m8\u001b[0m\u001b[0;34m]\u001b[0m\u001b[0;34m\u001b[0m\u001b[0;34m\u001b[0m\u001b[0m\n\u001b[0m",
            "\u001b[0;31mIndexError\u001b[0m: tuple index out of range"
          ]
        }
      ]
    },
    {
      "cell_type": "markdown",
      "metadata": {
        "id": "SRhYiXRJW74t"
      },
      "source": [
        "In the next cell, write an expression that accesses `awards` and returns `\"oscar\"`.  There is more than one answer.  See if you can find two."
      ]
    },
    {
      "cell_type": "code",
      "metadata": {
        "id": "sb81tMbDW74u",
        "colab": {
          "base_uri": "https://localhost:8080/",
          "height": 35
        },
        "outputId": "5e2d0442-b534-48d4-b800-02d4bec1fea5"
      },
      "source": [
        "# indext number [-1] and [7] in awards represent same value\n",
        "awards[-1]\n",
        "awards[7]"
      ],
      "execution_count": 20,
      "outputs": [
        {
          "output_type": "execute_result",
          "data": {
            "application/vnd.google.colaboratory.intrinsic+json": {
              "type": "string"
            },
            "text/plain": [
              "'oscar'"
            ]
          },
          "metadata": {},
          "execution_count": 20
        }
      ]
    },
    {
      "cell_type": "markdown",
      "metadata": {
        "id": "Yd_mC2AHW74w"
      },
      "source": [
        " In the next cell, write an expression that accesses `awards` and returns `\"s\"`. "
      ]
    },
    {
      "cell_type": "code",
      "metadata": {
        "id": "tRmFvB_8W74x",
        "colab": {
          "base_uri": "https://localhost:8080/",
          "height": 35
        },
        "outputId": "b907f92e-4b4d-40d6-b7bd-42db040a8601"
      },
      "source": [
        "awards[4][2]"
      ],
      "execution_count": 19,
      "outputs": [
        {
          "output_type": "execute_result",
          "data": {
            "application/vnd.google.colaboratory.intrinsic+json": {
              "type": "string"
            },
            "text/plain": [
              "'s'"
            ]
          },
          "metadata": {},
          "execution_count": 19
        }
      ]
    },
    {
      "cell_type": "markdown",
      "metadata": {
        "id": "0c5-_POaW74z"
      },
      "source": [
        "In awards \"s\" is in 'baseball_mvp' with index 4 "
      ]
    },
    {
      "cell_type": "markdown",
      "metadata": {
        "id": "TyoTDs0_W740"
      },
      "source": [
        "Explain what happens  when the following expression is evaluated.  Edit it to be an expression that returns `\"n\"`.\n",
        "\n"
      ]
    },
    {
      "cell_type": "code",
      "metadata": {
        "id": "jwYjbhIcW740",
        "colab": {
          "base_uri": "https://localhost:8080/",
          "height": 35
        },
        "outputId": "c55085b4-d0dc-4293-f98d-d62ae99d2867"
      },
      "source": [
        "# Corrected Expression\n",
        "awards[6][0]"
      ],
      "execution_count": 18,
      "outputs": [
        {
          "output_type": "execute_result",
          "data": {
            "application/vnd.google.colaboratory.intrinsic+json": {
              "type": "string"
            },
            "text/plain": [
              "'n'"
            ]
          },
          "metadata": {},
          "execution_count": 18
        }
      ]
    },
    {
      "cell_type": "markdown",
      "metadata": {
        "id": "VabiRPzPW743"
      },
      "source": [
        "Reason: Tuple idexes are always numerical and since award is tuple, we can not write \"n\" (a string in index ). Hence we need to write an index number of 'n' to get 'n' as output."
      ]
    },
    {
      "cell_type": "markdown",
      "metadata": {
        "id": "GyNmzb8iW743"
      },
      "source": [
        "In the next cell, write an expression that accesses `awards[2]` and returns `True`. "
      ]
    },
    {
      "cell_type": "code",
      "metadata": {
        "id": "S5ObRPoaW744",
        "colab": {
          "base_uri": "https://localhost:8080/"
        },
        "outputId": "b2d91e0e-01a4-4067-c78d-a28028d90a8c"
      },
      "source": [
        "'pul' in awards[2]"
      ],
      "execution_count": 17,
      "outputs": [
        {
          "output_type": "execute_result",
          "data": {
            "text/plain": [
              "True"
            ]
          },
          "metadata": {},
          "execution_count": 17
        }
      ]
    },
    {
      "cell_type": "markdown",
      "metadata": {
        "id": "BHPox3R5W747"
      },
      "source": [
        "Since 'pul' in 'pulitzer' awards[2] it returns true."
      ]
    },
    {
      "cell_type": "markdown",
      "metadata": {
        "id": "MTSVrHjiW747"
      },
      "source": [
        "In the next cell, write an expression that accesses `language_decade_pairs` and raises\n",
        "a `TypeError`."
      ]
    },
    {
      "cell_type": "code",
      "metadata": {
        "id": "dQlgKSz1W748",
        "colab": {
          "base_uri": "https://localhost:8080/",
          "height": 166
        },
        "outputId": "5c94203d-0e7a-4297-ce08-261c62487c1c"
      },
      "source": [
        "language_decade_pairs[0]['50s']"
      ],
      "execution_count": 16,
      "outputs": [
        {
          "output_type": "error",
          "ename": "TypeError",
          "evalue": "ignored",
          "traceback": [
            "\u001b[0;31m---------------------------------------------------------------------------\u001b[0m",
            "\u001b[0;31mTypeError\u001b[0m                                 Traceback (most recent call last)",
            "\u001b[0;32m<ipython-input-16-41796b2f44d7>\u001b[0m in \u001b[0;36m<module>\u001b[0;34m()\u001b[0m\n\u001b[0;32m----> 1\u001b[0;31m \u001b[0mlanguage_decade_pairs\u001b[0m\u001b[0;34m[\u001b[0m\u001b[0;36m0\u001b[0m\u001b[0;34m]\u001b[0m\u001b[0;34m[\u001b[0m\u001b[0;34m'50s'\u001b[0m\u001b[0;34m]\u001b[0m\u001b[0;34m\u001b[0m\u001b[0;34m\u001b[0m\u001b[0m\n\u001b[0m",
            "\u001b[0;31mTypeError\u001b[0m: tuple indices must be integers or slices, not str"
          ]
        }
      ]
    },
    {
      "cell_type": "markdown",
      "metadata": {
        "id": "o0uOi3F1W74-"
      },
      "source": [
        "As expained above language_decade_pairs is a list and have numerical index values. Hence ['50s'] gives the TypeError "
      ]
    },
    {
      "cell_type": "markdown",
      "metadata": {
        "id": "BAs0bfXxW75D"
      },
      "source": [
        "In the next cell, write an expression that accesses `friends_network` and returns `8`. "
      ]
    },
    {
      "cell_type": "code",
      "metadata": {
        "id": "hVFy1awGW75D",
        "colab": {
          "base_uri": "https://localhost:8080/"
        },
        "outputId": "e9b7d195-b3db-403f-f48c-8eb619a1256f"
      },
      "source": [
        "friends_network['susan']['alex']"
      ],
      "execution_count": 15,
      "outputs": [
        {
          "output_type": "execute_result",
          "data": {
            "text/plain": [
              "8"
            ]
          },
          "metadata": {},
          "execution_count": 15
        }
      ]
    },
    {
      "cell_type": "markdown",
      "metadata": {
        "id": "g-20RA33W75G"
      },
      "source": [
        "For Dictionaries we need write the key in [ ] in order to get the value "
      ]
    },
    {
      "cell_type": "markdown",
      "metadata": {
        "id": "CIlyrl7EW75H"
      },
      "source": [
        "In the next cell, write an expression that accesses `friends_network` and returns `4`. "
      ]
    },
    {
      "cell_type": "code",
      "metadata": {
        "id": "Ho-bG6cQW75H",
        "colab": {
          "base_uri": "https://localhost:8080/"
        },
        "outputId": "ebd6ed3f-9661-4073-b782-acf49e1c9970"
      },
      "source": [
        "friends_network['louis']['alex']"
      ],
      "execution_count": 14,
      "outputs": [
        {
          "output_type": "execute_result",
          "data": {
            "text/plain": [
              "4"
            ]
          },
          "metadata": {},
          "execution_count": 14
        }
      ]
    },
    {
      "cell_type": "markdown",
      "metadata": {
        "id": "s4HBqIahW75M"
      },
      "source": [
        "In the next cell, write an expression that accesses `personnel_files` and returns `Barney Rubble`. "
      ]
    },
    {
      "cell_type": "code",
      "metadata": {
        "id": "gVKYQYLVW75M",
        "colab": {
          "base_uri": "https://localhost:8080/",
          "height": 35
        },
        "outputId": "798e50ea-309b-4c36-85ea-eca06297be51"
      },
      "source": [
        "personnel_files[1]['name']"
      ],
      "execution_count": 10,
      "outputs": [
        {
          "output_type": "execute_result",
          "data": {
            "application/vnd.google.colaboratory.intrinsic+json": {
              "type": "string"
            },
            "text/plain": [
              "'Barney Rubble'"
            ]
          },
          "metadata": {},
          "execution_count": 10
        }
      ]
    },
    {
      "cell_type": "markdown",
      "metadata": {
        "id": "-7xecYYuW75P"
      },
      "source": [
        "personnel_files is list containing some dictionaries in it. Hence in first [ ]  should be numerical "
      ]
    },
    {
      "cell_type": "markdown",
      "metadata": {
        "id": "5WCkETk-W75P"
      },
      "source": [
        "In the next cell, write an expression that accesses `personnel_files` and returns `\"roc\"`. "
      ]
    },
    {
      "cell_type": "code",
      "metadata": {
        "id": "gL-f2FucW75P",
        "colab": {
          "base_uri": "https://localhost:8080/",
          "height": 35
        },
        "outputId": "48cff9aa-7ec6-435d-d607-28538bdb6986"
      },
      "source": [
        "personnel_files[0]['town of residence'][3:6]"
      ],
      "execution_count": 13,
      "outputs": [
        {
          "output_type": "execute_result",
          "data": {
            "application/vnd.google.colaboratory.intrinsic+json": {
              "type": "string"
            },
            "text/plain": [
              "'roc'"
            ]
          },
          "metadata": {},
          "execution_count": 13
        }
      ]
    },
    {
      "cell_type": "markdown",
      "metadata": {
        "id": "JbtVOFMCW75S"
      },
      "source": [
        " "
      ]
    },
    {
      "cell_type": "markdown",
      "metadata": {
        "id": "NiSCfU1BW75T"
      },
      "source": [
        "Can you write an expression that sets the first element of `awards` to be `\"national_book_award\"`.  If not, why not?\n",
        "\n",
        "You may use the next cell to illustrate your answer."
      ]
    },
    {
      "cell_type": "code",
      "metadata": {
        "id": "EgggrwskW75U",
        "colab": {
          "base_uri": "https://localhost:8080/"
        },
        "outputId": "819eb009-7466-4b78-8d58-703859d41359"
      },
      "source": [
        "# Alternative expession for changing first element of awards to \"national_book_award\"\n",
        "award_list = list(awards)\n",
        "award_list[0] = \"national_book_award\"\n",
        "awards_tuple = tuple(award_list)\n",
        "print(awards_tuple)"
      ],
      "execution_count": 11,
      "outputs": [
        {
          "output_type": "stream",
          "name": "stdout",
          "text": [
            "('national_book_award', 'emmy', 'pulitzer', 'hugo', 'baseball_mvp', 'edgar', 'nobel_prize', 'oscar')\n"
          ]
        }
      ]
    },
    {
      "cell_type": "markdown",
      "metadata": {
        "id": "H7lDWVTTW75X"
      },
      "source": [
        "Sol: No we can not directly rewrite the 1st element of awards, since the awards is tuple and the tuples unchangeable, or immutable. If we want to make some changes in tuple, we can convert the tuple into list, make changes and convert back to tuple."
      ]
    },
    {
      "cell_type": "markdown",
      "metadata": {
        "id": "rehiuvcXW75Y"
      },
      "source": [
        "In the next cell, write an expression that accesses `awards[-2]` and returns `True`. "
      ]
    },
    {
      "cell_type": "code",
      "metadata": {
        "id": "jJNlecohW75Z",
        "colab": {
          "base_uri": "https://localhost:8080/"
        },
        "outputId": "9ef476b3-f161-4bff-fd08-8ceb5db12282"
      },
      "source": [
        "len(awards[-2]) == 11"
      ],
      "execution_count": 12,
      "outputs": [
        {
          "output_type": "execute_result",
          "data": {
            "text/plain": [
              "True"
            ]
          },
          "metadata": {},
          "execution_count": 12
        }
      ]
    },
    {
      "cell_type": "markdown",
      "metadata": {
        "id": "Un339aJjW75c"
      },
      "source": [
        "Length of awards[-2] is 11, hence returns True "
      ]
    },
    {
      "cell_type": "markdown",
      "metadata": {
        "id": "olFPDUg7W75c"
      },
      "source": [
        "In the next cell, write an expression that accesses `friends_n etwork` and returns \n",
        "a dictionary with three keys. "
      ]
    },
    {
      "cell_type": "code",
      "source": [
        "friends_network['alex']"
      ],
      "metadata": {
        "colab": {
          "base_uri": "https://localhost:8080/"
        },
        "id": "euyMkDcQu5aa",
        "outputId": "4225a242-1160-4ca1-a537-747e6b462aa9"
      },
      "execution_count": 24,
      "outputs": [
        {
          "output_type": "execute_result",
          "data": {
            "text/plain": [
              "{'giuseppe': 3, 'louis': 5, 'susan': 3}"
            ]
          },
          "metadata": {},
          "execution_count": 24
        }
      ]
    },
    {
      "cell_type": "markdown",
      "source": [
        "Also written an alternative expression to return all the dictionaries with 3 keys"
      ],
      "metadata": {
        "id": "noR2AXyAvAru"
      }
    },
    {
      "cell_type": "code",
      "metadata": {
        "id": "urLfNBrpW75d",
        "colab": {
          "base_uri": "https://localhost:8080/"
        },
        "outputId": "9b17e11a-ddc0-42ce-b8c5-e0981ba82081"
      },
      "source": [
        "# Bellow expression returns dictionaries with 3 keys\n",
        "for key in friends_network:\n",
        "    if len(friends_network[key]) == 3:\n",
        "        print(key)\n",
        "        print(friends_network[key]) "
      ],
      "execution_count": 25,
      "outputs": [
        {
          "output_type": "stream",
          "name": "stdout",
          "text": [
            "alex\n",
            "{'louis': 5, 'susan': 3, 'giuseppe': 3}\n",
            "plato\n",
            "{'louis': 8, 'giuseppe': 2, 'susan': 2}\n"
          ]
        }
      ]
    },
    {
      "cell_type": "markdown",
      "metadata": {
        "id": "-SmuZa2HW75g"
      },
      "source": [
        " "
      ]
    },
    {
      "cell_type": "markdown",
      "metadata": {
        "id": "qwn17TUFW75h"
      },
      "source": [
        "##       Part Two"
      ]
    },
    {
      "cell_type": "markdown",
      "metadata": {
        "id": "Ma_hoftyW75h"
      },
      "source": [
        "Write down expressions to retrieve the given values from the given variables."
      ]
    },
    {
      "cell_type": "markdown",
      "metadata": {
        "id": "XvH9JnpVW75i"
      },
      "source": [
        "1) `'mm'` from `awards`"
      ]
    },
    {
      "cell_type": "code",
      "metadata": {
        "id": "grPenshDW75i",
        "outputId": "a454674f-311a-4c1f-e8c8-3a8306ad99c8",
        "colab": {
          "base_uri": "https://localhost:8080/",
          "height": 35
        }
      },
      "source": [
        "awards[0][3:5]"
      ],
      "execution_count": 26,
      "outputs": [
        {
          "output_type": "execute_result",
          "data": {
            "application/vnd.google.colaboratory.intrinsic+json": {
              "type": "string"
            },
            "text/plain": [
              "'mm'"
            ]
          },
          "metadata": {},
          "execution_count": 26
        }
      ]
    },
    {
      "cell_type": "markdown",
      "metadata": {
        "id": "hCEFKZu0W75k"
      },
      "source": [
        "2) `'yth'` from `dominant_computer_languages`"
      ]
    },
    {
      "cell_type": "code",
      "metadata": {
        "id": "YfPfNTfrW75k",
        "outputId": "5636f423-14b4-423f-f282-4d1f2b2ecc4e",
        "colab": {
          "base_uri": "https://localhost:8080/",
          "height": 35
        }
      },
      "source": [
        "dominant_computer_languages['10s'][1:4]"
      ],
      "execution_count": 27,
      "outputs": [
        {
          "output_type": "execute_result",
          "data": {
            "application/vnd.google.colaboratory.intrinsic+json": {
              "type": "string"
            },
            "text/plain": [
              "'yth'"
            ]
          },
          "metadata": {},
          "execution_count": 27
        }
      ]
    },
    {
      "cell_type": "markdown",
      "metadata": {
        "id": "AziVAtqLW75n"
      },
      "source": [
        "3) `'yth'` from `language_decade_pairs`"
      ]
    },
    {
      "cell_type": "code",
      "metadata": {
        "id": "Kd0ImWxkW75o",
        "outputId": "ac747630-2bec-4e50-d2f8-a78be0b5c53a",
        "colab": {
          "base_uri": "https://localhost:8080/",
          "height": 35
        }
      },
      "source": [
        "language_decade_pairs[-1][1][1:4]"
      ],
      "execution_count": 28,
      "outputs": [
        {
          "output_type": "execute_result",
          "data": {
            "application/vnd.google.colaboratory.intrinsic+json": {
              "type": "string"
            },
            "text/plain": [
              "'yth'"
            ]
          },
          "metadata": {},
          "execution_count": 28
        }
      ]
    },
    {
      "cell_type": "markdown",
      "metadata": {
        "id": "FAG5HtfyW75q"
      },
      "source": [
        "4) `'mvp'` from `awards`"
      ]
    },
    {
      "cell_type": "code",
      "metadata": {
        "id": "1RbAp7uVW75r",
        "outputId": "25a5f2c6-9ea9-4212-ec14-de2835486bdd",
        "colab": {
          "base_uri": "https://localhost:8080/",
          "height": 35
        }
      },
      "source": [
        "awards[4][9:12]"
      ],
      "execution_count": 29,
      "outputs": [
        {
          "output_type": "execute_result",
          "data": {
            "application/vnd.google.colaboratory.intrinsic+json": {
              "type": "string"
            },
            "text/plain": [
              "'mvp'"
            ]
          },
          "metadata": {},
          "execution_count": 29
        }
      ]
    },
    {
      "cell_type": "markdown",
      "metadata": {
        "id": "7ZMgB6DRW75t"
      },
      "source": [
        "5) `'edr'` from `personnel_files`"
      ]
    },
    {
      "cell_type": "code",
      "metadata": {
        "id": "S0LjtauVW75t",
        "outputId": "d74d3fae-6f8d-45fb-a296-f42ac598d665",
        "colab": {
          "base_uri": "https://localhost:8080/",
          "height": 35
        }
      },
      "source": [
        "personnel_files[0]['town of residence'][1:4]"
      ],
      "execution_count": 30,
      "outputs": [
        {
          "output_type": "execute_result",
          "data": {
            "application/vnd.google.colaboratory.intrinsic+json": {
              "type": "string"
            },
            "text/plain": [
              "'edr'"
            ]
          },
          "metadata": {},
          "execution_count": 30
        }
      ]
    },
    {
      "cell_type": "markdown",
      "metadata": {
        "id": "VJQo1KOhW75w"
      },
      "source": [
        "  "
      ]
    }
  ]
}