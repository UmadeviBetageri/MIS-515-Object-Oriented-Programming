{
  "cells": [
    {
      "cell_type": "markdown",
      "metadata": {
        "id": "5DeYXbqK-rRW"
      },
      "source": [
        "## Analyzing insults with Naive Bayes: pandas and sklearn"
      ]
    },
    {
      "cell_type": "code",
      "execution_count": 91,
      "metadata": {
        "scrolled": true,
        "id": "MejilF82-rRZ"
      },
      "outputs": [],
      "source": [
        "import numpy as np\n",
        "import pandas as pd\n",
        "import sklearn\n",
        "from sklearn.model_selection import train_test_split\n",
        "from sklearn.model_selection import GridSearchCV as gs\n",
        "import sklearn.feature_extraction.text as text\n",
        "import sklearn.naive_bayes as nb\n",
        "import matplotlib.pyplot as plt\n",
        "from sklearn.metrics import precision_score, recall_score\n",
        "%matplotlib inline"
      ]
    },
    {
      "cell_type": "markdown",
      "metadata": {
        "id": "qildTjvw-rRb"
      },
      "source": [
        "## Loading and preparing the data"
      ]
    },
    {
      "cell_type": "markdown",
      "metadata": {
        "id": "28jZSTW_-rRb"
      },
      "source": [
        "Let's open the CSV file with `pandas`."
      ]
    },
    {
      "cell_type": "code",
      "execution_count": 92,
      "metadata": {
        "id": "MtGQlB1q-rRc"
      },
      "outputs": [],
      "source": [
        "import os.path\n",
        "site = 'https://gawron.sdsu.edu/python_for_ss/course_core/book_draft/_static/'\n",
        "df = pd.read_csv(os.path.join(site,\"troll.csv\"))"
      ]
    },
    {
      "cell_type": "markdown",
      "metadata": {
        "id": "M3ncLUYx-rRc"
      },
      "source": [
        "Each row is a comment  taken from a blog or online forum. There are three columns: whether the comment is insulting (1) or not (0), the data, and the unicode-encoded contents of the comment."
      ]
    },
    {
      "cell_type": "code",
      "execution_count": 93,
      "metadata": {
        "id": "pFeNaW-m-rRd",
        "outputId": "54011e7b-0086-4657-ae49-ff9acf959127",
        "colab": {
          "base_uri": "https://localhost:8080/",
          "height": 206
        }
      },
      "outputs": [
        {
          "output_type": "execute_result",
          "data": {
            "text/plain": [
              "      Insult                                            Comment\n",
              "3942       1  \"you are both morons and that is never happening\"\n",
              "3943       0  \"Many toolbars include spell check, like Yahoo...\n",
              "3944       0  \"@LambeauOrWrigley\\xa0\\xa0@K.Moss\\xa0\\nSioux F...\n",
              "3945       0  \"How about Felix? He is sure turning into one ...\n",
              "3946       0  \"You're all upset, defending this hipster band..."
            ],
            "text/html": [
              "\n",
              "  <div id=\"df-7a715a0f-d22b-443d-9eac-be00bce1cefa\">\n",
              "    <div class=\"colab-df-container\">\n",
              "      <div>\n",
              "<style scoped>\n",
              "    .dataframe tbody tr th:only-of-type {\n",
              "        vertical-align: middle;\n",
              "    }\n",
              "\n",
              "    .dataframe tbody tr th {\n",
              "        vertical-align: top;\n",
              "    }\n",
              "\n",
              "    .dataframe thead th {\n",
              "        text-align: right;\n",
              "    }\n",
              "</style>\n",
              "<table border=\"1\" class=\"dataframe\">\n",
              "  <thead>\n",
              "    <tr style=\"text-align: right;\">\n",
              "      <th></th>\n",
              "      <th>Insult</th>\n",
              "      <th>Comment</th>\n",
              "    </tr>\n",
              "  </thead>\n",
              "  <tbody>\n",
              "    <tr>\n",
              "      <th>3942</th>\n",
              "      <td>1</td>\n",
              "      <td>\"you are both morons and that is never happening\"</td>\n",
              "    </tr>\n",
              "    <tr>\n",
              "      <th>3943</th>\n",
              "      <td>0</td>\n",
              "      <td>\"Many toolbars include spell check, like Yahoo...</td>\n",
              "    </tr>\n",
              "    <tr>\n",
              "      <th>3944</th>\n",
              "      <td>0</td>\n",
              "      <td>\"@LambeauOrWrigley\\xa0\\xa0@K.Moss\\xa0\\nSioux F...</td>\n",
              "    </tr>\n",
              "    <tr>\n",
              "      <th>3945</th>\n",
              "      <td>0</td>\n",
              "      <td>\"How about Felix? He is sure turning into one ...</td>\n",
              "    </tr>\n",
              "    <tr>\n",
              "      <th>3946</th>\n",
              "      <td>0</td>\n",
              "      <td>\"You're all upset, defending this hipster band...</td>\n",
              "    </tr>\n",
              "  </tbody>\n",
              "</table>\n",
              "</div>\n",
              "      <button class=\"colab-df-convert\" onclick=\"convertToInteractive('df-7a715a0f-d22b-443d-9eac-be00bce1cefa')\"\n",
              "              title=\"Convert this dataframe to an interactive table.\"\n",
              "              style=\"display:none;\">\n",
              "        \n",
              "  <svg xmlns=\"http://www.w3.org/2000/svg\" height=\"24px\"viewBox=\"0 0 24 24\"\n",
              "       width=\"24px\">\n",
              "    <path d=\"M0 0h24v24H0V0z\" fill=\"none\"/>\n",
              "    <path d=\"M18.56 5.44l.94 2.06.94-2.06 2.06-.94-2.06-.94-.94-2.06-.94 2.06-2.06.94zm-11 1L8.5 8.5l.94-2.06 2.06-.94-2.06-.94L8.5 2.5l-.94 2.06-2.06.94zm10 10l.94 2.06.94-2.06 2.06-.94-2.06-.94-.94-2.06-.94 2.06-2.06.94z\"/><path d=\"M17.41 7.96l-1.37-1.37c-.4-.4-.92-.59-1.43-.59-.52 0-1.04.2-1.43.59L10.3 9.45l-7.72 7.72c-.78.78-.78 2.05 0 2.83L4 21.41c.39.39.9.59 1.41.59.51 0 1.02-.2 1.41-.59l7.78-7.78 2.81-2.81c.8-.78.8-2.07 0-2.86zM5.41 20L4 18.59l7.72-7.72 1.47 1.35L5.41 20z\"/>\n",
              "  </svg>\n",
              "      </button>\n",
              "      \n",
              "  <style>\n",
              "    .colab-df-container {\n",
              "      display:flex;\n",
              "      flex-wrap:wrap;\n",
              "      gap: 12px;\n",
              "    }\n",
              "\n",
              "    .colab-df-convert {\n",
              "      background-color: #E8F0FE;\n",
              "      border: none;\n",
              "      border-radius: 50%;\n",
              "      cursor: pointer;\n",
              "      display: none;\n",
              "      fill: #1967D2;\n",
              "      height: 32px;\n",
              "      padding: 0 0 0 0;\n",
              "      width: 32px;\n",
              "    }\n",
              "\n",
              "    .colab-df-convert:hover {\n",
              "      background-color: #E2EBFA;\n",
              "      box-shadow: 0px 1px 2px rgba(60, 64, 67, 0.3), 0px 1px 3px 1px rgba(60, 64, 67, 0.15);\n",
              "      fill: #174EA6;\n",
              "    }\n",
              "\n",
              "    [theme=dark] .colab-df-convert {\n",
              "      background-color: #3B4455;\n",
              "      fill: #D2E3FC;\n",
              "    }\n",
              "\n",
              "    [theme=dark] .colab-df-convert:hover {\n",
              "      background-color: #434B5C;\n",
              "      box-shadow: 0px 1px 3px 1px rgba(0, 0, 0, 0.15);\n",
              "      filter: drop-shadow(0px 1px 2px rgba(0, 0, 0, 0.3));\n",
              "      fill: #FFFFFF;\n",
              "    }\n",
              "  </style>\n",
              "\n",
              "      <script>\n",
              "        const buttonEl =\n",
              "          document.querySelector('#df-7a715a0f-d22b-443d-9eac-be00bce1cefa button.colab-df-convert');\n",
              "        buttonEl.style.display =\n",
              "          google.colab.kernel.accessAllowed ? 'block' : 'none';\n",
              "\n",
              "        async function convertToInteractive(key) {\n",
              "          const element = document.querySelector('#df-7a715a0f-d22b-443d-9eac-be00bce1cefa');\n",
              "          const dataTable =\n",
              "            await google.colab.kernel.invokeFunction('convertToInteractive',\n",
              "                                                     [key], {});\n",
              "          if (!dataTable) return;\n",
              "\n",
              "          const docLinkHtml = 'Like what you see? Visit the ' +\n",
              "            '<a target=\"_blank\" href=https://colab.research.google.com/notebooks/data_table.ipynb>data table notebook</a>'\n",
              "            + ' to learn more about interactive tables.';\n",
              "          element.innerHTML = '';\n",
              "          dataTable['output_type'] = 'display_data';\n",
              "          await google.colab.output.renderOutput(dataTable, element);\n",
              "          const docLink = document.createElement('div');\n",
              "          docLink.innerHTML = docLinkHtml;\n",
              "          element.appendChild(docLink);\n",
              "        }\n",
              "      </script>\n",
              "    </div>\n",
              "  </div>\n",
              "  "
            ]
          },
          "metadata": {},
          "execution_count": 93
        }
      ],
      "source": [
        "df[['Insult', 'Comment']].tail()"
      ]
    },
    {
      "cell_type": "markdown",
      "metadata": {
        "id": "7sEjygA0-rRe"
      },
      "source": [
        "Write a pandas command to give you just the insults."
      ]
    },
    {
      "cell_type": "code",
      "execution_count": 94,
      "metadata": {
        "id": "b8QDhTRJ-rRe"
      },
      "outputs": [],
      "source": [
        "# Solution replaces df on the RHS\n",
        "insult_df = df[df['Insult'] ==1]"
      ]
    },
    {
      "cell_type": "code",
      "execution_count": 95,
      "metadata": {
        "scrolled": true,
        "id": "9Mse4iGA-rRf",
        "outputId": "62d11eed-f6ad-4684-b004-e46f88367d21",
        "colab": {
          "base_uri": "https://localhost:8080/",
          "height": 833
        }
      },
      "outputs": [
        {
          "output_type": "execute_result",
          "data": {
            "text/plain": [
              "    Insult             Date                                            Comment\n",
              "0        1  20120618192155Z                               \"You fuck your dad.\"\n",
              "7        1              NaN  \"shut the fuck up. you and the rest of your fa...\n",
              "8        1  20120502173553Z  \"Either you are fake or extremely stupid...may...\n",
              "9        1  20120620160512Z  \"That you are an idiot who understands neither...\n",
              "15       1  20120611090207Z  \"FOR SOME REASON U SOUND RETARDED. LOL. DAMN. ...\n",
              "16       1  20120320162532Z  \"You with the 'racist' screen name\\n\\nYou are ...\n",
              "18       1  20120320075347Z                          \"your such a dickhead...\"\n",
              "19       1  20120320203947Z     \"Your a retard go post your head up your #%&*\"\n",
              "34       1  20120515132156Z  \"Allinit123, your\\xa0hypocrisy\\xa0is sickening...\n",
              "37       1  20120620161958Z  \"I can't believe the stupid people on this sit...\n",
              "38       1  20120609163743Z                   \"fucking behave then you prick!\"\n",
              "41       1  20120620075045Z  \"Is that it??  your sum total to any conversat...\n",
              "45       1  20120619074710Z                                           \"faggot\"\n",
              "47       1  20120529130844Z  \"Aimless Abe you are a delusion weirdo that sh...\n",
              "51       1  20120320131007Z      \"Even as a troll you are a pathetic failure.\"\n",
              "55       1  20120502173058Z       \"You're a moron, truth is beyond your reach\"\n",
              "59       1  20120619203151Z  \"Your anti-Semitic rants are not welcomed here...\n",
              "61       1  20120619033424Z     \"god, you're tiresome. get a life, you loser.\"\n",
              "79       1  20120619194023Z  \"Fact : Georgia passed a strict immigration po...\n",
              "80       1  20120530000452Z            \"Of course you would bottom feeder ...\"\n",
              "82       1  20120619162450Z  \"You are\\xa0 a fukin moron. \\xa0\\xa0 You are j...\n",
              "88       1  20120619171832Z  \"You are a fucking dumb ass!.  Go back to you ...\n",
              "93       1  20120502203704Z  \"Lets see your papers arealconservati.\\n\\nTill...\n",
              "95       1              NaN  \"Correction Bitch! You don't think it's superb...\n",
              "96       1  20120611215519Z  \"I think the only trickle that effected you wa..."
            ],
            "text/html": [
              "\n",
              "  <div id=\"df-8cb827af-25b8-43c8-8a54-91cf8b584b91\">\n",
              "    <div class=\"colab-df-container\">\n",
              "      <div>\n",
              "<style scoped>\n",
              "    .dataframe tbody tr th:only-of-type {\n",
              "        vertical-align: middle;\n",
              "    }\n",
              "\n",
              "    .dataframe tbody tr th {\n",
              "        vertical-align: top;\n",
              "    }\n",
              "\n",
              "    .dataframe thead th {\n",
              "        text-align: right;\n",
              "    }\n",
              "</style>\n",
              "<table border=\"1\" class=\"dataframe\">\n",
              "  <thead>\n",
              "    <tr style=\"text-align: right;\">\n",
              "      <th></th>\n",
              "      <th>Insult</th>\n",
              "      <th>Date</th>\n",
              "      <th>Comment</th>\n",
              "    </tr>\n",
              "  </thead>\n",
              "  <tbody>\n",
              "    <tr>\n",
              "      <th>0</th>\n",
              "      <td>1</td>\n",
              "      <td>20120618192155Z</td>\n",
              "      <td>\"You fuck your dad.\"</td>\n",
              "    </tr>\n",
              "    <tr>\n",
              "      <th>7</th>\n",
              "      <td>1</td>\n",
              "      <td>NaN</td>\n",
              "      <td>\"shut the fuck up. you and the rest of your fa...</td>\n",
              "    </tr>\n",
              "    <tr>\n",
              "      <th>8</th>\n",
              "      <td>1</td>\n",
              "      <td>20120502173553Z</td>\n",
              "      <td>\"Either you are fake or extremely stupid...may...</td>\n",
              "    </tr>\n",
              "    <tr>\n",
              "      <th>9</th>\n",
              "      <td>1</td>\n",
              "      <td>20120620160512Z</td>\n",
              "      <td>\"That you are an idiot who understands neither...</td>\n",
              "    </tr>\n",
              "    <tr>\n",
              "      <th>15</th>\n",
              "      <td>1</td>\n",
              "      <td>20120611090207Z</td>\n",
              "      <td>\"FOR SOME REASON U SOUND RETARDED. LOL. DAMN. ...</td>\n",
              "    </tr>\n",
              "    <tr>\n",
              "      <th>16</th>\n",
              "      <td>1</td>\n",
              "      <td>20120320162532Z</td>\n",
              "      <td>\"You with the 'racist' screen name\\n\\nYou are ...</td>\n",
              "    </tr>\n",
              "    <tr>\n",
              "      <th>18</th>\n",
              "      <td>1</td>\n",
              "      <td>20120320075347Z</td>\n",
              "      <td>\"your such a dickhead...\"</td>\n",
              "    </tr>\n",
              "    <tr>\n",
              "      <th>19</th>\n",
              "      <td>1</td>\n",
              "      <td>20120320203947Z</td>\n",
              "      <td>\"Your a retard go post your head up your #%&amp;*\"</td>\n",
              "    </tr>\n",
              "    <tr>\n",
              "      <th>34</th>\n",
              "      <td>1</td>\n",
              "      <td>20120515132156Z</td>\n",
              "      <td>\"Allinit123, your\\xa0hypocrisy\\xa0is sickening...</td>\n",
              "    </tr>\n",
              "    <tr>\n",
              "      <th>37</th>\n",
              "      <td>1</td>\n",
              "      <td>20120620161958Z</td>\n",
              "      <td>\"I can't believe the stupid people on this sit...</td>\n",
              "    </tr>\n",
              "    <tr>\n",
              "      <th>38</th>\n",
              "      <td>1</td>\n",
              "      <td>20120609163743Z</td>\n",
              "      <td>\"fucking behave then you prick!\"</td>\n",
              "    </tr>\n",
              "    <tr>\n",
              "      <th>41</th>\n",
              "      <td>1</td>\n",
              "      <td>20120620075045Z</td>\n",
              "      <td>\"Is that it??  your sum total to any conversat...</td>\n",
              "    </tr>\n",
              "    <tr>\n",
              "      <th>45</th>\n",
              "      <td>1</td>\n",
              "      <td>20120619074710Z</td>\n",
              "      <td>\"faggot\"</td>\n",
              "    </tr>\n",
              "    <tr>\n",
              "      <th>47</th>\n",
              "      <td>1</td>\n",
              "      <td>20120529130844Z</td>\n",
              "      <td>\"Aimless Abe you are a delusion weirdo that sh...</td>\n",
              "    </tr>\n",
              "    <tr>\n",
              "      <th>51</th>\n",
              "      <td>1</td>\n",
              "      <td>20120320131007Z</td>\n",
              "      <td>\"Even as a troll you are a pathetic failure.\"</td>\n",
              "    </tr>\n",
              "    <tr>\n",
              "      <th>55</th>\n",
              "      <td>1</td>\n",
              "      <td>20120502173058Z</td>\n",
              "      <td>\"You're a moron, truth is beyond your reach\"</td>\n",
              "    </tr>\n",
              "    <tr>\n",
              "      <th>59</th>\n",
              "      <td>1</td>\n",
              "      <td>20120619203151Z</td>\n",
              "      <td>\"Your anti-Semitic rants are not welcomed here...</td>\n",
              "    </tr>\n",
              "    <tr>\n",
              "      <th>61</th>\n",
              "      <td>1</td>\n",
              "      <td>20120619033424Z</td>\n",
              "      <td>\"god, you're tiresome. get a life, you loser.\"</td>\n",
              "    </tr>\n",
              "    <tr>\n",
              "      <th>79</th>\n",
              "      <td>1</td>\n",
              "      <td>20120619194023Z</td>\n",
              "      <td>\"Fact : Georgia passed a strict immigration po...</td>\n",
              "    </tr>\n",
              "    <tr>\n",
              "      <th>80</th>\n",
              "      <td>1</td>\n",
              "      <td>20120530000452Z</td>\n",
              "      <td>\"Of course you would bottom feeder ...\"</td>\n",
              "    </tr>\n",
              "    <tr>\n",
              "      <th>82</th>\n",
              "      <td>1</td>\n",
              "      <td>20120619162450Z</td>\n",
              "      <td>\"You are\\xa0 a fukin moron. \\xa0\\xa0 You are j...</td>\n",
              "    </tr>\n",
              "    <tr>\n",
              "      <th>88</th>\n",
              "      <td>1</td>\n",
              "      <td>20120619171832Z</td>\n",
              "      <td>\"You are a fucking dumb ass!.  Go back to you ...</td>\n",
              "    </tr>\n",
              "    <tr>\n",
              "      <th>93</th>\n",
              "      <td>1</td>\n",
              "      <td>20120502203704Z</td>\n",
              "      <td>\"Lets see your papers arealconservati.\\n\\nTill...</td>\n",
              "    </tr>\n",
              "    <tr>\n",
              "      <th>95</th>\n",
              "      <td>1</td>\n",
              "      <td>NaN</td>\n",
              "      <td>\"Correction Bitch! You don't think it's superb...</td>\n",
              "    </tr>\n",
              "    <tr>\n",
              "      <th>96</th>\n",
              "      <td>1</td>\n",
              "      <td>20120611215519Z</td>\n",
              "      <td>\"I think the only trickle that effected you wa...</td>\n",
              "    </tr>\n",
              "  </tbody>\n",
              "</table>\n",
              "</div>\n",
              "      <button class=\"colab-df-convert\" onclick=\"convertToInteractive('df-8cb827af-25b8-43c8-8a54-91cf8b584b91')\"\n",
              "              title=\"Convert this dataframe to an interactive table.\"\n",
              "              style=\"display:none;\">\n",
              "        \n",
              "  <svg xmlns=\"http://www.w3.org/2000/svg\" height=\"24px\"viewBox=\"0 0 24 24\"\n",
              "       width=\"24px\">\n",
              "    <path d=\"M0 0h24v24H0V0z\" fill=\"none\"/>\n",
              "    <path d=\"M18.56 5.44l.94 2.06.94-2.06 2.06-.94-2.06-.94-.94-2.06-.94 2.06-2.06.94zm-11 1L8.5 8.5l.94-2.06 2.06-.94-2.06-.94L8.5 2.5l-.94 2.06-2.06.94zm10 10l.94 2.06.94-2.06 2.06-.94-2.06-.94-.94-2.06-.94 2.06-2.06.94z\"/><path d=\"M17.41 7.96l-1.37-1.37c-.4-.4-.92-.59-1.43-.59-.52 0-1.04.2-1.43.59L10.3 9.45l-7.72 7.72c-.78.78-.78 2.05 0 2.83L4 21.41c.39.39.9.59 1.41.59.51 0 1.02-.2 1.41-.59l7.78-7.78 2.81-2.81c.8-.78.8-2.07 0-2.86zM5.41 20L4 18.59l7.72-7.72 1.47 1.35L5.41 20z\"/>\n",
              "  </svg>\n",
              "      </button>\n",
              "      \n",
              "  <style>\n",
              "    .colab-df-container {\n",
              "      display:flex;\n",
              "      flex-wrap:wrap;\n",
              "      gap: 12px;\n",
              "    }\n",
              "\n",
              "    .colab-df-convert {\n",
              "      background-color: #E8F0FE;\n",
              "      border: none;\n",
              "      border-radius: 50%;\n",
              "      cursor: pointer;\n",
              "      display: none;\n",
              "      fill: #1967D2;\n",
              "      height: 32px;\n",
              "      padding: 0 0 0 0;\n",
              "      width: 32px;\n",
              "    }\n",
              "\n",
              "    .colab-df-convert:hover {\n",
              "      background-color: #E2EBFA;\n",
              "      box-shadow: 0px 1px 2px rgba(60, 64, 67, 0.3), 0px 1px 3px 1px rgba(60, 64, 67, 0.15);\n",
              "      fill: #174EA6;\n",
              "    }\n",
              "\n",
              "    [theme=dark] .colab-df-convert {\n",
              "      background-color: #3B4455;\n",
              "      fill: #D2E3FC;\n",
              "    }\n",
              "\n",
              "    [theme=dark] .colab-df-convert:hover {\n",
              "      background-color: #434B5C;\n",
              "      box-shadow: 0px 1px 3px 1px rgba(0, 0, 0, 0.15);\n",
              "      filter: drop-shadow(0px 1px 2px rgba(0, 0, 0, 0.3));\n",
              "      fill: #FFFFFF;\n",
              "    }\n",
              "  </style>\n",
              "\n",
              "      <script>\n",
              "        const buttonEl =\n",
              "          document.querySelector('#df-8cb827af-25b8-43c8-8a54-91cf8b584b91 button.colab-df-convert');\n",
              "        buttonEl.style.display =\n",
              "          google.colab.kernel.accessAllowed ? 'block' : 'none';\n",
              "\n",
              "        async function convertToInteractive(key) {\n",
              "          const element = document.querySelector('#df-8cb827af-25b8-43c8-8a54-91cf8b584b91');\n",
              "          const dataTable =\n",
              "            await google.colab.kernel.invokeFunction('convertToInteractive',\n",
              "                                                     [key], {});\n",
              "          if (!dataTable) return;\n",
              "\n",
              "          const docLinkHtml = 'Like what you see? Visit the ' +\n",
              "            '<a target=\"_blank\" href=https://colab.research.google.com/notebooks/data_table.ipynb>data table notebook</a>'\n",
              "            + ' to learn more about interactive tables.';\n",
              "          element.innerHTML = '';\n",
              "          dataTable['output_type'] = 'display_data';\n",
              "          await google.colab.output.renderOutput(dataTable, element);\n",
              "          const docLink = document.createElement('div');\n",
              "          docLink.innerHTML = docLinkHtml;\n",
              "          element.appendChild(docLink);\n",
              "        }\n",
              "      </script>\n",
              "    </div>\n",
              "  </div>\n",
              "  "
            ]
          },
          "metadata": {},
          "execution_count": 95
        }
      ],
      "source": [
        "insult_df[:25]"
      ]
    },
    {
      "cell_type": "code",
      "execution_count": 96,
      "metadata": {
        "id": "m8skwNYM-rRf",
        "outputId": "524ab764-77eb-4eeb-a2eb-e4fa497378c6",
        "colab": {
          "base_uri": "https://localhost:8080/"
        }
      },
      "outputs": [
        {
          "output_type": "execute_result",
          "data": {
            "text/plain": [
              "79    \"Fact : Georgia passed a strict immigration po...\n",
              "80              \"Of course you would bottom feeder ...\"\n",
              "81    \"M\\xe1tenlos!!\\nhttp://1.bp.blogspot.com/-YVSZ...\n",
              "82    \"You are\\xa0 a fukin moron. \\xa0\\xa0 You are j...\n",
              "83    \"He is doing what any president doe's on this ...\n",
              "84    \"...yeah, and you're a f'ing expert.....go bac...\n",
              "Name: Comment, dtype: object"
            ]
          },
          "metadata": {},
          "execution_count": 96
        }
      ],
      "source": [
        "df['Comment'][79:85]"
      ]
    },
    {
      "cell_type": "code",
      "execution_count": 97,
      "metadata": {
        "id": "uPevaZIm-rRg",
        "outputId": "e5755a62-e8c1-4b1b-e2ee-5d2ffff94d31",
        "colab": {
          "base_uri": "https://localhost:8080/",
          "height": 87
        }
      },
      "outputs": [
        {
          "output_type": "execute_result",
          "data": {
            "text/plain": [
              "'\"Fact : Georgia passed a strict immigration policy and most of the Latino farm workers left the area. Vidalia Georgia now has over 3000 agriculture job openings and they have been able to fill about 250 of them in past year. All you White Real Americans who are looking for work that the Latinos stole from you..Where are you ? The jobs are i Vadalia just waiting for you..Or maybe its the fact that you would rather collect unemployment like the rest of the Tea Klaners.. You scream..you complain..and you sit at home in your wife beaters and drink beer..Typical Real White Tea Klan....\"'"
            ],
            "application/vnd.google.colaboratory.intrinsic+json": {
              "type": "string"
            }
          },
          "metadata": {},
          "execution_count": 97
        }
      ],
      "source": [
        "df['Comment'][79]"
      ]
    },
    {
      "cell_type": "markdown",
      "metadata": {
        "id": "LDqCa2aZ-rRg"
      },
      "source": [
        "NB:  `insult_df` is **not** modified by the following sort."
      ]
    },
    {
      "cell_type": "code",
      "source": [
        "insult_df = df"
      ],
      "metadata": {
        "id": "g5VCWd2g-8iS"
      },
      "execution_count": 98,
      "outputs": []
    },
    {
      "cell_type": "code",
      "execution_count": 99,
      "metadata": {
        "id": "6AWuiuBO-rRg",
        "outputId": "55586268-7be8-40c0-d331-1d0bd44ac796",
        "colab": {
          "base_uri": "https://localhost:8080/"
        }
      },
      "outputs": [
        {
          "output_type": "execute_result",
          "data": {
            "text/plain": [
              "2004    17805\n",
              "3416    10716\n",
              "1305     4769\n",
              "3068     4312\n",
              "3208     4016\n",
              "        ...  \n",
              "3919        8\n",
              "755         8\n",
              "45          8\n",
              "2937        6\n",
              "3112        6\n",
              "Name: Size, Length: 3947, dtype: int64"
            ]
          },
          "metadata": {},
          "execution_count": 99
        }
      ],
      "source": [
        "insult_df['Size'] = df['Comment'].apply(len)\n",
        "insult_df['Size'].sort_values(ascending = False)"
      ]
    },
    {
      "cell_type": "markdown",
      "metadata": {
        "id": "Ibxc3U3K-rRh"
      },
      "source": [
        "Now we define the feature matrix $\\mathbf{X}$ and the labels $\\mathbf{y}$."
      ]
    },
    {
      "cell_type": "code",
      "execution_count": 100,
      "metadata": {
        "id": "wty7pj42-rRh",
        "outputId": "e0c6dbc9-4c99-459e-d9aa-553fef71004e",
        "colab": {
          "base_uri": "https://localhost:8080/"
        }
      },
      "outputs": [
        {
          "output_type": "execute_result",
          "data": {
            "text/plain": [
              "703"
            ]
          },
          "metadata": {},
          "execution_count": 100
        }
      ],
      "source": [
        "len(insult_df.loc[3208]['Comment'].split())"
      ]
    },
    {
      "cell_type": "code",
      "execution_count": 102,
      "metadata": {
        "id": "I_PkM5-Y-rRh",
        "outputId": "9e5a7ea8-1553-419a-e341-d743624b1abb",
        "colab": {
          "base_uri": "https://localhost:8080/"
        }
      },
      "outputs": [
        {
          "output_type": "execute_result",
          "data": {
            "text/plain": [
              "Insult                   1\n",
              "Date       20120620121441Z\n",
              "Comment           \"Retard\"\n",
              "Size                     8\n",
              "Name: 755, dtype: object"
            ]
          },
          "metadata": {},
          "execution_count": 102
        }
      ],
      "source": [
        "insult_df.loc[755]"
      ]
    },
    {
      "cell_type": "code",
      "execution_count": 103,
      "metadata": {
        "id": "Tata-Y2o-rRh",
        "outputId": "54279a8c-5bdf-4792-a08d-4138ca3fead4",
        "colab": {
          "base_uri": "https://localhost:8080/"
        }
      },
      "outputs": [
        {
          "output_type": "execute_result",
          "data": {
            "text/plain": [
              "Insult                   1\n",
              "Date       20120619074710Z\n",
              "Comment           \"faggot\"\n",
              "Size                     8\n",
              "Name: 45, dtype: object"
            ]
          },
          "metadata": {},
          "execution_count": 103
        }
      ],
      "source": [
        "insult_df.loc[45]"
      ]
    },
    {
      "cell_type": "code",
      "execution_count": 104,
      "metadata": {
        "id": "-8xJstOo-rRi"
      },
      "outputs": [],
      "source": [
        "y = df['Insult']"
      ]
    },
    {
      "cell_type": "markdown",
      "metadata": {
        "id": "-jPBwaTr-rRi"
      },
      "source": [
        "We want to use one of the linear classifiers in `sklearn`,\n",
        "bit the learners in `sklearn` only work with numerical arrays. How to convert text into a matrix of numbers?\n",
        "As discussed in lecture and in our text,\n",
        "obtaining the feature matrix from the text is not trivial. "
      ]
    },
    {
      "cell_type": "markdown",
      "metadata": {
        "id": "DSvV0ToN-rRi"
      },
      "source": [
        "The classical solution is to first extract a **vocabulary**: a list of words used throughout the corpus. Then, we can count, for each document in the sample, the frequency of each word. We end up with a **sparse matrix**: a huge matrix containing mostly zeros. Here, `sklearn` and `pandas` make it possible to do this in two lines. "
      ]
    },
    {
      "cell_type": "code",
      "execution_count": 105,
      "metadata": {
        "id": "Rk9HaGLJ-rRk",
        "outputId": "b824f274-6743-4f99-c6e4-f586de6dae33",
        "colab": {
          "base_uri": "https://localhost:8080/"
        }
      },
      "outputs": [
        {
          "output_type": "stream",
          "name": "stdout",
          "text": [
            "Convert a collection of raw documents to a matrix of TF-IDF features.\n",
            "\n",
            "    Equivalent to :class:`CountVectorizer` followed by\n",
            "    :class:`TfidfTransformer`.\n",
            "\n",
            "    Read more in the :ref:`User Guide <text_feature_extraction>`.\n",
            "\n",
            "    Parameters\n",
            "    ----------\n",
            "    input : {'filename', 'file', 'content'}, default='content'\n",
            "        - If `'filename'`, the sequence passed as an argument to fit is\n",
            "          expected to be a list of filenames that need reading to fetch\n",
            "          the raw content to analyze.\n",
            "\n",
            "        - If `'file'`, the sequence items must have a 'read' method (file-like\n",
            "          object) that is called to fetch the bytes in memory.\n",
            "\n",
            "        - If `'content'`, the input is expected to be a sequence of items that\n",
            "          can be of type string or byte.\n",
            "\n",
            "    encoding : str, default='utf-8'\n",
            "        If bytes or files are given to analyze, this encoding is used to\n",
            "        decode.\n",
            "\n",
            "    decode_error : {'strict', 'ignore', 'replace'}, default='strict'\n",
            "        Instruction on what to do if a byte sequence is given to analyze that\n",
            "        contains characters not of the given `encoding`. By default, it is\n",
            "        'strict', meaning that a UnicodeDecodeError will be raised. Other\n",
            "        values are 'ignore' and 'replace'.\n",
            "\n",
            "    strip_accents : {'ascii', 'unicode'}, default=None\n",
            "        Remove accents and perform other character normalization\n",
            "        during the preprocessing step.\n",
            "        'ascii' is a fast method that only works on characters that have\n",
            "        an direct ASCII mapping.\n",
            "        'unicode' is a slightly slower method that works on any characters.\n",
            "        None (default) does nothing.\n",
            "\n",
            "        Both 'ascii' and 'unicode' use NFKD normalization from\n",
            "        :func:`unicodedata.normalize`.\n",
            "\n",
            "    lowercase : bool, default=True\n",
            "        Convert all characters to lowercase before tokenizing.\n",
            "\n",
            "    preprocessor : callable, default=None\n",
            "        Override the preprocessing (string transformation) stage while\n",
            "        preserving the tokenizing and n-grams generation steps.\n",
            "        Only applies if ``analyzer`` is not callable.\n",
            "\n",
            "    tokenizer : callable, default=None\n",
            "        Override the string tokenization step while preserving the\n",
            "        preprocessing and n-grams generation steps.\n",
            "        Only applies if ``analyzer == 'word'``.\n",
            "\n",
            "    analyzer : {'word', 'char', 'char_wb'} or callable, default='word'\n",
            "        Whether the feature should be made of word or character n-grams.\n",
            "        Option 'char_wb' creates character n-grams only from text inside\n",
            "        word boundaries; n-grams at the edges of words are padded with space.\n",
            "\n",
            "        If a callable is passed it is used to extract the sequence of features\n",
            "        out of the raw, unprocessed input.\n",
            "\n",
            "        .. versionchanged:: 0.21\n",
            "            Since v0.21, if ``input`` is ``'filename'`` or ``'file'``, the data\n",
            "            is first read from the file and then passed to the given callable\n",
            "            analyzer.\n",
            "\n",
            "    stop_words : {'english'}, list, default=None\n",
            "        If a string, it is passed to _check_stop_list and the appropriate stop\n",
            "        list is returned. 'english' is currently the only supported string\n",
            "        value.\n",
            "        There are several known issues with 'english' and you should\n",
            "        consider an alternative (see :ref:`stop_words`).\n",
            "\n",
            "        If a list, that list is assumed to contain stop words, all of which\n",
            "        will be removed from the resulting tokens.\n",
            "        Only applies if ``analyzer == 'word'``.\n",
            "\n",
            "        If None, no stop words will be used. max_df can be set to a value\n",
            "        in the range [0.7, 1.0) to automatically detect and filter stop\n",
            "        words based on intra corpus document frequency of terms.\n",
            "\n",
            "    token_pattern : str, default=r\"(?u)\\\\b\\\\w\\\\w+\\\\b\"\n",
            "        Regular expression denoting what constitutes a \"token\", only used\n",
            "        if ``analyzer == 'word'``. The default regexp selects tokens of 2\n",
            "        or more alphanumeric characters (punctuation is completely ignored\n",
            "        and always treated as a token separator).\n",
            "\n",
            "        If there is a capturing group in token_pattern then the\n",
            "        captured group content, not the entire match, becomes the token.\n",
            "        At most one capturing group is permitted.\n",
            "\n",
            "    ngram_range : tuple (min_n, max_n), default=(1, 1)\n",
            "        The lower and upper boundary of the range of n-values for different\n",
            "        n-grams to be extracted. All values of n such that min_n <= n <= max_n\n",
            "        will be used. For example an ``ngram_range`` of ``(1, 1)`` means only\n",
            "        unigrams, ``(1, 2)`` means unigrams and bigrams, and ``(2, 2)`` means\n",
            "        only bigrams.\n",
            "        Only applies if ``analyzer`` is not callable.\n",
            "\n",
            "    max_df : float or int, default=1.0\n",
            "        When building the vocabulary ignore terms that have a document\n",
            "        frequency strictly higher than the given threshold (corpus-specific\n",
            "        stop words).\n",
            "        If float in range [0.0, 1.0], the parameter represents a proportion of\n",
            "        documents, integer absolute counts.\n",
            "        This parameter is ignored if vocabulary is not None.\n",
            "\n",
            "    min_df : float or int, default=1\n",
            "        When building the vocabulary ignore terms that have a document\n",
            "        frequency strictly lower than the given threshold. This value is also\n",
            "        called cut-off in the literature.\n",
            "        If float in range of [0.0, 1.0], the parameter represents a proportion\n",
            "        of documents, integer absolute counts.\n",
            "        This parameter is ignored if vocabulary is not None.\n",
            "\n",
            "    max_features : int, default=None\n",
            "        If not None, build a vocabulary that only consider the top\n",
            "        max_features ordered by term frequency across the corpus.\n",
            "\n",
            "        This parameter is ignored if vocabulary is not None.\n",
            "\n",
            "    vocabulary : Mapping or iterable, default=None\n",
            "        Either a Mapping (e.g., a dict) where keys are terms and values are\n",
            "        indices in the feature matrix, or an iterable over terms. If not\n",
            "        given, a vocabulary is determined from the input documents.\n",
            "\n",
            "    binary : bool, default=False\n",
            "        If True, all non-zero term counts are set to 1. This does not mean\n",
            "        outputs will have only 0/1 values, only that the tf term in tf-idf\n",
            "        is binary. (Set idf and normalization to False to get 0/1 outputs).\n",
            "\n",
            "    dtype : dtype, default=float64\n",
            "        Type of the matrix returned by fit_transform() or transform().\n",
            "\n",
            "    norm : {'l1', 'l2'}, default='l2'\n",
            "        Each output row will have unit norm, either:\n",
            "\n",
            "        - 'l2': Sum of squares of vector elements is 1. The cosine\n",
            "          similarity between two vectors is their dot product when l2 norm has\n",
            "          been applied.\n",
            "        - 'l1': Sum of absolute values of vector elements is 1.\n",
            "          See :func:`preprocessing.normalize`.\n",
            "\n",
            "    use_idf : bool, default=True\n",
            "        Enable inverse-document-frequency reweighting. If False, idf(t) = 1.\n",
            "\n",
            "    smooth_idf : bool, default=True\n",
            "        Smooth idf weights by adding one to document frequencies, as if an\n",
            "        extra document was seen containing every term in the collection\n",
            "        exactly once. Prevents zero divisions.\n",
            "\n",
            "    sublinear_tf : bool, default=False\n",
            "        Apply sublinear tf scaling, i.e. replace tf with 1 + log(tf).\n",
            "\n",
            "    Attributes\n",
            "    ----------\n",
            "    vocabulary_ : dict\n",
            "        A mapping of terms to feature indices.\n",
            "\n",
            "    fixed_vocabulary_ : bool\n",
            "        True if a fixed vocabulary of term to indices mapping\n",
            "        is provided by the user.\n",
            "\n",
            "    idf_ : array of shape (n_features,)\n",
            "        The inverse document frequency (IDF) vector; only defined\n",
            "        if ``use_idf`` is True.\n",
            "\n",
            "    stop_words_ : set\n",
            "        Terms that were ignored because they either:\n",
            "\n",
            "          - occurred in too many documents (`max_df`)\n",
            "          - occurred in too few documents (`min_df`)\n",
            "          - were cut off by feature selection (`max_features`).\n",
            "\n",
            "        This is only available if no vocabulary was given.\n",
            "\n",
            "    See Also\n",
            "    --------\n",
            "    CountVectorizer : Transforms text into a sparse matrix of n-gram counts.\n",
            "\n",
            "    TfidfTransformer : Performs the TF-IDF transformation from a provided\n",
            "        matrix of counts.\n",
            "\n",
            "    Notes\n",
            "    -----\n",
            "    The ``stop_words_`` attribute can get large and increase the model size\n",
            "    when pickling. This attribute is provided only for introspection and can\n",
            "    be safely removed using delattr or set to None before pickling.\n",
            "\n",
            "    Examples\n",
            "    --------\n",
            "    >>> from sklearn.feature_extraction.text import TfidfVectorizer\n",
            "    >>> corpus = [\n",
            "    ...     'This is the first document.',\n",
            "    ...     'This document is the second document.',\n",
            "    ...     'And this is the third one.',\n",
            "    ...     'Is this the first document?',\n",
            "    ... ]\n",
            "    >>> vectorizer = TfidfVectorizer()\n",
            "    >>> X = vectorizer.fit_transform(corpus)\n",
            "    >>> vectorizer.get_feature_names_out()\n",
            "    array(['and', 'document', 'first', 'is', 'one', 'second', 'the', 'third',\n",
            "           'this'], ...)\n",
            "    >>> print(X.shape)\n",
            "    (4, 9)\n",
            "    \n"
          ]
        }
      ],
      "source": [
        "print(text.TfidfVectorizer.__doc__)"
      ]
    },
    {
      "cell_type": "code",
      "execution_count": 106,
      "metadata": {
        "id": "H-fPVjYV-rRl"
      },
      "outputs": [],
      "source": [
        "tf = text.TfidfVectorizer()\n",
        "X = tf.fit_transform(df['Comment'])\n"
      ]
    },
    {
      "cell_type": "code",
      "source": [
        "X.shape"
      ],
      "metadata": {
        "id": "xUihdpHIgA7e",
        "outputId": "eea9393b-8123-462f-edf6-04c724b728cc",
        "colab": {
          "base_uri": "https://localhost:8080/"
        }
      },
      "execution_count": 107,
      "outputs": [
        {
          "output_type": "execute_result",
          "data": {
            "text/plain": [
              "(3947, 16469)"
            ]
          },
          "metadata": {},
          "execution_count": 107
        }
      ]
    },
    {
      "cell_type": "code",
      "source": [
        "y.shape"
      ],
      "metadata": {
        "colab": {
          "base_uri": "https://localhost:8080/"
        },
        "id": "KovCx989pa92",
        "outputId": "6e4809d7-f828-4759-80be-318e74ad3b76"
      },
      "execution_count": 108,
      "outputs": [
        {
          "output_type": "execute_result",
          "data": {
            "text/plain": [
              "(3947,)"
            ]
          },
          "metadata": {},
          "execution_count": 108
        }
      ]
    },
    {
      "cell_type": "markdown",
      "metadata": {
        "id": "pKgEXAZV-rRl"
      },
      "source": [
        "\n",
        "The TFIDF vectorizer uses a simple formula to assign a significance score to the\n",
        "count of each vocabulary item in each document. Our TFIDF matrix is stored in `X`.\n",
        "\n",
        "Say a word occurs n times in a document.\n",
        "TFIDF is a very popular measure of the significance of that fact\n",
        "first proven to be useful in\n",
        "document retrieval.  It has some competitors in classification, but\n",
        "we have used it here mainly because it's the easiest **feature weighting scheme**\n",
        "to use in `sklearn`."
      ]
    },
    {
      "cell_type": "code",
      "execution_count": 109,
      "metadata": {
        "id": "4p8xlL7b-rRl",
        "outputId": "91ef9ca6-9a9a-4906-f32a-d1de977af9b6",
        "colab": {
          "base_uri": "https://localhost:8080/"
        }
      },
      "outputs": [
        {
          "output_type": "stream",
          "name": "stdout",
          "text": [
            "Shape: (3,947 x 16,469)  Non-zero entries: 100,269\n"
          ]
        }
      ],
      "source": [
        "# Shape and Number of non zero entries\n",
        "print(f'Shape: ({X.shape[0]:,} x {X.shape[1]:,})  Non-zero entries: {X.nnz:,}')"
      ]
    },
    {
      "cell_type": "markdown",
      "metadata": {
        "id": "wfUbNDjt-rRm"
      },
      "source": [
        "There are 3,947 comments and 16,469 different words. Let's estimate the sparsity of this feature matrix."
      ]
    },
    {
      "cell_type": "code",
      "execution_count": 110,
      "metadata": {
        "id": "7o8Oa6JP-rRm",
        "outputId": "f23b1e5e-27f2-4523-8040-d6b22a86557e",
        "colab": {
          "base_uri": "https://localhost:8080/"
        }
      },
      "outputs": [
        {
          "output_type": "stream",
          "name": "stdout",
          "text": [
            "The document matrix X is ~0.15% non-zero features.\n"
          ]
        }
      ],
      "source": [
        "print((\"The document matrix X is ~{0:.2%} non-zero features.\".format(\n",
        "          X.nnz / float(X.shape[0] * X.shape[1]))))"
      ]
    },
    {
      "cell_type": "markdown",
      "metadata": {
        "id": "d4dXO87k-rRm"
      },
      "source": [
        "A `TdidfVectorizer` instance stores its `decode` dictionary in the attribute `vocabulary_` (note\n",
        "the trailing underscore!):"
      ]
    },
    {
      "cell_type": "code",
      "execution_count": 111,
      "metadata": {
        "id": "_4DfZgRC-rRm",
        "outputId": "cfd5f283-5253-4faf-814e-df088212980c",
        "colab": {
          "base_uri": "https://localhost:8080/"
        }
      },
      "outputs": [
        {
          "output_type": "execute_result",
          "data": {
            "text/plain": [
              "8704"
            ]
          },
          "metadata": {},
          "execution_count": 111
        }
      ],
      "source": [
        "tf.vocabulary_['moron']"
      ]
    },
    {
      "cell_type": "markdown",
      "metadata": {
        "id": "21HEUruW-rRm"
      },
      "source": [
        "The `sklearn` module stores many of its internally computed arrays as **sparse matrices**.  This is basically a \n",
        "very clever computer science device for not wasting all the space that very sparse matrices \n",
        "waste.  Natural language representations are often **quite** sparse.  The .15% non zero features\n",
        "firgure we just looked at was typical.  Sparse matrices come at a cost, however; although some\n",
        "computations can be done while the matrix is in sparse form, some cannot, and to do those\n",
        "you have to convert the matrix to a nonsparse matrix, do what you need to do, and then, probably,\n",
        "convert it back.  This is costly.  We're going to do it now, but only because we're goofing\n",
        "around. Conversion to non-sparse format should in general be avoided whenever possible."
      ]
    },
    {
      "cell_type": "code",
      "execution_count": 112,
      "metadata": {
        "id": "s501JX4y-rRn"
      },
      "outputs": [],
      "source": [
        "XA = X.toarray()"
      ]
    },
    {
      "cell_type": "markdown",
      "metadata": {
        "id": "UlqPV8sk-rRn"
      },
      "source": [
        "Consider Tweet 3942:"
      ]
    },
    {
      "cell_type": "code",
      "execution_count": 113,
      "metadata": {
        "id": "ozDJxuBt-rRn",
        "outputId": "3418dc4e-5a53-4a30-de25-84b74aeff523",
        "colab": {
          "base_uri": "https://localhost:8080/",
          "height": 35
        }
      },
      "outputs": [
        {
          "output_type": "execute_result",
          "data": {
            "text/plain": [
              "'\"you are both morons and that is never happening\"'"
            ],
            "application/vnd.google.colaboratory.intrinsic+json": {
              "type": "string"
            }
          },
          "metadata": {},
          "execution_count": 113
        }
      ],
      "source": [
        "insult_df.loc[3942]['Comment']"
      ]
    },
    {
      "cell_type": "markdown",
      "metadata": {
        "id": "83msbB2F-rRn"
      },
      "source": [
        "Ok, now we can check the TFIDF matrix for the statistic for `'moron'` in this tweet:"
      ]
    },
    {
      "cell_type": "code",
      "execution_count": 114,
      "metadata": {
        "id": "pkOJ8G5l-rRn",
        "outputId": "8af9ddc4-d773-4d1d-8795-3c935ea07875",
        "colab": {
          "base_uri": "https://localhost:8080/"
        }
      },
      "outputs": [
        {
          "output_type": "execute_result",
          "data": {
            "text/plain": [
              "0.0"
            ]
          },
          "metadata": {},
          "execution_count": 114
        }
      ],
      "source": [
        "XA[3942][8704]"
      ]
    },
    {
      "cell_type": "markdown",
      "metadata": {
        "id": "dwJGxnst-rRn"
      },
      "source": [
        "Oh, maybe we didn't learn that:"
      ]
    },
    {
      "cell_type": "code",
      "execution_count": 115,
      "metadata": {
        "id": "ObsyKu1n-rRo",
        "outputId": "f927640c-4979-42a9-fd01-911df27ce25e",
        "colab": {
          "base_uri": "https://localhost:8080/"
        }
      },
      "outputs": [
        {
          "output_type": "execute_result",
          "data": {
            "text/plain": [
              "8707"
            ]
          },
          "metadata": {},
          "execution_count": 115
        }
      ],
      "source": [
        "tf.vocabulary_['morons']"
      ]
    },
    {
      "cell_type": "markdown",
      "metadata": {
        "id": "gmLm4OTm-rRo"
      },
      "source": [
        "Totally different word, found at a totally different place in XA:"
      ]
    },
    {
      "cell_type": "code",
      "execution_count": 116,
      "metadata": {
        "id": "vKxndHoW-rRo",
        "outputId": "93a91903-c689-4b27-8b33-5c56c8c76466",
        "colab": {
          "base_uri": "https://localhost:8080/"
        }
      },
      "outputs": [
        {
          "output_type": "execute_result",
          "data": {
            "text/plain": [
              "0.5139224706716653"
            ]
          },
          "metadata": {},
          "execution_count": 116
        }
      ],
      "source": [
        "XA[3942][8707]"
      ]
    },
    {
      "cell_type": "markdown",
      "metadata": {
        "id": "k0wp6RbS-rRo"
      },
      "source": [
        "## Training"
      ]
    },
    {
      "cell_type": "markdown",
      "metadata": {
        "id": "88mG_1C0-rRo"
      },
      "source": [
        "Now, we are going to train a classifier as usual. We first split the data into a train and test set."
      ]
    },
    {
      "cell_type": "code",
      "execution_count": 117,
      "metadata": {
        "id": "la2tlDoC-rRo"
      },
      "outputs": [],
      "source": [
        "X_train,X_test, y_train,y_test = train_test_split(X,y)"
      ]
    },
    {
      "cell_type": "code",
      "source": [
        "y_test.shape"
      ],
      "metadata": {
        "colab": {
          "base_uri": "https://localhost:8080/"
        },
        "id": "Yu5EC3qkzU8b",
        "outputId": "83495123-f32b-4d85-a66b-04967bb84213"
      },
      "execution_count": 118,
      "outputs": [
        {
          "output_type": "execute_result",
          "data": {
            "text/plain": [
              "(987,)"
            ]
          },
          "metadata": {},
          "execution_count": 118
        }
      ]
    },
    {
      "cell_type": "markdown",
      "metadata": {
        "id": "Xf-3XQDN-rRo"
      },
      "source": [
        "We use a **Bernoulli Naive Bayes classifier**."
      ]
    },
    {
      "cell_type": "code",
      "execution_count": 119,
      "metadata": {
        "id": "uj7vvTS--rRo"
      },
      "outputs": [],
      "source": [
        "bnb =nb.BernoulliNB()\n",
        "\n",
        "bnb.fit(X_train, y_train);"
      ]
    },
    {
      "cell_type": "code",
      "execution_count": 120,
      "metadata": {
        "id": "rewbP2vT-rRp",
        "outputId": "dab8a644-9308-406e-f552-11c183361308",
        "colab": {
          "base_uri": "https://localhost:8080/"
        }
      },
      "outputs": [
        {
          "output_type": "execute_result",
          "data": {
            "text/plain": [
              "0.78419452887538"
            ]
          },
          "metadata": {},
          "execution_count": 120
        }
      ],
      "source": [
        "bnb.score(X_test, y_test)"
      ]
    },
    {
      "cell_type": "markdown",
      "metadata": {
        "id": "p38bf79W-rRp"
      },
      "source": [
        "Now try re-executing the previous three cells.  The results shoudl be the same, right?\n",
        "\n",
        "Well, are they?  No, bnb.score i.e. accuracy score changes since the data is spit randomly each time we run the code. We need to set random state to get the same accuracy every time we run the code.\n",
        "\n",
        "Ok, re-execute the same three cells again.  Now one more time.  Now try the following\n",
        "piece of code:"
      ]
    },
    {
      "cell_type": "markdown",
      "source": [
        "#### Basic train and test loop"
      ],
      "metadata": {
        "id": "r-bt36GeMpFW"
      }
    },
    {
      "cell_type": "code",
      "execution_count": 121,
      "metadata": {
        "id": "hwsayH6F-rRp",
        "outputId": "0c84977e-0c56-4e9c-b422-433e69f78083",
        "colab": {
          "base_uri": "https://localhost:8080/"
        }
      },
      "outputs": [
        {
          "output_type": "stream",
          "name": "stdout",
          "text": [
            "0.7518987341772152\n",
            "0.7316455696202532\n",
            "0.7151898734177216\n",
            "0.7164556962025317\n",
            "0.7316455696202532\n",
            "0.7278481012658228\n",
            "0.7683544303797468\n",
            "0.740506329113924\n",
            "0.7506329113924051\n",
            "0.760759493670886\n"
          ]
        }
      ],
      "source": [
        "def split_and_fit(X,Y,test_size=.2):\n",
        "    (X_train, X_test,\n",
        "       y_train, y_test) = train_test_split(X, y,\n",
        "                                         test_size=test_size)\n",
        "    bnb = nb.BernoulliNB()\n",
        "    return bnb.fit(X_train, y_train),X_train, X_test, y_train,y_test\n",
        "\n",
        "num_runs = 10\n",
        "for test_run in range(num_runs):\n",
        "    clf, X_train, X_test, y_train,y_test = split_and_fit(X,y)\n",
        "    print('{0}'.format(clf.score(X_test, y_test)))"
      ]
    },
    {
      "cell_type": "markdown",
      "metadata": {
        "id": "PdxesQwr-rRp"
      },
      "source": [
        "What's happening?  How should we deal this with this when we report our evaluations?\n",
        "\n",
        "We are getting different Accuracy every time we run the code. We need to split the data in such a way that once we split data, the same split should be used to build the model everytime run the code.\n",
        "\n",
        "Explain the purpose of the code in the next cell."
      ]
    },
    {
      "cell_type": "markdown",
      "source": [
        "#### Refined train and test loop"
      ],
      "metadata": {
        "id": "R2SjpCsKMvfh"
      }
    },
    {
      "cell_type": "code",
      "execution_count": 122,
      "metadata": {
        "id": "r3HVmOUb-rRp",
        "outputId": "a94cbcc6-6bb6-4158-fd17-889895126c67",
        "colab": {
          "base_uri": "https://localhost:8080/"
        }
      },
      "outputs": [
        {
          "output_type": "stream",
          "name": "stdout",
          "text": [
            "Accuracy 0.75\n",
            "Precision 0.16\n",
            "Recall 0.61\n",
            "Pct Insults 0.27\n"
          ]
        }
      ],
      "source": [
        "num_runs = 100\n",
        "#a_total = 0\n",
        "#p_total = 0\n",
        "#r_total = 0\n",
        "#insults_total = 0\n",
        "\n",
        "stats = np.zeros((4,))\n",
        "for test_run in range(num_runs):\n",
        "    clf, X_train, X_test, y_train,y_test = split_and_fit(X,y)\n",
        "    #score = clf.score(X_test, y_test)\n",
        "    predicted = clf.predict(X_test)\n",
        "    y_array = y_test.values\n",
        "    prop_insults = y_array.sum()/len(y_array)\n",
        "    stats = stats + np.array([clf.score(X_test, y_test),\n",
        "                              precision_score(predicted, y_test),\n",
        "                              recall_score(predicted, y_test),\n",
        "                              prop_insults])\n",
        "    #p_score = precision_score(predicted, y_test)\n",
        "    #r_score = recall_score(predicted, y_test)\n",
        "    #a_total += score\n",
        "    #p_total += p_score\n",
        "    #r_total += r_score\n",
        "    #insults_total += prop_insults\n",
        "normed_stats = stats/num_runs\n",
        "labels = ['Accuracy','Precision','Recall','Pct Insults']\n",
        "for (i,s) in enumerate(normed_stats):\n",
        "    print(f'{labels[i]} {s:.2f}')\n",
        "#print('Accuracy {:.2%}'.format(a_total/num_runs))\n",
        "#print('Precision {:.2%}'.format(p_total/num_runs))\n",
        "#print('Recall {:.2%}'.format(r_total/num_runs))\n",
        "#print('Avg Pct Insults {:.2%}'.format(insults_total/num_runs))"
      ]
    },
    {
      "cell_type": "markdown",
      "metadata": {
        "id": "cvxe-F1n-rRp"
      },
      "source": [
        "Let's take a look at the words corresponding to the largest coefficients (the words we find frequently in insulting comments)."
      ]
    },
    {
      "cell_type": "code",
      "execution_count": 123,
      "metadata": {
        "id": "sH4qNRcD-rRq",
        "outputId": "e2cedef5-aefa-4865-f409-6fab670f7246",
        "colab": {
          "base_uri": "https://localhost:8080/"
        }
      },
      "outputs": [
        {
          "output_type": "execute_result",
          "data": {
            "text/plain": [
              "['__abstractmethods__',\n",
              " '__class__',\n",
              " '__delattr__',\n",
              " '__dict__',\n",
              " '__dir__',\n",
              " '__doc__',\n",
              " '__eq__',\n",
              " '__format__',\n",
              " '__ge__',\n",
              " '__getattribute__',\n",
              " '__getstate__',\n",
              " '__gt__',\n",
              " '__hash__',\n",
              " '__init__',\n",
              " '__init_subclass__',\n",
              " '__le__',\n",
              " '__lt__',\n",
              " '__module__',\n",
              " '__ne__',\n",
              " '__new__',\n",
              " '__reduce__',\n",
              " '__reduce_ex__',\n",
              " '__repr__',\n",
              " '__setattr__',\n",
              " '__setstate__',\n",
              " '__sizeof__',\n",
              " '__str__',\n",
              " '__subclasshook__',\n",
              " '__weakref__',\n",
              " '_abc_impl',\n",
              " '_check_X',\n",
              " '_check_X_y',\n",
              " '_check_alpha',\n",
              " '_check_feature_names',\n",
              " '_check_n_features',\n",
              " '_count',\n",
              " '_estimator_type',\n",
              " '_get_param_names',\n",
              " '_get_tags',\n",
              " '_init_counters',\n",
              " '_joint_log_likelihood',\n",
              " '_more_tags',\n",
              " '_repr_html_',\n",
              " '_repr_html_inner',\n",
              " '_repr_mimebundle_',\n",
              " '_update_class_log_prior',\n",
              " '_update_feature_log_prob',\n",
              " '_validate_data',\n",
              " 'alpha',\n",
              " 'binarize',\n",
              " 'class_count_',\n",
              " 'class_log_prior_',\n",
              " 'class_prior',\n",
              " 'classes_',\n",
              " 'coef_',\n",
              " 'feature_count_',\n",
              " 'feature_log_prob_',\n",
              " 'fit',\n",
              " 'fit_prior',\n",
              " 'get_params',\n",
              " 'intercept_',\n",
              " 'n_features_',\n",
              " 'n_features_in_',\n",
              " 'partial_fit',\n",
              " 'predict',\n",
              " 'predict_log_proba',\n",
              " 'predict_proba',\n",
              " 'score',\n",
              " 'set_params']"
            ]
          },
          "metadata": {},
          "execution_count": 123
        }
      ],
      "source": [
        "dir(bnb)"
      ]
    },
    {
      "cell_type": "code",
      "execution_count": 124,
      "metadata": {
        "id": "KhhtIfMM-rRq",
        "outputId": "d6de30a1-ed6e-4ebf-b6fc-24dfdd516e5e",
        "colab": {
          "base_uri": "https://localhost:8080/"
        }
      },
      "outputs": [
        {
          "output_type": "execute_result",
          "data": {
            "text/plain": [
              "(2, 16469)"
            ]
          },
          "metadata": {},
          "execution_count": 124
        }
      ],
      "source": [
        "bnb.feature_count_.shape"
      ]
    },
    {
      "cell_type": "code",
      "execution_count": 125,
      "metadata": {
        "id": "YbVBZK00-rRq",
        "outputId": "ee1fc173-1a87-4041-b4ff-3d958360eb06",
        "colab": {
          "base_uri": "https://localhost:8080/"
        }
      },
      "outputs": [
        {
          "output_type": "stream",
          "name": "stdout",
          "text": [
            "(16469,)\n",
            "you,are,your,the,to,and,of,that,is,it,in,like,have,on,for,not,just,re,an,all,so,xa0,be,with,idiot,what,up,this,fuck,get,don,do,go,stupid,can,no,as,know,or,ass,but,about,who,if,dumb,because,was,little,here,they\n"
          ]
        },
        {
          "output_type": "stream",
          "name": "stderr",
          "text": [
            "/usr/local/lib/python3.7/dist-packages/sklearn/utils/deprecation.py:87: FutureWarning: Function get_feature_names is deprecated; get_feature_names is deprecated in 1.0 and will be removed in 1.2. Please use get_feature_names_out instead.\n",
            "  warnings.warn(msg, category=FutureWarning)\n",
            "/usr/local/lib/python3.7/dist-packages/sklearn/utils/deprecation.py:103: FutureWarning: Attribute `coef_` was deprecated in version 0.24 and will be removed in 1.1 (renaming of 0.26).\n",
            "  warnings.warn(msg, category=FutureWarning)\n"
          ]
        }
      ],
      "source": [
        "# We first get the words corresponding to each feature.\n",
        "names = np.asarray(tf.get_feature_names())\n",
        "# Next, we display the 50 words with the largest\n",
        "# coefficients.\n",
        "# NB Wajnt to switch over to using bnb.feature_count_.shape[0]\n",
        "coefficient_matrix = bnb.coef_[0,:]\n",
        "print(coefficient_matrix.shape)\n",
        "# Sorting gives us smallest first, we reverse the order and take top 50\n",
        "top_fifty_feat_indices = np.argsort(coefficient_matrix)[::-1][:50]\n",
        "print((','.join(names[top_fifty_feat_indices])))"
      ]
    },
    {
      "cell_type": "markdown",
      "metadata": {
        "id": "X0th-hPo-rRq"
      },
      "source": [
        "Finally, let's test our estimator on a few test sentences.\n"
      ]
    },
    {
      "cell_type": "code",
      "execution_count": 126,
      "metadata": {
        "id": "9PkNvp0m-rRq",
        "outputId": "1c4f81e4-e4a3-470e-c187-69547637fab4",
        "colab": {
          "base_uri": "https://localhost:8080/"
        }
      },
      "outputs": [
        {
          "output_type": "stream",
          "name": "stdout",
          "text": [
            "[0 0 0]\n"
          ]
        }
      ],
      "source": [
        "predicted = bnb.predict(tf.transform([\n",
        "    \"I totally agree with you.\",\n",
        "    \"You are so stupid.\",\n",
        "    \"I love you.\"\n",
        "    ]))\n",
        "\n",
        "print(predicted)"
      ]
    },
    {
      "cell_type": "code",
      "execution_count": 127,
      "metadata": {
        "id": "45IEP284-rRr",
        "outputId": "6c7647aa-f645-4b96-a20c-3215962e0695",
        "colab": {
          "base_uri": "https://localhost:8080/"
        }
      },
      "outputs": [
        {
          "output_type": "stream",
          "name": "stdout",
          "text": [
            "[0 0 0]\n",
            "2417    1\n",
            "614     0\n",
            "3638    1\n",
            "Name: Insult, dtype: int64\n"
          ]
        }
      ],
      "source": [
        "print(predicted)\n",
        "print(y_test[:3])"
      ]
    },
    {
      "cell_type": "markdown",
      "metadata": {
        "id": "HoYRjj7n-rRr"
      },
      "source": [
        "Not real impressive.  The word *stupid* was not recognized as an insult."
      ]
    },
    {
      "cell_type": "markdown",
      "metadata": {
        "id": "PD0NyUZm-rRr"
      },
      "source": [
        "> You'll find all the explanations, figures, references, and much more in the book (to be released later this summer).\n",
        "\n",
        "> [IPython Cookbook](http://ipython-books.github.io/), by [Cyrille Rossant](http://cyrille.rossant.net), Packt Publishing, 2014 (500 pages)."
      ]
    },
    {
      "cell_type": "code",
      "execution_count": 128,
      "metadata": {
        "id": "nYQikcgv-rRr",
        "outputId": "1b982eaf-9335-4fa0-d865-b3a6afee5c76",
        "colab": {
          "base_uri": "https://localhost:8080/"
        }
      },
      "outputs": [
        {
          "output_type": "stream",
          "name": "stdout",
          "text": [
            "[0 0 0]\n"
          ]
        }
      ],
      "source": [
        "print((bnb.predict(tf.transform([ \"I totally agree with you.\", \"You are so stupid.\", \"I love you.\" ]))))"
      ]
    },
    {
      "cell_type": "markdown",
      "metadata": {
        "collapsed": true,
        "id": "zaE0KDK5-rRr"
      },
      "source": [
        "## Homework"
      ]
    },
    {
      "cell_type": "markdown",
      "metadata": {
        "id": "Fg50G61U-rRr"
      },
      "source": [
        "Read the on line book draft chapter about doing the movie review data,\n",
        "and try the clasifier used there, an SVM, on this data.  Be sure\n",
        "top stick with the scikit learn (it has an SVM implementation).\n",
        "\n",
        "Show your code, and print out results.  Which classifier does better?"
      ]
    },
    {
      "cell_type": "markdown",
      "source": [
        "#### Help with getting the movie reviews data.\n",
        "\n",
        "Execute the next two cells."
      ],
      "metadata": {
        "id": "Z_wazBGWTsS4"
      }
    },
    {
      "cell_type": "code",
      "execution_count": 129,
      "metadata": {
        "collapsed": true,
        "id": "xvlkaI1x-rRr",
        "colab": {
          "base_uri": "https://localhost:8080/"
        },
        "outputId": "2e5aa04e-f7f0-4a0a-9f01-e9167ef68925"
      },
      "outputs": [
        {
          "output_type": "stream",
          "name": "stdout",
          "text": [
            "[nltk_data] Downloading package movie_reviews to /root/nltk_data...\n",
            "[nltk_data]   Package movie_reviews is already up-to-date!\n"
          ]
        },
        {
          "output_type": "execute_result",
          "data": {
            "text/plain": [
              "True"
            ]
          },
          "metadata": {},
          "execution_count": 129
        }
      ],
      "source": [
        "import nltk\n",
        "nltk.download('movie_reviews')"
      ]
    },
    {
      "cell_type": "code",
      "source": [
        "from nltk.corpus import movie_reviews as mr\n",
        "\n",
        "def get_file_strings (corpus, file_ids):\n",
        "    return [corpus.raw(file_id) for file_id in file_ids]\n",
        "\n",
        "data = dict(pos = mr.fileids('pos'),\n",
        "            neg = mr.fileids('neg'))\n",
        "\n",
        "pos_file_ids = data['pos']\n",
        "neg_file_ids = data['neg']\n",
        "\n",
        "pos_file_ids[:5]"
      ],
      "metadata": {
        "colab": {
          "base_uri": "https://localhost:8080/"
        },
        "id": "8nQdcr4aH_dP",
        "outputId": "4180bbcc-788b-4350-af53-1998ab0f880e"
      },
      "execution_count": 130,
      "outputs": [
        {
          "output_type": "execute_result",
          "data": {
            "text/plain": [
              "['pos/cv000_29590.txt',\n",
              " 'pos/cv001_18431.txt',\n",
              " 'pos/cv002_15918.txt',\n",
              " 'pos/cv003_11664.txt',\n",
              " 'pos/cv004_11636.txt']"
            ]
          },
          "metadata": {},
          "execution_count": 130
        }
      ]
    },
    {
      "cell_type": "markdown",
      "source": [
        "This illustrates how to get all the positive reviews."
      ],
      "metadata": {
        "id": "U6BWtGUNT5_b"
      }
    },
    {
      "cell_type": "code",
      "source": [
        "pos_file_reviews = get_file_strings (mr, pos_file_ids)\n",
        "neg_file_reviews = get_file_strings (mr, neg_file_ids)\n"
      ],
      "metadata": {
        "id": "nDg_8NcmI77o"
      },
      "execution_count": 131,
      "outputs": []
    },
    {
      "cell_type": "code",
      "source": [
        "# First 20 words of first positive review\n",
        "print(pos_file_reviews[0][:20])\n",
        "print()\n",
        "# First 20 words of second positive review\n",
        "print(pos_file_reviews[1][:20])\n"
      ],
      "metadata": {
        "colab": {
          "base_uri": "https://localhost:8080/"
        },
        "id": "diRDvugvJOCp",
        "outputId": "3e936d55-2d5f-4956-98be-f297c2196637"
      },
      "execution_count": 132,
      "outputs": [
        {
          "output_type": "stream",
          "name": "stdout",
          "text": [
            "films adapted from c\n",
            "\n",
            "every now and then a\n"
          ]
        }
      ]
    },
    {
      "cell_type": "code",
      "source": [
        "tf = text.TfidfVectorizer()\n",
        "X = tf.fit_transform(pos_file_reviews)"
      ],
      "metadata": {
        "id": "cMoaCLnGJZwM"
      },
      "execution_count": 133,
      "outputs": []
    },
    {
      "cell_type": "markdown",
      "source": [
        "After executing the code above, the names `pos_file_reviews` and `neg_file_reviews` each contain a list of reviews.  Each review is a list of words.  A list of word lists like `pos_file_reviews`  can be passed to `text.TfidfVectorizer()` via the `fit_transform` method to train a vectorizer for machine learning.\n",
        "\n",
        "Just remember when testing the trained vectorizer use\n",
        "`transform` in place of `fit_transform`.\n",
        "\n",
        "What you will need to do to train the classifier (call it `clf`) is pass the matrix of vectorized training data\n",
        "(you will call `X`) to `clf`'s\n",
        "`fit(...)` method, along with an aligned sequence\n",
        "of labels `y`.  By saying the two sequences are aligned, I mean this:  `X[i][:]` is the vector representation for a review that has the class \n",
        "`y[i]`.\n",
        "\n",
        "The steps  are\n",
        "\n",
        "1.  Create training data: a sequence of reviews (the code above did this) and an aligned sequence of review labels(each label is either `pos` or `neg`)  The training sequence should be a balanced mix of positive and negative reviews.\n",
        "\n",
        "2.  Same procedure to create test data. Use 9 times as many training documents as test documnts (1000 positive reviews  + 1000 negative reviews means 1800 training examples and 200 test examples).\n",
        "\n",
        "3.  Train and test the models multiple times and take the averege precision. recall and accuracy scores as the measure of your model's performance. The cells above labeled **Training and Test loops** illustrate this step.\n",
        "\n",
        "\n",
        "The code cell below illustrates one way of \n",
        "getting randomly mixed data with\n",
        "aligned labels (steps 1 and 2)\n",
        "\n",
        "#### Help with steps 1 and 2"
      ],
      "metadata": {
        "id": "_PY6_uHMJvqC"
      }
    },
    {
      "cell_type": "code",
      "source": [
        "# Lets work on letters instead of documents\n",
        "# There are 2 classes, letters from the first half of the\n",
        "# alphabet ('f') and letters frmm the last half ('l')\n",
        "\n",
        "from random import shuffle\n",
        "from string import ascii_lowercase\n",
        "f_lets = ascii_lowercase[:13]\n",
        "print(f_lets)\n",
        "l_lets = ascii_lowercase[13:]\n",
        "print(l_lets)\n",
        "f_pairs = [(let,'f') for let in f_lets]\n",
        "l_pairs = [(let,'l') for let in l_lets]\n",
        "# Way too orderly, the classes arent mixed yet.\n",
        "data = f_pairs + l_pairs\n",
        "shuffle(data)\n",
        "prepared_data, prepared_labels = zip(*data)\n",
        "print(prepared_data)\n",
        "print(prepared_labels)"
      ],
      "metadata": {
        "colab": {
          "base_uri": "https://localhost:8080/"
        },
        "id": "ZCdgmoToRV8z",
        "outputId": "f5284f01-c9e7-4e6b-938a-ca4be165fb01"
      },
      "execution_count": 134,
      "outputs": [
        {
          "output_type": "stream",
          "name": "stdout",
          "text": [
            "abcdefghijklm\n",
            "nopqrstuvwxyz\n",
            "('a', 'o', 'l', 'y', 'n', 'u', 'h', 'g', 'q', 'f', 'j', 'x', 'e', 'k', 'w', 't', 'm', 'p', 'i', 's', 'r', 'v', 'c', 'd', 'z', 'b')\n",
            "('f', 'l', 'f', 'l', 'l', 'l', 'f', 'f', 'l', 'f', 'f', 'l', 'f', 'f', 'l', 'l', 'f', 'l', 'f', 'l', 'l', 'l', 'f', 'f', 'l', 'f')\n"
          ]
        }
      ]
    },
    {
      "cell_type": "markdown",
      "source": [
        "**HOMEWORK ANSWERS** \n",
        "\n",
        "**Step-1: Data processing for movie reviews data**"
      ],
      "metadata": {
        "id": "bUlrmJqtzHfs"
      }
    },
    {
      "cell_type": "code",
      "source": [
        "# Import Required Libraries\n",
        "\n",
        "import numpy as np\n",
        "import pandas as pd\n",
        "import sklearn\n",
        "from sklearn.model_selection import train_test_split\n",
        "from sklearn.model_selection import GridSearchCV as gs\n",
        "import sklearn.feature_extraction.text as text\n",
        "import sklearn.naive_bayes as nb\n",
        "import matplotlib.pyplot as plt\n",
        "from sklearn.metrics import precision_score, recall_score\n",
        "%matplotlib inline"
      ],
      "metadata": {
        "id": "1-hLVhv_APaP"
      },
      "execution_count": 156,
      "outputs": []
    },
    {
      "cell_type": "code",
      "source": [
        "# Download the dataset from nltk\n",
        "import nltk\n",
        "nltk.download('movie_reviews')\n",
        "\n",
        "from nltk.corpus import movie_reviews as mr\n",
        "\n",
        "# Extracting the reviews\n",
        "def get_file_strings (corpus, file_ids):\n",
        "    return [corpus.raw(file_id) for file_id in file_ids]\n",
        "\n",
        "data = dict(pos = mr.fileids('pos'),\n",
        "            neg = mr.fileids('neg'))\n",
        "\n",
        "# seperating positive and negative reviews\n",
        "pos_file_ids = data['pos']\n",
        "neg_file_ids = data['neg']\n",
        "\n",
        "# getting the positive \n",
        "pos_file_reviews = get_file_strings (mr, pos_file_ids)\n",
        "neg_file_reviews = get_file_strings (mr, neg_file_ids)\n"
      ],
      "metadata": {
        "id": "wKwPjpLZzFah",
        "outputId": "17799381-aa9c-4fdd-dc6a-117fd6f3fe6e",
        "colab": {
          "base_uri": "https://localhost:8080/"
        }
      },
      "execution_count": 157,
      "outputs": [
        {
          "output_type": "stream",
          "name": "stdout",
          "text": [
            "[nltk_data] Downloading package movie_reviews to /root/nltk_data...\n",
            "[nltk_data]   Package movie_reviews is already up-to-date!\n"
          ]
        }
      ]
    },
    {
      "cell_type": "markdown",
      "source": [
        " **Adding lable to each review positive or negative and shuffling to form a single x and y variables**"
      ],
      "metadata": {
        "id": "2-9lZVkL1G5U"
      }
    },
    {
      "cell_type": "code",
      "source": [
        "from random import shuffle\n",
        "from string import ascii_lowercase\n",
        "\n",
        "pos_pairs = [[line,'pos'] for line in pos_file_reviews]\n",
        "neg_pairs = [[line,'neg'] for line in neg_file_reviews]\n",
        "\n",
        "# Way too orderly, the classes arent mixed yet.\n",
        "data = pos_pairs + neg_pairs\n",
        "\n",
        "# Shuffle randomly postive and negative reviews with thier labels\n",
        "shuffle(data)\n",
        "prepared_data, prepared_labels = zip(*data)\n",
        "\n",
        "# We get X and Y variables to split and build classifiers\n",
        "X = prepared_data\n",
        "y = prepared_labels\n",
        "\n",
        "print(len(X))\n",
        "print(len(y))"
      ],
      "metadata": {
        "id": "YRJYb0T108UA",
        "colab": {
          "base_uri": "https://localhost:8080/"
        },
        "outputId": "7260d8c7-3426-498f-8214-bfc6bbfb9bfd"
      },
      "execution_count": 158,
      "outputs": [
        {
          "output_type": "stream",
          "name": "stdout",
          "text": [
            "2000\n",
            "2000\n"
          ]
        }
      ]
    },
    {
      "cell_type": "markdown",
      "source": [
        "**Split the obtained data into training and testing and build the SVM model**"
      ],
      "metadata": {
        "id": "8u0uJTty17iC"
      }
    },
    {
      "cell_type": "code",
      "source": [
        "from sklearn.feature_extraction.text import TfidfVectorizer\n",
        "from sklearn.svm import LinearSVC"
      ],
      "metadata": {
        "id": "-f3Pgm5I-2iq"
      },
      "execution_count": 159,
      "outputs": []
    },
    {
      "cell_type": "code",
      "source": [
        "# split the data into 90% training and 10% testing\n",
        "x_train, x_test, y_train, y_test = train_test_split(X, y, test_size = 0.1)\n",
        "\n",
        "# length of train and test splits\n",
        "print(len(x_train), len(x_test), len(y_train), len(y_test))\n",
        "\n",
        "# Transform the x variables \n",
        "X_train = tf.fit_transform(x_train)\n",
        "X_test = tf.transform(x_test)\n"
      ],
      "metadata": {
        "colab": {
          "base_uri": "https://localhost:8080/"
        },
        "id": "re5IkzH3I0aJ",
        "outputId": "d188a56e-6b3d-4850-db8a-ecad10aca011"
      },
      "execution_count": 160,
      "outputs": [
        {
          "output_type": "stream",
          "name": "stdout",
          "text": [
            "1800 200 1800 200\n"
          ]
        }
      ]
    },
    {
      "cell_type": "markdown",
      "source": [
        "**SVM Model Building and comptuting the Accuracy, Precision ans Recall**"
      ],
      "metadata": {
        "id": "Fph50G04-SXb"
      }
    },
    {
      "cell_type": "code",
      "source": [
        "from sklearn.metrics import precision_score, recall_score,accuracy_score\n",
        "\n",
        "def do_evaluation (pairs, pos_label='pos', verbose=True):\n",
        "    predicted, actual = zip(*pairs)\n",
        "    (precision, recall,accuracy) = (precision_score(actual,predicted,pos_label=pos_label),\n",
        "                                    recall_score(actual,predicted,pos_label=pos_label),\n",
        "                                    accuracy_score(actual,predicted))\n",
        "    if verbose:\n",
        "        print_results(precision, recall, accuracy, pos_label)\n",
        "    return (precision, recall,accuracy)\n",
        "\n",
        "def print_results (precision, recall, accuracy, pos_label):\n",
        "    banner =  'Evaluation with pos label = %s' % pos_label\n",
        "    print()\n",
        "    print(banner)\n",
        "    print('=' * len(banner))\n",
        "    print('{0:10s} {1:.1f}'.format('Precision',precision*100))\n",
        "    print('{0:10s} {1:.1f}'.format('Recall',recall*100))\n",
        "    print('{0:10s} {1:.1f}'.format('Accuracy',accuracy*100))"
      ],
      "metadata": {
        "id": "XnjIWvvQHhgd"
      },
      "execution_count": 161,
      "outputs": []
    },
    {
      "cell_type": "code",
      "source": [
        "import os.path \n",
        "\n",
        "clf = LinearSVC(loss='squared_hinge', penalty=\"l2\", dual=False, tol=1e-3)\n",
        "clf.fit(X_train, y_train)\n",
        "# Test the model on the test data.\n",
        "predicted_labels = clf.predict(X_test)\n",
        "\n",
        "pos_guesses = [p for p in predicted_labels if p=='pos']\n",
        "pos_actual = [p for p in y_test if p=='pos']\n",
        "\n",
        "print('Note that {:.1%} of our classifier guesses were positive', format(float(len(pos_guesses))/len(y_test)))\n",
        "print('While {:.1%} of the reviews were actually positive', format(float(len(pos_actual))/len(y_test)))\n",
        "do_evaluation(zip(predicted_labels,y_test), pos_label='pos', verbose=True)\n",
        "do_evaluation (zip(predicted_labels,y_test), pos_label= 'neg', verbose=True)"
      ],
      "metadata": {
        "id": "YybrQ_bd-QD5",
        "outputId": "f72f0ee4-36dd-44ea-c7a7-9b8fe0fb5e00",
        "colab": {
          "base_uri": "https://localhost:8080/"
        }
      },
      "execution_count": 162,
      "outputs": [
        {
          "output_type": "stream",
          "name": "stdout",
          "text": [
            "Note that {:.1%} of our classifier guesses were positive 0.55\n",
            "While {:.1%} of the reviews were actually positive 0.53\n",
            "\n",
            "Evaluation with pos label = pos\n",
            "===============================\n",
            "Precision  82.7\n",
            "Recall     85.8\n",
            "Accuracy   83.0\n",
            "\n",
            "Evaluation with pos label = neg\n",
            "===============================\n",
            "Precision  83.3\n",
            "Recall     79.8\n",
            "Accuracy   83.0\n"
          ]
        },
        {
          "output_type": "execute_result",
          "data": {
            "text/plain": [
              "(0.8333333333333334, 0.7978723404255319, 0.83)"
            ]
          },
          "metadata": {},
          "execution_count": 162
        }
      ]
    },
    {
      "cell_type": "code",
      "source": [
        "svm_clf = LinearSVC(loss='squared_hinge', penalty=\"l2\", dual=False, tol=1e-3)\n",
        "svm_clf.fit(X_train, y_train)\n",
        "\n",
        "svm_accuracy = svm_clf.score(X_test, y_test)\n",
        "print(\"Accuracy Score for SVM: \", svm_accuracy)"
      ],
      "metadata": {
        "colab": {
          "base_uri": "https://localhost:8080/"
        },
        "id": "Ac2o4SrKJUb6",
        "outputId": "bca4dd7d-fc71-4a4f-8861-e6c3f8c39e18"
      },
      "execution_count": 163,
      "outputs": [
        {
          "output_type": "stream",
          "name": "stdout",
          "text": [
            "Accuracy Score for SVM:  0.83\n"
          ]
        }
      ]
    },
    {
      "cell_type": "markdown",
      "source": [
        "**Bernoulli Naive Bayes classifier Building and comptuting the Accuracy, Precision ans Recall**"
      ],
      "metadata": {
        "id": "wJdAugg0_rgH"
      }
    },
    {
      "cell_type": "code",
      "source": [
        "import os.path\n",
        "\n",
        "clf_nb =nb.BernoulliNB()\n",
        "\n",
        "clf_nb.fit(X_train, y_train)\n",
        "# Test the model on the test data.\n",
        "predicted_labels = clf_nb.predict(X_test)\n",
        "\n",
        "pos_guesses = [p for p in predicted_labels if p=='pos']\n",
        "pos_actual = [p for p in y_test if p=='pos']\n",
        "\n",
        "print('Note that {:.1%} of our classifier guesses were positive', format(float(len(pos_guesses))/len(y_test)))\n",
        "print('While {:.1%} of the reviews were actually positive', format(float(len(pos_actual))/len(y_test)))\n",
        "do_evaluation(zip(predicted_labels,y_test), pos_label='pos', verbose=True)\n",
        "do_evaluation (zip(predicted_labels,y_test), pos_label= 'neg', verbose=True)"
      ],
      "metadata": {
        "id": "J5lPfb7V_oZZ",
        "outputId": "37b766cc-0892-4a05-bba1-7e511c376008",
        "colab": {
          "base_uri": "https://localhost:8080/"
        }
      },
      "execution_count": 164,
      "outputs": [
        {
          "output_type": "stream",
          "name": "stdout",
          "text": [
            "Note that {:.1%} of our classifier guesses were positive 0.38\n",
            "While {:.1%} of the reviews were actually positive 0.53\n",
            "\n",
            "Evaluation with pos label = pos\n",
            "===============================\n",
            "Precision  86.8\n",
            "Recall     62.3\n",
            "Accuracy   75.0\n",
            "\n",
            "Evaluation with pos label = neg\n",
            "===============================\n",
            "Precision  67.7\n",
            "Recall     89.4\n",
            "Accuracy   75.0\n"
          ]
        },
        {
          "output_type": "execute_result",
          "data": {
            "text/plain": [
              "(0.6774193548387096, 0.8936170212765957, 0.75)"
            ]
          },
          "metadata": {},
          "execution_count": 164
        }
      ]
    },
    {
      "cell_type": "code",
      "source": [
        "nb_clf = nb.BernoulliNB()\n",
        "nb_clf.fit(X_train, y_train)\n",
        "\n",
        "nb_accuracy = nb_clf.score(X_test, y_test)\n",
        "print(\"Accuracy Score for Bernoulli Naive Bayes : \", nb_accuracy)"
      ],
      "metadata": {
        "colab": {
          "base_uri": "https://localhost:8080/"
        },
        "id": "VC4OZ5xpKu2S",
        "outputId": "1d97d9f5-d7d6-496f-8088-b6bdbd5e1baa"
      },
      "execution_count": 165,
      "outputs": [
        {
          "output_type": "stream",
          "name": "stdout",
          "text": [
            "Accuracy Score for Bernoulli Naive Bayes :  0.75\n"
          ]
        }
      ]
    },
    {
      "cell_type": "markdown",
      "source": [
        "\n",
        "**The SVM Classifier works better for movie reviews classification, since it has the better accuracy**"
      ],
      "metadata": {
        "id": "J-aqKPUpBMCN"
      }
    },
    {
      "cell_type": "markdown",
      "source": [
        "###  Summary for step 3:  The basic training of the vectorizer and the classifier."
      ],
      "metadata": {
        "id": "_hXTXN1JRMmg"
      }
    },
    {
      "cell_type": "code",
      "source": [
        "# what we did above\n",
        "#tf = text.TfidfVectorizer()\n",
        "#X = tf.fit_transform(df['Comment'])\n",
        "\n",
        "#Edit the next line to train your TFIDF vectorizer\n",
        "# of you training set\n",
        "#X = tf.fit_transform(...)"
      ],
      "metadata": {
        "id": "K6xFV_jtKqHe"
      },
      "execution_count": 166,
      "outputs": []
    }
  ],
  "metadata": {
    "kernelspec": {
      "display_name": "Python 3",
      "language": "python",
      "name": "python3"
    },
    "language_info": {
      "codemirror_mode": {
        "name": "ipython",
        "version": 3
      },
      "file_extension": ".py",
      "mimetype": "text/x-python",
      "name": "python",
      "nbconvert_exporter": "python",
      "pygments_lexer": "ipython3",
      "version": "3.7.0"
    },
    "toc": {
      "base_numbering": 1,
      "nav_menu": {
        "height": "94px",
        "width": "252px"
      },
      "number_sections": true,
      "sideBar": true,
      "skip_h1_title": false,
      "title_cell": "Table of Contents",
      "title_sidebar": "Contents",
      "toc_cell": false,
      "toc_position": {},
      "toc_section_display": "block",
      "toc_window_display": false
    },
    "colab": {
      "name": "Insults_with_Naive_Bayes.ipynb",
      "provenance": []
    }
  },
  "nbformat": 4,
  "nbformat_minor": 0
}